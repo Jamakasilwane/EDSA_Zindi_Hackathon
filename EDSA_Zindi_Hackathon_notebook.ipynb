{
  "nbformat": 4,
  "nbformat_minor": 0,
  "metadata": {
    "colab": {
      "name": "EDSA_Zindi_Hackathon.ipynb",
      "provenance": [],
      "include_colab_link": true
    },
    "kernelspec": {
      "name": "python3",
      "display_name": "Python 3"
    }
  },
  "cells": [
    {
      "cell_type": "markdown",
      "metadata": {
        "id": "view-in-github",
        "colab_type": "text"
      },
      "source": [
        "<a href=\"https://colab.research.google.com/github/Jamakasilwane/EDSA_Zindi_Hackathon/blob/master/EDSA_Zindi_Hackathon_notebook.ipynb\" target=\"_parent\"><img src=\"https://colab.research.google.com/assets/colab-badge.svg\" alt=\"Open In Colab\"/></a>"
      ]
    },
    {
      "cell_type": "markdown",
      "metadata": {
        "id": "Sk8M7_I2Ze1P",
        "colab_type": "text"
      },
      "source": [
        "# **EDSA-Zindi Hackathon Notebook**"
      ]
    },
    {
      "cell_type": "markdown",
      "metadata": {
        "id": "of0IXwwZbxwX",
        "colab_type": "text"
      },
      "source": [
        "# Introduction"
      ]
    },
    {
      "cell_type": "markdown",
      "metadata": {
        "id": "q91BFbW4X_sh",
        "colab_type": "text"
      },
      "source": [
        "The following is the machine Learning problem from the Sendy Logistics Challenge from one of the Zindi hosted hackathons. Zindi is the platform that hosts several or different Machine Learning Hackathons around the Africa Continent and with Sendy Logistics this Machine learning Hackathon is for the EDSA Explore Data-Science Academy Students that are currently enrolled for 2020 Academic Year.\n",
        "\n",
        "Sendy Logistics Company helps Clients/Customers to trade easily, deliver more competetive and build extraordinary businesses by transporting different kind of packages or deliveries from one point to another point efficiently. This Machine Learning problem is to solve the efficiency of Sendy's services and to better communication to the customers.\n",
        "\n",
        "The Machine Learning Challenge hosted on Zindi by Sendy is detailed as following : \n",
        "\n",
        "Each Team or Student from EDSA Explore Data-Science Academy should build a Machine Learning model that predict the estimated time it will take the delivery of the order to arrive from the point of pickup to the arrival destination.\n",
        "\n"
      ]
    },
    {
      "cell_type": "markdown",
      "metadata": {
        "id": "jZT51093cAhy",
        "colab_type": "text"
      },
      "source": [
        "# Data Preprocessing"
      ]
    },
    {
      "cell_type": "markdown",
      "metadata": {
        "id": "mftHi5y1Zrd9",
        "colab_type": "text"
      },
      "source": [
        "## Importing Libraries"
      ]
    },
    {
      "cell_type": "code",
      "metadata": {
        "id": "C_sxBoBFIPuc",
        "colab_type": "code",
        "colab": {}
      },
      "source": [
        "import numpy as np\n",
        "import pandas as pd\n",
        "import matplotlib.pyplot as plt\n",
        "%matplotlib inline\n",
        "import seaborn as sns\n",
        "from IPython.core.pylabtools import figsize\n",
        "from sklearn.impute import SimpleImputer\n",
        "from sklearn.preprocessing import StandardScaler\n",
        "from sklearn.linear_model import LinearRegression\n",
        "from sklearn.metrics import mean_squared_error\n",
        "import pickle"
      ],
      "execution_count": 0,
      "outputs": []
    },
    {
      "cell_type": "markdown",
      "metadata": {
        "id": "FmrAMSHOaFMD",
        "colab_type": "text"
      },
      "source": [
        "## Importing the dataset"
      ]
    },
    {
      "cell_type": "markdown",
      "metadata": {
        "id": "4QT1FudEX_sn",
        "colab_type": "text"
      },
      "source": [
        "The following is the imported Data for Training the Machine Learning Model to predict the estimated time a delivery will take from one point to another point with full detail of each Dataset :\n",
        "\n",
        "1. Train.csv { Dataset that contains all the variables that should be used to train the model to predict the estimated time. }\n",
        "2. Test.csv  { Dataset that contains variables that will be used to test the model's accuracy in predicting the estimated time. }\n",
        "3. SampleSubmission.csv {Sample of the Submission's expectation of the model trained for this Machine Learning problem. }\n",
        "4. variableDefinitions.csv  {Dataset that contains all the definition of the whole data provided in details and gives more clarity of the data. }\n"
      ]
    },
    {
      "cell_type": "code",
      "metadata": {
        "id": "pcZbUrwUIrtA",
        "colab_type": "code",
        "colab": {}
      },
      "source": [
        "dataset_train = pd.read_csv(\"https://raw.githubusercontent.com/Jamakasilwane/EDSA_Zindi_Hackathon/master/Data/Train.csv\")\n",
        "dataset_test = pd.read_csv(\"https://raw.githubusercontent.com/Jamakasilwane/EDSA_Zindi_Hackathon/master/Data/Test.csv\")\n",
        "dataset_sample = pd.read_csv(\"https://raw.githubusercontent.com/Jamakasilwane/EDSA_Zindi_Hackathon/master/Data/SampleSubmission.csv\")\n",
        "var = pd.read_csv('https://raw.githubusercontent.com/Jamakasilwane/EDSA_Zindi_Hackathon/master/Data/VariableDefinitions.csv')"
      ],
      "execution_count": 0,
      "outputs": []
    },
    {
      "cell_type": "markdown",
      "metadata": {
        "id": "t4Vcd1SwX_sr",
        "colab_type": "text"
      },
      "source": [
        "## Data Cleaning and Formatting"
      ]
    },
    {
      "cell_type": "markdown",
      "metadata": {
        "id": "CDd4TDUBqhsQ",
        "colab_type": "text"
      },
      "source": [
        "The following section looks at information which pertains to both the training and testing datasets. It looks at the columns data types as check whether they correspond with what each column shows. We also Check for missig values in the datasets. "
      ]
    },
    {
      "cell_type": "code",
      "metadata": {
        "id": "MdsyQ4eKX_ss",
        "colab_type": "code",
        "outputId": "a8cfb0ea-f945-41e5-f415-62c07a8273a7",
        "colab": {
          "base_uri": "https://localhost:8080/",
          "height": 267
        }
      },
      "source": [
        "dataset_train.head(2)"
      ],
      "execution_count": 54,
      "outputs": [
        {
          "output_type": "execute_result",
          "data": {
            "text/html": [
              "<div>\n",
              "<style scoped>\n",
              "    .dataframe tbody tr th:only-of-type {\n",
              "        vertical-align: middle;\n",
              "    }\n",
              "\n",
              "    .dataframe tbody tr th {\n",
              "        vertical-align: top;\n",
              "    }\n",
              "\n",
              "    .dataframe thead th {\n",
              "        text-align: right;\n",
              "    }\n",
              "</style>\n",
              "<table border=\"1\" class=\"dataframe\">\n",
              "  <thead>\n",
              "    <tr style=\"text-align: right;\">\n",
              "      <th></th>\n",
              "      <th>Order No</th>\n",
              "      <th>User Id</th>\n",
              "      <th>Vehicle Type</th>\n",
              "      <th>Platform Type</th>\n",
              "      <th>Personal or Business</th>\n",
              "      <th>Placement - Day of Month</th>\n",
              "      <th>Placement - Weekday (Mo = 1)</th>\n",
              "      <th>Placement - Time</th>\n",
              "      <th>Confirmation - Day of Month</th>\n",
              "      <th>Confirmation - Weekday (Mo = 1)</th>\n",
              "      <th>Confirmation - Time</th>\n",
              "      <th>Arrival at Pickup - Day of Month</th>\n",
              "      <th>Arrival at Pickup - Weekday (Mo = 1)</th>\n",
              "      <th>Arrival at Pickup - Time</th>\n",
              "      <th>Pickup - Day of Month</th>\n",
              "      <th>Pickup - Weekday (Mo = 1)</th>\n",
              "      <th>Pickup - Time</th>\n",
              "      <th>Arrival at Destination - Day of Month</th>\n",
              "      <th>Arrival at Destination - Weekday (Mo = 1)</th>\n",
              "      <th>Arrival at Destination - Time</th>\n",
              "      <th>Distance (KM)</th>\n",
              "      <th>Temperature</th>\n",
              "      <th>Precipitation in millimeters</th>\n",
              "      <th>Pickup Lat</th>\n",
              "      <th>Pickup Long</th>\n",
              "      <th>Destination Lat</th>\n",
              "      <th>Destination Long</th>\n",
              "      <th>Rider Id</th>\n",
              "      <th>Time from Pickup to Arrival</th>\n",
              "    </tr>\n",
              "  </thead>\n",
              "  <tbody>\n",
              "    <tr>\n",
              "      <th>0</th>\n",
              "      <td>Order_No_4211</td>\n",
              "      <td>User_Id_633</td>\n",
              "      <td>Bike</td>\n",
              "      <td>3</td>\n",
              "      <td>Business</td>\n",
              "      <td>9</td>\n",
              "      <td>5</td>\n",
              "      <td>9:35:46 AM</td>\n",
              "      <td>9</td>\n",
              "      <td>5</td>\n",
              "      <td>9:40:10 AM</td>\n",
              "      <td>9</td>\n",
              "      <td>5</td>\n",
              "      <td>10:04:47 AM</td>\n",
              "      <td>9</td>\n",
              "      <td>5</td>\n",
              "      <td>10:27:30 AM</td>\n",
              "      <td>9</td>\n",
              "      <td>5</td>\n",
              "      <td>10:39:55 AM</td>\n",
              "      <td>4</td>\n",
              "      <td>20.4</td>\n",
              "      <td>NaN</td>\n",
              "      <td>-1.317755</td>\n",
              "      <td>36.830370</td>\n",
              "      <td>-1.300406</td>\n",
              "      <td>36.829741</td>\n",
              "      <td>Rider_Id_432</td>\n",
              "      <td>745</td>\n",
              "    </tr>\n",
              "    <tr>\n",
              "      <th>1</th>\n",
              "      <td>Order_No_25375</td>\n",
              "      <td>User_Id_2285</td>\n",
              "      <td>Bike</td>\n",
              "      <td>3</td>\n",
              "      <td>Personal</td>\n",
              "      <td>12</td>\n",
              "      <td>5</td>\n",
              "      <td>11:16:16 AM</td>\n",
              "      <td>12</td>\n",
              "      <td>5</td>\n",
              "      <td>11:23:21 AM</td>\n",
              "      <td>12</td>\n",
              "      <td>5</td>\n",
              "      <td>11:40:22 AM</td>\n",
              "      <td>12</td>\n",
              "      <td>5</td>\n",
              "      <td>11:44:09 AM</td>\n",
              "      <td>12</td>\n",
              "      <td>5</td>\n",
              "      <td>12:17:22 PM</td>\n",
              "      <td>16</td>\n",
              "      <td>26.4</td>\n",
              "      <td>NaN</td>\n",
              "      <td>-1.351453</td>\n",
              "      <td>36.899315</td>\n",
              "      <td>-1.295004</td>\n",
              "      <td>36.814358</td>\n",
              "      <td>Rider_Id_856</td>\n",
              "      <td>1993</td>\n",
              "    </tr>\n",
              "  </tbody>\n",
              "</table>\n",
              "</div>"
            ],
            "text/plain": [
              "         Order No       User Id  ...      Rider Id  Time from Pickup to Arrival\n",
              "0   Order_No_4211   User_Id_633  ...  Rider_Id_432                          745\n",
              "1  Order_No_25375  User_Id_2285  ...  Rider_Id_856                         1993\n",
              "\n",
              "[2 rows x 29 columns]"
            ]
          },
          "metadata": {
            "tags": []
          },
          "execution_count": 54
        }
      ]
    },
    {
      "cell_type": "code",
      "metadata": {
        "id": "Cg0ogBLVX_sv",
        "colab_type": "code",
        "outputId": "0e6b3acd-1d30-457b-e3f7-bc13bc80ca7f",
        "colab": {
          "base_uri": "https://localhost:8080/",
          "height": 629
        }
      },
      "source": [
        "#Checking the dataset_train information\n",
        "dataset_train.info()"
      ],
      "execution_count": 55,
      "outputs": [
        {
          "output_type": "stream",
          "text": [
            "<class 'pandas.core.frame.DataFrame'>\n",
            "RangeIndex: 21201 entries, 0 to 21200\n",
            "Data columns (total 29 columns):\n",
            " #   Column                                     Non-Null Count  Dtype  \n",
            "---  ------                                     --------------  -----  \n",
            " 0   Order No                                   21201 non-null  object \n",
            " 1   User Id                                    21201 non-null  object \n",
            " 2   Vehicle Type                               21201 non-null  object \n",
            " 3   Platform Type                              21201 non-null  int64  \n",
            " 4   Personal or Business                       21201 non-null  object \n",
            " 5   Placement - Day of Month                   21201 non-null  int64  \n",
            " 6   Placement - Weekday (Mo = 1)               21201 non-null  int64  \n",
            " 7   Placement - Time                           21201 non-null  object \n",
            " 8   Confirmation - Day of Month                21201 non-null  int64  \n",
            " 9   Confirmation - Weekday (Mo = 1)            21201 non-null  int64  \n",
            " 10  Confirmation - Time                        21201 non-null  object \n",
            " 11  Arrival at Pickup - Day of Month           21201 non-null  int64  \n",
            " 12  Arrival at Pickup - Weekday (Mo = 1)       21201 non-null  int64  \n",
            " 13  Arrival at Pickup - Time                   21201 non-null  object \n",
            " 14  Pickup - Day of Month                      21201 non-null  int64  \n",
            " 15  Pickup - Weekday (Mo = 1)                  21201 non-null  int64  \n",
            " 16  Pickup - Time                              21201 non-null  object \n",
            " 17  Arrival at Destination - Day of Month      21201 non-null  int64  \n",
            " 18  Arrival at Destination - Weekday (Mo = 1)  21201 non-null  int64  \n",
            " 19  Arrival at Destination - Time              21201 non-null  object \n",
            " 20  Distance (KM)                              21201 non-null  int64  \n",
            " 21  Temperature                                16835 non-null  float64\n",
            " 22  Precipitation in millimeters               552 non-null    float64\n",
            " 23  Pickup Lat                                 21201 non-null  float64\n",
            " 24  Pickup Long                                21201 non-null  float64\n",
            " 25  Destination Lat                            21201 non-null  float64\n",
            " 26  Destination Long                           21201 non-null  float64\n",
            " 27  Rider Id                                   21201 non-null  object \n",
            " 28  Time from Pickup to Arrival                21201 non-null  int64  \n",
            "dtypes: float64(6), int64(13), object(10)\n",
            "memory usage: 4.7+ MB\n"
          ],
          "name": "stdout"
        }
      ]
    },
    {
      "cell_type": "code",
      "metadata": {
        "id": "NMHeTn66X_sz",
        "colab_type": "code",
        "outputId": "fd104912-5cdf-44a9-990c-50bb080aa100",
        "colab": {
          "base_uri": "https://localhost:8080/",
          "height": 561
        }
      },
      "source": [
        "dataset_test.info()"
      ],
      "execution_count": 56,
      "outputs": [
        {
          "output_type": "stream",
          "text": [
            "<class 'pandas.core.frame.DataFrame'>\n",
            "RangeIndex: 7068 entries, 0 to 7067\n",
            "Data columns (total 25 columns):\n",
            " #   Column                                Non-Null Count  Dtype  \n",
            "---  ------                                --------------  -----  \n",
            " 0   Order No                              7068 non-null   object \n",
            " 1   User Id                               7068 non-null   object \n",
            " 2   Vehicle Type                          7068 non-null   object \n",
            " 3   Platform Type                         7068 non-null   int64  \n",
            " 4   Personal or Business                  7068 non-null   object \n",
            " 5   Placement - Day of Month              7068 non-null   int64  \n",
            " 6   Placement - Weekday (Mo = 1)          7068 non-null   int64  \n",
            " 7   Placement - Time                      7068 non-null   object \n",
            " 8   Confirmation - Day of Month           7068 non-null   int64  \n",
            " 9   Confirmation - Weekday (Mo = 1)       7068 non-null   int64  \n",
            " 10  Confirmation - Time                   7068 non-null   object \n",
            " 11  Arrival at Pickup - Day of Month      7068 non-null   int64  \n",
            " 12  Arrival at Pickup - Weekday (Mo = 1)  7068 non-null   int64  \n",
            " 13  Arrival at Pickup - Time              7068 non-null   object \n",
            " 14  Pickup - Day of Month                 7068 non-null   int64  \n",
            " 15  Pickup - Weekday (Mo = 1)             7068 non-null   int64  \n",
            " 16  Pickup - Time                         7068 non-null   object \n",
            " 17  Distance (KM)                         7068 non-null   int64  \n",
            " 18  Temperature                           5631 non-null   float64\n",
            " 19  Precipitation in millimeters          199 non-null    float64\n",
            " 20  Pickup Lat                            7068 non-null   float64\n",
            " 21  Pickup Long                           7068 non-null   float64\n",
            " 22  Destination Lat                       7068 non-null   float64\n",
            " 23  Destination Long                      7068 non-null   float64\n",
            " 24  Rider Id                              7068 non-null   object \n",
            "dtypes: float64(6), int64(10), object(9)\n",
            "memory usage: 1.3+ MB\n"
          ],
          "name": "stdout"
        }
      ]
    },
    {
      "cell_type": "markdown",
      "metadata": {
        "id": "4Eodz6-7X_s1",
        "colab_type": "text"
      },
      "source": [
        "Looking at the datasets information, there are few data types which are incorrectly formatted. This includes:\n",
        "\n",
        "*   Placement - Time\n",
        "*   Confirmation - Time\n",
        "*   Arrival at Pickup - Time\n",
        "*   Pickup - Time\n",
        "\n",
        " "
      ]
    },
    {
      "cell_type": "markdown",
      "metadata": {
        "id": "s1ZP0z3GgWBG",
        "colab_type": "text"
      },
      "source": [
        "### Changing Time Columns Types Into Datetime"
      ]
    },
    {
      "cell_type": "markdown",
      "metadata": {
        "id": "vSO_orUsgymM",
        "colab_type": "text"
      },
      "source": [
        "The aforementioned columns above should be in a datetime format but they have been declared as object types. The function below converts all type columns into the correct type format (datetime)."
      ]
    },
    {
      "cell_type": "code",
      "metadata": {
        "id": "rx7jaiZ2X_s2",
        "colab_type": "code",
        "colab": {}
      },
      "source": [
        "#changing the data type of columns containing Time in the both train & test dataset\n",
        "data = dataset_train.iloc[:,:-2].columns\n",
        "for col in list(data):\n",
        "    if 'Time' in col:\n",
        "        dataset_train[col] = pd.to_datetime(dataset_train[col])\n",
        "for col in list(dataset_test):\n",
        "    if 'Time' in col:\n",
        "        dataset_test[col] = pd.to_datetime(dataset_test[col])      "
      ],
      "execution_count": 0,
      "outputs": []
    },
    {
      "cell_type": "markdown",
      "metadata": {
        "id": "6udjQG00bhDc",
        "colab_type": "text"
      },
      "source": [
        "### Checking for missing values"
      ]
    },
    {
      "cell_type": "markdown",
      "metadata": {
        "id": "21bA9Dv4kUzf",
        "colab_type": "text"
      },
      "source": [
        "Since we now have the correct format of all the data types in the training data set, we then start to analyse the information variables containing numeric values. This includes checking for missing values and their percentage (%). From the data below, 'Temperature' and 'Precipitation in millimeters' columns have the the highest missing values in both datasets with 20% and 97.40% respectively."
      ]
    },
    {
      "cell_type": "code",
      "metadata": {
        "id": "37_fg1OUX_s6",
        "colab_type": "code",
        "outputId": "7ced3419-49be-4ccb-f526-835665c13e70",
        "colab": {
          "base_uri": "https://localhost:8080/",
          "height": 527
        }
      },
      "source": [
        "#looking at the missing values in each column\n",
        "dataset_train.isnull().sum()"
      ],
      "execution_count": 58,
      "outputs": [
        {
          "output_type": "execute_result",
          "data": {
            "text/plain": [
              "Order No                                         0\n",
              "User Id                                          0\n",
              "Vehicle Type                                     0\n",
              "Platform Type                                    0\n",
              "Personal or Business                             0\n",
              "Placement - Day of Month                         0\n",
              "Placement - Weekday (Mo = 1)                     0\n",
              "Placement - Time                                 0\n",
              "Confirmation - Day of Month                      0\n",
              "Confirmation - Weekday (Mo = 1)                  0\n",
              "Confirmation - Time                              0\n",
              "Arrival at Pickup - Day of Month                 0\n",
              "Arrival at Pickup - Weekday (Mo = 1)             0\n",
              "Arrival at Pickup - Time                         0\n",
              "Pickup - Day of Month                            0\n",
              "Pickup - Weekday (Mo = 1)                        0\n",
              "Pickup - Time                                    0\n",
              "Arrival at Destination - Day of Month            0\n",
              "Arrival at Destination - Weekday (Mo = 1)        0\n",
              "Arrival at Destination - Time                    0\n",
              "Distance (KM)                                    0\n",
              "Temperature                                   4366\n",
              "Precipitation in millimeters                 20649\n",
              "Pickup Lat                                       0\n",
              "Pickup Long                                      0\n",
              "Destination Lat                                  0\n",
              "Destination Long                                 0\n",
              "Rider Id                                         0\n",
              "Time from Pickup to Arrival                      0\n",
              "dtype: int64"
            ]
          },
          "metadata": {
            "tags": []
          },
          "execution_count": 58
        }
      ]
    },
    {
      "cell_type": "code",
      "metadata": {
        "id": "jVC_PsYKkcqJ",
        "colab_type": "code",
        "outputId": "135f381e-f265-49f4-e271-fa778cb84b5a",
        "colab": {
          "base_uri": "https://localhost:8080/",
          "height": 68
        }
      },
      "source": [
        "#Checking the percetage of the missing values\n",
        "round(dataset_train[['Temperature','Precipitation in millimeters']].isnull().sum()*100/len(dataset_train),2)"
      ],
      "execution_count": 59,
      "outputs": [
        {
          "output_type": "execute_result",
          "data": {
            "text/plain": [
              "Temperature                     20.59\n",
              "Precipitation in millimeters    97.40\n",
              "dtype: float64"
            ]
          },
          "metadata": {
            "tags": []
          },
          "execution_count": 59
        }
      ]
    },
    {
      "cell_type": "markdown",
      "metadata": {
        "id": "P_aHAYfkX_s_",
        "colab_type": "text"
      },
      "source": [
        "## Exploratory Data Analysis"
      ]
    },
    {
      "cell_type": "markdown",
      "metadata": {
        "id": "dxz2xio4X_tA",
        "colab_type": "text"
      },
      "source": [
        "Exploratory Data Analysis is the most important part in both Supervised and Unsupervised Machine Learning. Our eyes can draw few insights by looking at the details of the data provided in the form of the Table or Text file or Sequence File. Although that only gives us the overview of the Ground Truth of the provided data,thus that is why Exploratory Data Analysis is very important. It makes us to look deep in the data provided using different kind of data representations. We get to compare Variables/Columns of the Data provided and also get to plot different Graphs to visualize between certain Variables or visualize the Variable on it own.\n",
        "\n",
        "In the following Section we will be looking deep on certain Variables and intuively deciding on Variables to use for training our model for the predictions. We start by looking at the Statistics Description of the few Variables."
      ]
    },
    {
      "cell_type": "code",
      "metadata": {
        "id": "JV9kIywBX_tF",
        "colab_type": "code",
        "outputId": "6c277ad0-a128-4881-c5fa-f64cd2ab82f0",
        "colab": {
          "base_uri": "https://localhost:8080/",
          "height": 638
        }
      },
      "source": [
        "#checking the statistics description for the training dataset\n",
        "round(dataset_train.describe().T,2)"
      ],
      "execution_count": 60,
      "outputs": [
        {
          "output_type": "execute_result",
          "data": {
            "text/html": [
              "<div>\n",
              "<style scoped>\n",
              "    .dataframe tbody tr th:only-of-type {\n",
              "        vertical-align: middle;\n",
              "    }\n",
              "\n",
              "    .dataframe tbody tr th {\n",
              "        vertical-align: top;\n",
              "    }\n",
              "\n",
              "    .dataframe thead th {\n",
              "        text-align: right;\n",
              "    }\n",
              "</style>\n",
              "<table border=\"1\" class=\"dataframe\">\n",
              "  <thead>\n",
              "    <tr style=\"text-align: right;\">\n",
              "      <th></th>\n",
              "      <th>count</th>\n",
              "      <th>mean</th>\n",
              "      <th>std</th>\n",
              "      <th>min</th>\n",
              "      <th>25%</th>\n",
              "      <th>50%</th>\n",
              "      <th>75%</th>\n",
              "      <th>max</th>\n",
              "    </tr>\n",
              "  </thead>\n",
              "  <tbody>\n",
              "    <tr>\n",
              "      <th>Platform Type</th>\n",
              "      <td>21201.0</td>\n",
              "      <td>2.75</td>\n",
              "      <td>0.63</td>\n",
              "      <td>1.00</td>\n",
              "      <td>3.00</td>\n",
              "      <td>3.00</td>\n",
              "      <td>3.00</td>\n",
              "      <td>4.00</td>\n",
              "    </tr>\n",
              "    <tr>\n",
              "      <th>Placement - Day of Month</th>\n",
              "      <td>21201.0</td>\n",
              "      <td>15.65</td>\n",
              "      <td>8.80</td>\n",
              "      <td>1.00</td>\n",
              "      <td>8.00</td>\n",
              "      <td>15.00</td>\n",
              "      <td>23.00</td>\n",
              "      <td>31.00</td>\n",
              "    </tr>\n",
              "    <tr>\n",
              "      <th>Placement - Weekday (Mo = 1)</th>\n",
              "      <td>21201.0</td>\n",
              "      <td>3.24</td>\n",
              "      <td>1.57</td>\n",
              "      <td>1.00</td>\n",
              "      <td>2.00</td>\n",
              "      <td>3.00</td>\n",
              "      <td>5.00</td>\n",
              "      <td>7.00</td>\n",
              "    </tr>\n",
              "    <tr>\n",
              "      <th>Confirmation - Day of Month</th>\n",
              "      <td>21201.0</td>\n",
              "      <td>15.65</td>\n",
              "      <td>8.80</td>\n",
              "      <td>1.00</td>\n",
              "      <td>8.00</td>\n",
              "      <td>15.00</td>\n",
              "      <td>23.00</td>\n",
              "      <td>31.00</td>\n",
              "    </tr>\n",
              "    <tr>\n",
              "      <th>Confirmation - Weekday (Mo = 1)</th>\n",
              "      <td>21201.0</td>\n",
              "      <td>3.24</td>\n",
              "      <td>1.57</td>\n",
              "      <td>1.00</td>\n",
              "      <td>2.00</td>\n",
              "      <td>3.00</td>\n",
              "      <td>5.00</td>\n",
              "      <td>7.00</td>\n",
              "    </tr>\n",
              "    <tr>\n",
              "      <th>Arrival at Pickup - Day of Month</th>\n",
              "      <td>21201.0</td>\n",
              "      <td>15.65</td>\n",
              "      <td>8.80</td>\n",
              "      <td>1.00</td>\n",
              "      <td>8.00</td>\n",
              "      <td>15.00</td>\n",
              "      <td>23.00</td>\n",
              "      <td>31.00</td>\n",
              "    </tr>\n",
              "    <tr>\n",
              "      <th>Arrival at Pickup - Weekday (Mo = 1)</th>\n",
              "      <td>21201.0</td>\n",
              "      <td>3.24</td>\n",
              "      <td>1.57</td>\n",
              "      <td>1.00</td>\n",
              "      <td>2.00</td>\n",
              "      <td>3.00</td>\n",
              "      <td>5.00</td>\n",
              "      <td>7.00</td>\n",
              "    </tr>\n",
              "    <tr>\n",
              "      <th>Pickup - Day of Month</th>\n",
              "      <td>21201.0</td>\n",
              "      <td>15.65</td>\n",
              "      <td>8.80</td>\n",
              "      <td>1.00</td>\n",
              "      <td>8.00</td>\n",
              "      <td>15.00</td>\n",
              "      <td>23.00</td>\n",
              "      <td>31.00</td>\n",
              "    </tr>\n",
              "    <tr>\n",
              "      <th>Pickup - Weekday (Mo = 1)</th>\n",
              "      <td>21201.0</td>\n",
              "      <td>3.24</td>\n",
              "      <td>1.57</td>\n",
              "      <td>1.00</td>\n",
              "      <td>2.00</td>\n",
              "      <td>3.00</td>\n",
              "      <td>5.00</td>\n",
              "      <td>7.00</td>\n",
              "    </tr>\n",
              "    <tr>\n",
              "      <th>Arrival at Destination - Day of Month</th>\n",
              "      <td>21201.0</td>\n",
              "      <td>15.65</td>\n",
              "      <td>8.80</td>\n",
              "      <td>1.00</td>\n",
              "      <td>8.00</td>\n",
              "      <td>15.00</td>\n",
              "      <td>23.00</td>\n",
              "      <td>31.00</td>\n",
              "    </tr>\n",
              "    <tr>\n",
              "      <th>Arrival at Destination - Weekday (Mo = 1)</th>\n",
              "      <td>21201.0</td>\n",
              "      <td>3.24</td>\n",
              "      <td>1.57</td>\n",
              "      <td>1.00</td>\n",
              "      <td>2.00</td>\n",
              "      <td>3.00</td>\n",
              "      <td>5.00</td>\n",
              "      <td>7.00</td>\n",
              "    </tr>\n",
              "    <tr>\n",
              "      <th>Distance (KM)</th>\n",
              "      <td>21201.0</td>\n",
              "      <td>9.51</td>\n",
              "      <td>5.67</td>\n",
              "      <td>1.00</td>\n",
              "      <td>5.00</td>\n",
              "      <td>8.00</td>\n",
              "      <td>13.00</td>\n",
              "      <td>49.00</td>\n",
              "    </tr>\n",
              "    <tr>\n",
              "      <th>Temperature</th>\n",
              "      <td>16835.0</td>\n",
              "      <td>23.26</td>\n",
              "      <td>3.62</td>\n",
              "      <td>11.20</td>\n",
              "      <td>20.60</td>\n",
              "      <td>23.50</td>\n",
              "      <td>26.00</td>\n",
              "      <td>32.10</td>\n",
              "    </tr>\n",
              "    <tr>\n",
              "      <th>Precipitation in millimeters</th>\n",
              "      <td>552.0</td>\n",
              "      <td>7.91</td>\n",
              "      <td>17.09</td>\n",
              "      <td>0.10</td>\n",
              "      <td>1.08</td>\n",
              "      <td>2.90</td>\n",
              "      <td>4.90</td>\n",
              "      <td>99.10</td>\n",
              "    </tr>\n",
              "    <tr>\n",
              "      <th>Pickup Lat</th>\n",
              "      <td>21201.0</td>\n",
              "      <td>-1.28</td>\n",
              "      <td>0.03</td>\n",
              "      <td>-1.44</td>\n",
              "      <td>-1.30</td>\n",
              "      <td>-1.28</td>\n",
              "      <td>-1.26</td>\n",
              "      <td>-1.15</td>\n",
              "    </tr>\n",
              "    <tr>\n",
              "      <th>Pickup Long</th>\n",
              "      <td>21201.0</td>\n",
              "      <td>36.81</td>\n",
              "      <td>0.04</td>\n",
              "      <td>36.65</td>\n",
              "      <td>36.78</td>\n",
              "      <td>36.81</td>\n",
              "      <td>36.83</td>\n",
              "      <td>36.99</td>\n",
              "    </tr>\n",
              "    <tr>\n",
              "      <th>Destination Lat</th>\n",
              "      <td>21201.0</td>\n",
              "      <td>-1.28</td>\n",
              "      <td>0.03</td>\n",
              "      <td>-1.43</td>\n",
              "      <td>-1.30</td>\n",
              "      <td>-1.28</td>\n",
              "      <td>-1.26</td>\n",
              "      <td>-1.03</td>\n",
              "    </tr>\n",
              "    <tr>\n",
              "      <th>Destination Long</th>\n",
              "      <td>21201.0</td>\n",
              "      <td>36.81</td>\n",
              "      <td>0.04</td>\n",
              "      <td>36.61</td>\n",
              "      <td>36.79</td>\n",
              "      <td>36.81</td>\n",
              "      <td>36.83</td>\n",
              "      <td>37.02</td>\n",
              "    </tr>\n",
              "    <tr>\n",
              "      <th>Time from Pickup to Arrival</th>\n",
              "      <td>21201.0</td>\n",
              "      <td>1556.92</td>\n",
              "      <td>987.27</td>\n",
              "      <td>1.00</td>\n",
              "      <td>882.00</td>\n",
              "      <td>1369.00</td>\n",
              "      <td>2040.00</td>\n",
              "      <td>7883.00</td>\n",
              "    </tr>\n",
              "  </tbody>\n",
              "</table>\n",
              "</div>"
            ],
            "text/plain": [
              "                                             count     mean  ...      75%      max\n",
              "Platform Type                              21201.0     2.75  ...     3.00     4.00\n",
              "Placement - Day of Month                   21201.0    15.65  ...    23.00    31.00\n",
              "Placement - Weekday (Mo = 1)               21201.0     3.24  ...     5.00     7.00\n",
              "Confirmation - Day of Month                21201.0    15.65  ...    23.00    31.00\n",
              "Confirmation - Weekday (Mo = 1)            21201.0     3.24  ...     5.00     7.00\n",
              "Arrival at Pickup - Day of Month           21201.0    15.65  ...    23.00    31.00\n",
              "Arrival at Pickup - Weekday (Mo = 1)       21201.0     3.24  ...     5.00     7.00\n",
              "Pickup - Day of Month                      21201.0    15.65  ...    23.00    31.00\n",
              "Pickup - Weekday (Mo = 1)                  21201.0     3.24  ...     5.00     7.00\n",
              "Arrival at Destination - Day of Month      21201.0    15.65  ...    23.00    31.00\n",
              "Arrival at Destination - Weekday (Mo = 1)  21201.0     3.24  ...     5.00     7.00\n",
              "Distance (KM)                              21201.0     9.51  ...    13.00    49.00\n",
              "Temperature                                16835.0    23.26  ...    26.00    32.10\n",
              "Precipitation in millimeters                 552.0     7.91  ...     4.90    99.10\n",
              "Pickup Lat                                 21201.0    -1.28  ...    -1.26    -1.15\n",
              "Pickup Long                                21201.0    36.81  ...    36.83    36.99\n",
              "Destination Lat                            21201.0    -1.28  ...    -1.26    -1.03\n",
              "Destination Long                           21201.0    36.81  ...    36.83    37.02\n",
              "Time from Pickup to Arrival                21201.0  1556.92  ...  2040.00  7883.00\n",
              "\n",
              "[19 rows x 8 columns]"
            ]
          },
          "metadata": {
            "tags": []
          },
          "execution_count": 60
        }
      ]
    },
    {
      "cell_type": "code",
      "metadata": {
        "id": "UeDH565CX_tI",
        "colab_type": "code",
        "outputId": "fcca2deb-cb0c-45ae-b7c7-d828c1cc0030",
        "colab": {
          "base_uri": "https://localhost:8080/",
          "height": 350
        }
      },
      "source": [
        "#box whisker plot of the Precipitation column using Statistic Summary\n",
        "figsize(5, 5)\n",
        "plt.title(\"Box Plot of Precipitation's Statistics Description\")\n",
        "plt.boxplot(dataset_train['Precipitation in millimeters'].describe())\n",
        "plt.xlabel('Precipitation in (M)')\n",
        "plt.ylabel('Values')\n",
        "plt.show()"
      ],
      "execution_count": 61,
      "outputs": [
        {
          "output_type": "display_data",
          "data": {
            "image/png": "[encoded data removed]",
            "text/plain": [
              "<Figure size 360x360 with 1 Axes>"
            ]
          },
          "metadata": {
            "tags": [],
            "needs_background": "light"
          }
        }
      ]
    },
    {
      "cell_type": "code",
      "metadata": {
        "id": "-2NRhVtuX_tK",
        "colab_type": "code",
        "outputId": "cbf08264-e6d5-4f79-b41a-8be9afb8fa3a",
        "colab": {
          "base_uri": "https://localhost:8080/",
          "height": 350
        }
      },
      "source": [
        "#box whisker plot of the Temperature column using Statistic Summary\n",
        "figsize(5, 5)\n",
        "plt.title(\"Box Plot of Temperature's Statistics Description\")\n",
        "plt.boxplot(dataset_train['Temperature'].describe())\n",
        "plt.xlabel('Precipitation in (M)')\n",
        "plt.ylabel('Values')\n",
        "plt.show()"
      ],
      "execution_count": 63,
      "outputs": [
        {
          "output_type": "display_data",
          "data": {
            "image/png": "[encoded data removed]",
            "text/plain": [
              "<Figure size 360x360 with 1 Axes>"
            ]
          },
          "metadata": {
            "tags": [],
            "needs_background": "light"
          }
        }
      ]
    },
    {
      "cell_type": "code",
      "metadata": {
        "id": "EQ5U7LK5X_tM",
        "colab_type": "code",
        "outputId": "84f796b6-cb56-41e1-a453-cb11f1378ea4",
        "colab": {
          "base_uri": "https://localhost:8080/",
          "height": 404
        }
      },
      "source": [
        "plt.hist(dataset_train['Temperature'],color='grey', bins=20)\n",
        "plt.title('Temperature Normal Distribution Check')\n",
        "plt.show()"
      ],
      "execution_count": 66,
      "outputs": [
        {
          "output_type": "stream",
          "text": [
            "/usr/local/lib/python3.6/dist-packages/numpy/lib/histograms.py:839: RuntimeWarning: invalid value encountered in greater_equal\n",
            "  keep = (tmp_a >= first_edge)\n",
            "/usr/local/lib/python3.6/dist-packages/numpy/lib/histograms.py:840: RuntimeWarning: invalid value encountered in less_equal\n",
            "  keep &= (tmp_a <= last_edge)\n"
          ],
          "name": "stderr"
        },
        {
          "output_type": "display_data",
          "data": {
            "image/png": "[encoded data removed]",
            "text/plain": [
              "<Figure size 360x360 with 1 Axes>"
            ]
          },
          "metadata": {
            "tags": [],
            "needs_background": "light"
          }
        }
      ]
    },
    {
      "cell_type": "markdown",
      "metadata": {
        "id": "LGFlyuV5z_eq",
        "colab_type": "text"
      },
      "source": [
        "The mean temperature at the time of order placement is 25 Degrees Celsius "
      ]
    },
    {
      "cell_type": "code",
      "metadata": {
        "id": "er28-wVVX_tP",
        "colab_type": "code",
        "outputId": "2d813bb3-b604-4438-9247-88a9b752b5e9",
        "colab": {
          "base_uri": "https://localhost:8080/",
          "height": 404
        }
      },
      "source": [
        "plt.hist(dataset_train['Precipitation in millimeters'], color='grey', density=False, bins=10)\n",
        "plt.title(\"Precipitation Normal Distribution Check\")\n",
        "plt.show()"
      ],
      "execution_count": 65,
      "outputs": [
        {
          "output_type": "stream",
          "text": [
            "/usr/local/lib/python3.6/dist-packages/numpy/lib/histograms.py:839: RuntimeWarning: invalid value encountered in greater_equal\n",
            "  keep = (tmp_a >= first_edge)\n",
            "/usr/local/lib/python3.6/dist-packages/numpy/lib/histograms.py:840: RuntimeWarning: invalid value encountered in less_equal\n",
            "  keep &= (tmp_a <= last_edge)\n"
          ],
          "name": "stderr"
        },
        {
          "output_type": "display_data",
          "data": {
            "image/png": "[encoded data removed]",
            "text/plain": [
              "<Figure size 360x360 with 1 Axes>"
            ]
          },
          "metadata": {
            "tags": [],
            "needs_background": "light"
          }
        }
      ]
    },
    {
      "cell_type": "markdown",
      "metadata": {
        "id": "yCxfESXn0Rof",
        "colab_type": "text"
      },
      "source": [
        "The most common level of precipitation at the time of order placement was less than 20ml"
      ]
    },
    {
      "cell_type": "code",
      "metadata": {
        "id": "fI_V9rSFX_tS",
        "colab_type": "code",
        "outputId": "a4bc545b-b038-4df5-bff7-5c83f2062d63",
        "colab": {
          "base_uri": "https://localhost:8080/",
          "height": 336
        }
      },
      "source": [
        "plt.hist(dataset_train['Distance (KM)'], color='grey', bins=10)  \n",
        "plt.title(\"Distance Normal Distribution check\")\n",
        "plt.show()"
      ],
      "execution_count": 67,
      "outputs": [
        {
          "output_type": "display_data",
          "data": {
            "image/png": "[encoded data removed]",
            "text/plain": [
              "<Figure size 360x360 with 1 Axes>"
            ]
          },
          "metadata": {
            "tags": [],
            "needs_background": "light"
          }
        }
      ]
    },
    {
      "cell_type": "markdown",
      "metadata": {
        "id": "WvljE4LW0JTh",
        "colab_type": "text"
      },
      "source": [
        "The longest distance from  from Pickup to Destination is 10Km "
      ]
    },
    {
      "cell_type": "code",
      "metadata": {
        "id": "itWb6l_acOQN",
        "colab_type": "code",
        "outputId": "466a6c91-1c94-41d8-dcf9-137181970283",
        "colab": {
          "base_uri": "https://localhost:8080/",
          "height": 350
        }
      },
      "source": [
        "dataset_train['Arrival at Pickup - Weekday (Mo = 1)'].value_counts().plot(kind='bar',rot=0)\n",
        "plt.title(\"Evaluating the Overall of Rider's arrival at the Pickup on weekdays\")\n",
        "plt.xlabel(\"Days of the Week\")\n",
        "plt.ylabel(\"The Overall of each Day\")\n",
        "plt.show()"
      ],
      "execution_count": 68,
      "outputs": [
        {
          "output_type": "display_data",
          "data": {
            "image/png": "[encoded data removed]",
            "text/plain": [
              "<Figure size 360x360 with 1 Axes>"
            ]
          },
          "metadata": {
            "tags": [],
            "needs_background": "light"
          }
        }
      ]
    },
    {
      "cell_type": "markdown",
      "metadata": {
        "id": "QuieuuIb0wCC",
        "colab_type": "text"
      },
      "source": [
        "From the Arrival at Pickup graph, it is evident that Most dirvers arrive at the loaction of the pickup during weekdays compared to weekends. consequently, It can be deduced that  weekends are not busy compared to weekddays"
      ]
    },
    {
      "cell_type": "code",
      "metadata": {
        "id": "o0xNfOMjc3oj",
        "colab_type": "code",
        "outputId": "859bfc8c-1f6e-4a52-82f5-5eb07ee375f4",
        "colab": {
          "base_uri": "https://localhost:8080/",
          "height": 350
        }
      },
      "source": [
        "dataset_train['Arrival at Destination - Weekday (Mo = 1)'].value_counts().plot(kind='bar',rot=0)\n",
        "plt.title(\"Evaluating the Overall of Rider's arrival at the Destination on weekdays\")\n",
        "plt.xlabel(\"Days of the Week\")\n",
        "plt.ylabel(\"The Overall of each Day\")\n",
        "plt.show()"
      ],
      "execution_count": 69,
      "outputs": [
        {
          "output_type": "display_data",
          "data": {
            "image/png": "[encoded data removed]",
            "text/plain": [
              "<Figure size 360x360 with 1 Axes>"
            ]
          },
          "metadata": {
            "tags": [],
            "needs_background": "light"
          }
        }
      ]
    },
    {
      "cell_type": "markdown",
      "metadata": {
        "id": "Xco-Osqt04IF",
        "colab_type": "text"
      },
      "source": [
        "The Arrival at Destination graph shows that deliveries tend to reach the denstination during weekdays with Thursday being the most frequent day. "
      ]
    },
    {
      "cell_type": "code",
      "metadata": {
        "id": "OS_9I8jUdCdl",
        "colab_type": "code",
        "outputId": "3596dcad-d54d-4b75-ec95-c80f08578ac1",
        "colab": {
          "base_uri": "https://localhost:8080/",
          "height": 336
        }
      },
      "source": [
        "dataset_train['Personal or Business'].value_counts().plot(kind='bar',rot=0)\n",
        "plt.title('Analysing through the Value of Business or Personal of the Order')\n",
        "plt.ylabel(\"Overall of Each categorical values\")\n",
        "plt.show()"
      ],
      "execution_count": 70,
      "outputs": [
        {
          "output_type": "display_data",
          "data": {
            "image/png": "[encoded data removed]",
            "text/plain": [
              "<Figure size 360x360 with 1 Axes>"
            ]
          },
          "metadata": {
            "tags": [],
            "needs_background": "light"
          }
        }
      ]
    },
    {
      "cell_type": "code",
      "metadata": {
        "id": "PMvTj76g0izv",
        "colab_type": "code",
        "outputId": "ed08b324-d670-4fa7-ea90-0bfb846cb072",
        "colab": {
          "base_uri": "https://localhost:8080/",
          "height": 350
        }
      },
      "source": [
        "dataset_train['Platform Type'].value_counts().plot(kind='bar',rot=0)\n",
        "plt.title(\"Different Types Of Platform Evaluation\")\n",
        "plt.xlabel('Platform are categorised using numeric values')\n",
        "plt.ylabel('Different Overall of Each Platform Type')\n",
        "plt.show()"
      ],
      "execution_count": 71,
      "outputs": [
        {
          "output_type": "display_data",
          "data": {
            "image/png": "[encoded data removed]",
            "text/plain": [
              "<Figure size 360x360 with 1 Axes>"
            ]
          },
          "metadata": {
            "tags": [],
            "needs_background": "light"
          }
        }
      ]
    },
    {
      "cell_type": "markdown",
      "metadata": {
        "id": "P51G6oa0X_tV",
        "colab_type": "text"
      },
      "source": [
        "## Encoding Categoric Data "
      ]
    },
    {
      "cell_type": "markdown",
      "metadata": {
        "id": "kasefPGdPkmR",
        "colab_type": "text"
      },
      "source": [
        "#### DATETIME COLUMNS"
      ]
    },
    {
      "cell_type": "markdown",
      "metadata": {
        "id": "CqFGG99ZW8U3",
        "colab_type": "text"
      },
      "source": [
        "As the Date-time Columns have been correctly formatted to the Date-time data type,We then Extract the Time due to Hours,Minutes & Seconds and Create new columns containing separate of time"
      ]
    },
    {
      "cell_type": "code",
      "metadata": {
        "id": "hkt68jvoPsCJ",
        "colab_type": "code",
        "colab": {}
      },
      "source": [
        "#In this section Hours were extracted and added to the dataframe as new columns\n",
        "#Train\n",
        "dataset_train['Placement - Hour']=dataset_train['Placement - Time'].dt.hour\n",
        "dataset_train['Confirmation - Hour']=dataset_train['Confirmation - Time'].dt.hour\n",
        "\n",
        "dataset_train['Arrival at Pickup - Hour']=dataset_train['Arrival at Pickup - Time'].dt.hour\n",
        "dataset_train['Pickup - Hour']=dataset_train['Pickup - Time'].dt.hour\n",
        "\n",
        "#Test\n",
        "dataset_test['Placement - Hour']=dataset_test['Placement - Time'].dt.hour\n",
        "dataset_test['Confirmation - Hour']=dataset_test['Confirmation - Time'].dt.hour\n",
        "\n",
        "dataset_test['Arrival at Pickup - Hour']=dataset_test['Arrival at Pickup - Time'].dt.hour\n",
        "dataset_test['Pickup - Hour']=dataset_test['Pickup - Time'].dt.hour"
      ],
      "execution_count": 0,
      "outputs": []
    },
    {
      "cell_type": "code",
      "metadata": {
        "id": "6_PKpdQEPsTr",
        "colab_type": "code",
        "colab": {}
      },
      "source": [
        "#In this section Minutes were extracted and added to the dataframe as new columns\n",
        "#Train\n",
        "dataset_train['Placement - Minutes'] = dataset_train['Placement - Time'].dt.minute\n",
        "dataset_train['Confirmation - Minutes']=dataset_train['Confirmation - Time'].dt.minute\n",
        "\n",
        "dataset_train['Arrival at Pickup - Minutes']=dataset_train['Arrival at Pickup - Time'].dt.minute\n",
        "dataset_train['Pickup - Minutes']=dataset_train['Pickup - Time'].dt.minute\n",
        "\n",
        "#Test\n",
        "dataset_test['Placement - Minutes']=dataset_test['Placement - Time'].dt.minute\n",
        "dataset_test['Confirmation - Minutes']=dataset_test['Confirmation - Time'].dt.minute\n",
        "\n",
        "dataset_test['Arrival at Pickup - Minutes']=dataset_test['Arrival at Pickup - Time'].dt.minute\n",
        "dataset_test['Pickup - Minutes']=dataset_test['Pickup - Time'].dt.minute"
      ],
      "execution_count": 0,
      "outputs": []
    },
    {
      "cell_type": "code",
      "metadata": {
        "id": "-UtvdDzMPsf5",
        "colab_type": "code",
        "colab": {}
      },
      "source": [
        "#In this section Seconds were extracted and added to the dataframe as new columns\n",
        "#Train\n",
        "dataset_train['Placement - Seconds']=dataset_train['Placement - Time'].dt.second\n",
        "dataset_train['Confirmation - Seconds']=dataset_train['Confirmation - Time'].dt.second\n",
        "\n",
        "dataset_train['Arrival at Pickup - Seconds']=dataset_train['Arrival at Pickup - Time'].dt.second\n",
        "dataset_train['Pickup - Seconds']=dataset_train['Pickup - Time'].dt.second\n",
        "\n",
        "### Test\n",
        "dataset_test['Placement - Seconds']=dataset_test['Placement - Time'].dt.second\n",
        "dataset_test['Confirmation - Seconds']=dataset_test['Confirmation - Time'].dt.second\n",
        "\n",
        "dataset_test['Arrival at Pickup - Seconds']=dataset_test['Arrival at Pickup - Time'].dt.second\n",
        "dataset_test['Pickup - Seconds']=dataset_test['Pickup - Time'].dt.second"
      ],
      "execution_count": 0,
      "outputs": []
    },
    {
      "cell_type": "markdown",
      "metadata": {
        "id": "yR6HimLhagsd",
        "colab_type": "text"
      },
      "source": [
        "#### Platform Type"
      ]
    },
    {
      "cell_type": "markdown",
      "metadata": {
        "id": "uTfvvwaCXn_T",
        "colab_type": "text"
      },
      "source": [
        "For the Platform type Column We then get to change it to the dummy variables to have a cleared and measurable feature for the model. We then encode dummy to new columns"
      ]
    },
    {
      "cell_type": "code",
      "metadata": {
        "id": "BwyUsbYDNR2M",
        "colab_type": "code",
        "colab": {}
      },
      "source": [
        "#Dummy encoding of the 'Platform Type' column:\n",
        "#TRAIN\n",
        "dataset_train['Platform Type'] = dataset_train['Platform Type'].astype('category')\n",
        "dataset_train = pd.concat([dataset_train.drop(columns=['Platform Type']), pd.get_dummies(dataset_train['Platform Type'])], axis=1)\n",
        "\n",
        "#TEST \n",
        "dataset_test['Platform Type'] = dataset_test['Platform Type'].astype('category')\n",
        "dataset_test = pd.concat([dataset_test.drop(columns=['Platform Type']), pd.get_dummies(dataset_test['Platform Type'])], axis=1)"
      ],
      "execution_count": 0,
      "outputs": []
    },
    {
      "cell_type": "code",
      "metadata": {
        "id": "mnrMF4j6NSOC",
        "colab_type": "code",
        "colab": {}
      },
      "source": [
        "#Renaming the 'platform type' columns\n",
        "dataset_train.rename(columns={1: \"Platform Type 1\", 2: \"Platform Type 2\", 3: \"Platform Type 3\", 4: \"Platform Type 4\"}, inplace=True)\n",
        "dataset_test.rename(columns={1: \"Platform Type 1\", 2: \"Platform Type 2\", 3: \"Platform Type 3\", 4: \"Platform Type 4\"}, inplace=True)"
      ],
      "execution_count": 0,
      "outputs": []
    },
    {
      "cell_type": "markdown",
      "metadata": {
        "id": "Iig3TlFDa9B4",
        "colab_type": "text"
      },
      "source": [
        "#### Personal or Business"
      ]
    },
    {
      "cell_type": "code",
      "metadata": {
        "id": "7xpJ87PmNSaw",
        "colab_type": "code",
        "colab": {}
      },
      "source": [
        "#Dummy encoding of the 'Personal or Business' column\n",
        "#Train\n",
        "dataset_train['Personal or Business'] = dataset_train['Personal or Business'].astype('category')\n",
        "dataset_train = pd.concat([dataset_train.drop(columns=['Personal or Business']), pd.get_dummies(dataset_train['Personal or Business'])], axis=1)\n",
        "\n",
        "#Test\n",
        "dataset_test['Personal or Business'] = dataset_test['Personal or Business'].astype('category')\n",
        "dataset_test = pd.concat([dataset_test.drop(columns=['Personal or Business']), pd.get_dummies(dataset_test['Personal or Business'])], axis=1)"
      ],
      "execution_count": 0,
      "outputs": []
    },
    {
      "cell_type": "code",
      "metadata": {
        "id": "GOsDa2YMNSps",
        "colab_type": "code",
        "colab": {}
      },
      "source": [
        "#Renaming the 'Personal or Business' columns\n",
        "dataset_train.rename(columns={0: \"Business\", 1: \"Personal\"}, inplace=True)\n",
        "dataset_test.rename(columns={0: \"Business\", 1: \"Personal\"}, inplace=True)"
      ],
      "execution_count": 0,
      "outputs": []
    },
    {
      "cell_type": "markdown",
      "metadata": {
        "id": "S_e6hsJNckYs",
        "colab_type": "text"
      },
      "source": [
        "## Selecting columns to be used for model training and testing "
      ]
    },
    {
      "cell_type": "markdown",
      "metadata": {
        "id": "nQN7wx6zYUuL",
        "colab_type": "text"
      },
      "source": [
        "Following is the List of Features we're manually excluding from the features that will be used for training the model and also for testing due to our EDA evaluations"
      ]
    },
    {
      "cell_type": "code",
      "metadata": {
        "id": "QDMNmjHqP4SF",
        "colab_type": "code",
        "colab": {}
      },
      "source": [
        "#features we eill use for the model training dataset for X_train\n",
        "X1 = dataset_train.loc[:,['Order No','Distance (KM)','Temperature','Precipitation in millimeters',\n",
        "                          'Platform Type 1', 'Platform Type 2','Platform Type 3', 'Platform Type 4', \n",
        "                          'Business', 'Personal','Placement - Hour', 'Confirmation - Hour',\n",
        "                          'Arrival at Pickup - Hour','Pickup - Hour', 'Placement - Minutes',\n",
        "                          'Confirmation - Minutes','Arrival at Pickup - Minutes', 'Pickup - Minutes',\n",
        "                          'Placement - Seconds', 'Confirmation - Seconds','Arrival at Pickup - Seconds', 'Pickup - Seconds']]\n",
        "\n",
        "#the Y_train data set\n",
        "Y_train = dataset_train.loc[:,['Time from Pickup to Arrival']].values\n",
        "\n",
        "#features we will use for the model testing dataset for X_test\n",
        "X2 = dataset_test.loc[:,['Order No','Distance (KM)','Temperature','Precipitation in millimeters',\n",
        "                        'Platform Type 1', 'Platform Type 2','Platform Type 3', 'Platform Type 4',\n",
        "                        'Business', 'Personal','Placement - Hour', 'Confirmation - Hour', \n",
        "                        'Arrival at Pickup - Hour','Pickup - Hour', 'Placement - Minutes',\n",
        "                        'Confirmation - Minutes','Arrival at Pickup - Minutes', 'Pickup - Minutes','Placement - Seconds',\n",
        "                        'Confirmation - Seconds','Arrival at Pickup - Seconds', 'Pickup - Seconds']]\n",
        "\n",
        "Y_test = dataset_sample.iloc[:,-1].values"
      ],
      "execution_count": 0,
      "outputs": []
    },
    {
      "cell_type": "code",
      "metadata": {
        "id": "5noadhlFNI7k",
        "colab_type": "code",
        "colab": {}
      },
      "source": [
        "#changing the Index for both X_train & X_test Dataframes to be Order No and convert the Dataframes to Numpy arrays\n",
        "X_train = X1.set_index('Order No').values\n",
        "X_test = X2.set_index('Order No').values"
      ],
      "execution_count": 0,
      "outputs": []
    },
    {
      "cell_type": "code",
      "metadata": {
        "id": "YIYoYFILeGdT",
        "colab_type": "code",
        "colab": {
          "base_uri": "https://localhost:8080/",
          "height": 136
        },
        "outputId": "c4aedcc0-4ba7-4a20-9076-fc58819941b9"
      },
      "source": [
        "X_train"
      ],
      "execution_count": 84,
      "outputs": [
        {
          "output_type": "execute_result",
          "data": {
            "text/plain": [
              "array([[ 4. , 20.4,  nan, ..., 10. , 47. , 30. ],\n",
              "       [16. , 26.4,  nan, ..., 21. , 22. ,  9. ],\n",
              "       [ 3. ,  nan,  nan, ..., 44. , 34. ,  3. ],\n",
              "       ...,\n",
              "       [20. , 29.2,  nan, ...,  9. , 17. , 52. ],\n",
              "       [13. , 15. ,  nan, ..., 53. , 59. , 15. ],\n",
              "       [12. , 30.9,  nan, ...,  1. , 29. , 55. ]])"
            ]
          },
          "metadata": {
            "tags": []
          },
          "execution_count": 84
        }
      ]
    },
    {
      "cell_type": "markdown",
      "metadata": {
        "id": "7e-2ee-mNI7x",
        "colab_type": "text"
      },
      "source": [
        "## Taking care of missing values in the data sets"
      ]
    },
    {
      "cell_type": "markdown",
      "metadata": {
        "id": "6tXxWk8QaIoQ",
        "colab_type": "text"
      },
      "source": [
        "Taking care of missing values regarding the other features"
      ]
    },
    {
      "cell_type": "code",
      "metadata": {
        "id": "eswMjylTNI7y",
        "colab_type": "code",
        "colab": {}
      },
      "source": [
        "#The missing values of temperature and Precipitation in millimeters have been replaced with the most frequent values\n",
        "imputer = SimpleImputer(missing_values=np.nan, strategy='most_frequent')\n",
        "imputer.fit(X_train[:,1:3],X_test[:,1:3])\n",
        "X_train[:,1:3] = imputer.transform(X_train[:,1:3])\n",
        "X_test[:,1:3] = imputer.transform(X_test[:,1:3])"
      ],
      "execution_count": 0,
      "outputs": []
    },
    {
      "cell_type": "code",
      "metadata": {
        "id": "HZTXtTVcNI72",
        "colab_type": "code",
        "outputId": "e154a905-5fda-4073-a975-0d20447523f7",
        "colab": {
          "base_uri": "https://localhost:8080/",
          "height": 419
        }
      },
      "source": [
        "pd.DataFrame(X_train)"
      ],
      "execution_count": 87,
      "outputs": [
        {
          "output_type": "execute_result",
          "data": {
            "text/html": [
              "<div>\n",
              "<style scoped>\n",
              "    .dataframe tbody tr th:only-of-type {\n",
              "        vertical-align: middle;\n",
              "    }\n",
              "\n",
              "    .dataframe tbody tr th {\n",
              "        vertical-align: top;\n",
              "    }\n",
              "\n",
              "    .dataframe thead th {\n",
              "        text-align: right;\n",
              "    }\n",
              "</style>\n",
              "<table border=\"1\" class=\"dataframe\">\n",
              "  <thead>\n",
              "    <tr style=\"text-align: right;\">\n",
              "      <th></th>\n",
              "      <th>0</th>\n",
              "      <th>1</th>\n",
              "      <th>2</th>\n",
              "      <th>3</th>\n",
              "      <th>4</th>\n",
              "      <th>5</th>\n",
              "      <th>6</th>\n",
              "      <th>7</th>\n",
              "      <th>8</th>\n",
              "      <th>9</th>\n",
              "      <th>10</th>\n",
              "      <th>11</th>\n",
              "      <th>12</th>\n",
              "      <th>13</th>\n",
              "      <th>14</th>\n",
              "      <th>15</th>\n",
              "      <th>16</th>\n",
              "      <th>17</th>\n",
              "      <th>18</th>\n",
              "      <th>19</th>\n",
              "      <th>20</th>\n",
              "    </tr>\n",
              "  </thead>\n",
              "  <tbody>\n",
              "    <tr>\n",
              "      <th>0</th>\n",
              "      <td>4.0</td>\n",
              "      <td>20.4</td>\n",
              "      <td>2.0</td>\n",
              "      <td>0.0</td>\n",
              "      <td>0.0</td>\n",
              "      <td>1.0</td>\n",
              "      <td>0.0</td>\n",
              "      <td>1.0</td>\n",
              "      <td>0.0</td>\n",
              "      <td>9.0</td>\n",
              "      <td>9.0</td>\n",
              "      <td>10.0</td>\n",
              "      <td>10.0</td>\n",
              "      <td>35.0</td>\n",
              "      <td>40.0</td>\n",
              "      <td>4.0</td>\n",
              "      <td>27.0</td>\n",
              "      <td>46.0</td>\n",
              "      <td>10.0</td>\n",
              "      <td>47.0</td>\n",
              "      <td>30.0</td>\n",
              "    </tr>\n",
              "    <tr>\n",
              "      <th>1</th>\n",
              "      <td>16.0</td>\n",
              "      <td>26.4</td>\n",
              "      <td>2.0</td>\n",
              "      <td>0.0</td>\n",
              "      <td>0.0</td>\n",
              "      <td>1.0</td>\n",
              "      <td>0.0</td>\n",
              "      <td>0.0</td>\n",
              "      <td>1.0</td>\n",
              "      <td>11.0</td>\n",
              "      <td>11.0</td>\n",
              "      <td>11.0</td>\n",
              "      <td>11.0</td>\n",
              "      <td>16.0</td>\n",
              "      <td>23.0</td>\n",
              "      <td>40.0</td>\n",
              "      <td>44.0</td>\n",
              "      <td>16.0</td>\n",
              "      <td>21.0</td>\n",
              "      <td>22.0</td>\n",
              "      <td>9.0</td>\n",
              "    </tr>\n",
              "    <tr>\n",
              "      <th>2</th>\n",
              "      <td>3.0</td>\n",
              "      <td>24.7</td>\n",
              "      <td>2.0</td>\n",
              "      <td>0.0</td>\n",
              "      <td>0.0</td>\n",
              "      <td>1.0</td>\n",
              "      <td>0.0</td>\n",
              "      <td>1.0</td>\n",
              "      <td>0.0</td>\n",
              "      <td>12.0</td>\n",
              "      <td>12.0</td>\n",
              "      <td>12.0</td>\n",
              "      <td>12.0</td>\n",
              "      <td>39.0</td>\n",
              "      <td>42.0</td>\n",
              "      <td>49.0</td>\n",
              "      <td>53.0</td>\n",
              "      <td>25.0</td>\n",
              "      <td>44.0</td>\n",
              "      <td>34.0</td>\n",
              "      <td>3.0</td>\n",
              "    </tr>\n",
              "    <tr>\n",
              "      <th>3</th>\n",
              "      <td>9.0</td>\n",
              "      <td>19.2</td>\n",
              "      <td>2.0</td>\n",
              "      <td>0.0</td>\n",
              "      <td>0.0</td>\n",
              "      <td>1.0</td>\n",
              "      <td>0.0</td>\n",
              "      <td>1.0</td>\n",
              "      <td>0.0</td>\n",
              "      <td>9.0</td>\n",
              "      <td>9.0</td>\n",
              "      <td>9.0</td>\n",
              "      <td>9.0</td>\n",
              "      <td>25.0</td>\n",
              "      <td>26.0</td>\n",
              "      <td>37.0</td>\n",
              "      <td>43.0</td>\n",
              "      <td>34.0</td>\n",
              "      <td>5.0</td>\n",
              "      <td>56.0</td>\n",
              "      <td>6.0</td>\n",
              "    </tr>\n",
              "    <tr>\n",
              "      <th>4</th>\n",
              "      <td>9.0</td>\n",
              "      <td>15.4</td>\n",
              "      <td>2.0</td>\n",
              "      <td>1.0</td>\n",
              "      <td>0.0</td>\n",
              "      <td>0.0</td>\n",
              "      <td>0.0</td>\n",
              "      <td>0.0</td>\n",
              "      <td>1.0</td>\n",
              "      <td>9.0</td>\n",
              "      <td>9.0</td>\n",
              "      <td>10.0</td>\n",
              "      <td>10.0</td>\n",
              "      <td>55.0</td>\n",
              "      <td>56.0</td>\n",
              "      <td>3.0</td>\n",
              "      <td>5.0</td>\n",
              "      <td>18.0</td>\n",
              "      <td>18.0</td>\n",
              "      <td>53.0</td>\n",
              "      <td>23.0</td>\n",
              "    </tr>\n",
              "    <tr>\n",
              "      <th>...</th>\n",
              "      <td>...</td>\n",
              "      <td>...</td>\n",
              "      <td>...</td>\n",
              "      <td>...</td>\n",
              "      <td>...</td>\n",
              "      <td>...</td>\n",
              "      <td>...</td>\n",
              "      <td>...</td>\n",
              "      <td>...</td>\n",
              "      <td>...</td>\n",
              "      <td>...</td>\n",
              "      <td>...</td>\n",
              "      <td>...</td>\n",
              "      <td>...</td>\n",
              "      <td>...</td>\n",
              "      <td>...</td>\n",
              "      <td>...</td>\n",
              "      <td>...</td>\n",
              "      <td>...</td>\n",
              "      <td>...</td>\n",
              "      <td>...</td>\n",
              "    </tr>\n",
              "    <tr>\n",
              "      <th>21196</th>\n",
              "      <td>3.0</td>\n",
              "      <td>28.6</td>\n",
              "      <td>2.0</td>\n",
              "      <td>0.0</td>\n",
              "      <td>0.0</td>\n",
              "      <td>1.0</td>\n",
              "      <td>0.0</td>\n",
              "      <td>0.0</td>\n",
              "      <td>1.0</td>\n",
              "      <td>15.0</td>\n",
              "      <td>15.0</td>\n",
              "      <td>15.0</td>\n",
              "      <td>16.0</td>\n",
              "      <td>54.0</td>\n",
              "      <td>55.0</td>\n",
              "      <td>58.0</td>\n",
              "      <td>20.0</td>\n",
              "      <td>38.0</td>\n",
              "      <td>9.0</td>\n",
              "      <td>49.0</td>\n",
              "      <td>8.0</td>\n",
              "    </tr>\n",
              "    <tr>\n",
              "      <th>21197</th>\n",
              "      <td>7.0</td>\n",
              "      <td>26.0</td>\n",
              "      <td>2.0</td>\n",
              "      <td>0.0</td>\n",
              "      <td>0.0</td>\n",
              "      <td>1.0</td>\n",
              "      <td>0.0</td>\n",
              "      <td>1.0</td>\n",
              "      <td>0.0</td>\n",
              "      <td>10.0</td>\n",
              "      <td>10.0</td>\n",
              "      <td>10.0</td>\n",
              "      <td>10.0</td>\n",
              "      <td>13.0</td>\n",
              "      <td>13.0</td>\n",
              "      <td>20.0</td>\n",
              "      <td>33.0</td>\n",
              "      <td>34.0</td>\n",
              "      <td>41.0</td>\n",
              "      <td>4.0</td>\n",
              "      <td>27.0</td>\n",
              "    </tr>\n",
              "    <tr>\n",
              "      <th>21198</th>\n",
              "      <td>20.0</td>\n",
              "      <td>29.2</td>\n",
              "      <td>2.0</td>\n",
              "      <td>0.0</td>\n",
              "      <td>0.0</td>\n",
              "      <td>1.0</td>\n",
              "      <td>0.0</td>\n",
              "      <td>1.0</td>\n",
              "      <td>0.0</td>\n",
              "      <td>17.0</td>\n",
              "      <td>17.0</td>\n",
              "      <td>17.0</td>\n",
              "      <td>17.0</td>\n",
              "      <td>6.0</td>\n",
              "      <td>7.0</td>\n",
              "      <td>30.0</td>\n",
              "      <td>50.0</td>\n",
              "      <td>16.0</td>\n",
              "      <td>9.0</td>\n",
              "      <td>17.0</td>\n",
              "      <td>52.0</td>\n",
              "    </tr>\n",
              "    <tr>\n",
              "      <th>21199</th>\n",
              "      <td>13.0</td>\n",
              "      <td>15.0</td>\n",
              "      <td>2.0</td>\n",
              "      <td>1.0</td>\n",
              "      <td>0.0</td>\n",
              "      <td>0.0</td>\n",
              "      <td>0.0</td>\n",
              "      <td>0.0</td>\n",
              "      <td>1.0</td>\n",
              "      <td>9.0</td>\n",
              "      <td>9.0</td>\n",
              "      <td>9.0</td>\n",
              "      <td>9.0</td>\n",
              "      <td>31.0</td>\n",
              "      <td>31.0</td>\n",
              "      <td>38.0</td>\n",
              "      <td>45.0</td>\n",
              "      <td>39.0</td>\n",
              "      <td>53.0</td>\n",
              "      <td>59.0</td>\n",
              "      <td>15.0</td>\n",
              "    </tr>\n",
              "    <tr>\n",
              "      <th>21200</th>\n",
              "      <td>12.0</td>\n",
              "      <td>30.9</td>\n",
              "      <td>2.0</td>\n",
              "      <td>0.0</td>\n",
              "      <td>0.0</td>\n",
              "      <td>1.0</td>\n",
              "      <td>0.0</td>\n",
              "      <td>1.0</td>\n",
              "      <td>0.0</td>\n",
              "      <td>14.0</td>\n",
              "      <td>14.0</td>\n",
              "      <td>14.0</td>\n",
              "      <td>14.0</td>\n",
              "      <td>19.0</td>\n",
              "      <td>20.0</td>\n",
              "      <td>24.0</td>\n",
              "      <td>41.0</td>\n",
              "      <td>47.0</td>\n",
              "      <td>1.0</td>\n",
              "      <td>29.0</td>\n",
              "      <td>55.0</td>\n",
              "    </tr>\n",
              "  </tbody>\n",
              "</table>\n",
              "<p>21201 rows × 21 columns</p>\n",
              "</div>"
            ],
            "text/plain": [
              "         0     1    2    3    4    5   ...    15    16    17    18    19    20\n",
              "0       4.0  20.4  2.0  0.0  0.0  1.0  ...   4.0  27.0  46.0  10.0  47.0  30.0\n",
              "1      16.0  26.4  2.0  0.0  0.0  1.0  ...  40.0  44.0  16.0  21.0  22.0   9.0\n",
              "2       3.0  24.7  2.0  0.0  0.0  1.0  ...  49.0  53.0  25.0  44.0  34.0   3.0\n",
              "3       9.0  19.2  2.0  0.0  0.0  1.0  ...  37.0  43.0  34.0   5.0  56.0   6.0\n",
              "4       9.0  15.4  2.0  1.0  0.0  0.0  ...   3.0   5.0  18.0  18.0  53.0  23.0\n",
              "...     ...   ...  ...  ...  ...  ...  ...   ...   ...   ...   ...   ...   ...\n",
              "21196   3.0  28.6  2.0  0.0  0.0  1.0  ...  58.0  20.0  38.0   9.0  49.0   8.0\n",
              "21197   7.0  26.0  2.0  0.0  0.0  1.0  ...  20.0  33.0  34.0  41.0   4.0  27.0\n",
              "21198  20.0  29.2  2.0  0.0  0.0  1.0  ...  30.0  50.0  16.0   9.0  17.0  52.0\n",
              "21199  13.0  15.0  2.0  1.0  0.0  0.0  ...  38.0  45.0  39.0  53.0  59.0  15.0\n",
              "21200  12.0  30.9  2.0  0.0  0.0  1.0  ...  24.0  41.0  47.0   1.0  29.0  55.0\n",
              "\n",
              "[21201 rows x 21 columns]"
            ]
          },
          "metadata": {
            "tags": []
          },
          "execution_count": 87
        }
      ]
    },
    {
      "cell_type": "markdown",
      "metadata": {
        "id": "BgBfGuLJNI8B",
        "colab_type": "text"
      },
      "source": [
        "## Feature Scaling of the training and test data set"
      ]
    },
    {
      "cell_type": "code",
      "metadata": {
        "id": "WPnFQkgiNI8C",
        "colab_type": "code",
        "colab": {}
      },
      "source": [
        "\n",
        "sc = StandardScaler()\n",
        "X_train[:,:] = sc.fit_transform(X_train[:,:])\n",
        "X_test[:,:] = sc.transform(X_test[:,:])"
      ],
      "execution_count": 0,
      "outputs": []
    },
    {
      "cell_type": "markdown",
      "metadata": {
        "id": "TNfWS9lqNI8J",
        "colab_type": "text"
      },
      "source": [
        "# Training the Individual Models"
      ]
    },
    {
      "cell_type": "markdown",
      "metadata": {
        "id": "mMrPfF5IeOvY",
        "colab_type": "text"
      },
      "source": [
        "## Linear Regression"
      ]
    },
    {
      "cell_type": "code",
      "metadata": {
        "id": "0zQNkVcmNI8J",
        "colab_type": "code",
        "outputId": "40e2f136-04c0-45d4-ad81-8bd54127639e",
        "colab": {
          "base_uri": "https://localhost:8080/",
          "height": 34
        }
      },
      "source": [
        "from sklearn.linear_model import LinearRegression\n",
        "regressor = LinearRegression()\n",
        "regressor.fit(X_train,Y_train)"
      ],
      "execution_count": 88,
      "outputs": [
        {
          "output_type": "execute_result",
          "data": {
            "text/plain": [
              "LinearRegression(copy_X=True, fit_intercept=True, n_jobs=None, normalize=False)"
            ]
          },
          "metadata": {
            "tags": []
          },
          "execution_count": 88
        }
      ]
    },
    {
      "cell_type": "code",
      "metadata": {
        "id": "2TRuOCXeNI8N",
        "colab_type": "code",
        "colab": {}
      },
      "source": [
        "beta_0 = float(regressor.intercept_)"
      ],
      "execution_count": 0,
      "outputs": []
    },
    {
      "cell_type": "code",
      "metadata": {
        "id": "j83xuP7LNI8Q",
        "colab_type": "code",
        "outputId": "780b092c-a583-4aa1-a432-fdaaa1425399",
        "colab": {
          "base_uri": "https://localhost:8080/",
          "height": 34
        }
      },
      "source": [
        "print(beta_0)"
      ],
      "execution_count": 90,
      "outputs": [
        {
          "output_type": "stream",
          "text": [
            "372.4547588395651\n"
          ],
          "name": "stdout"
        }
      ]
    },
    {
      "cell_type": "code",
      "metadata": {
        "id": "0xITmNCnNI8U",
        "colab_type": "code",
        "colab": {}
      },
      "source": [
        "#predicting y using the X_test\n",
        "y_pred = regressor.predict(X_test)"
      ],
      "execution_count": 0,
      "outputs": []
    },
    {
      "cell_type": "code",
      "metadata": {
        "id": "dWvIyVErNI8X",
        "colab_type": "code",
        "outputId": "cfd75410-fbaa-49df-dac8-6604324e135e",
        "colab": {
          "base_uri": "https://localhost:8080/",
          "height": 136
        }
      },
      "source": [
        "#comparing the y_pred with the actual Y values\n",
        "np.set_printoptions(precision=2)\n",
        "print(np.concatenate((y_pred.reshape(len(y_pred),1), Y_test.reshape(len(Y_test),1)),1))"
      ],
      "execution_count": 92,
      "outputs": [
        {
          "output_type": "stream",
          "text": [
            "[[1373.35  567.  ]\n",
            " [1213.99 4903.  ]\n",
            " [ 954.6  5649.  ]\n",
            " ...\n",
            " [1665.01     nan]\n",
            " [2604.55     nan]\n",
            " [1504.19     nan]]\n"
          ],
          "name": "stdout"
        }
      ]
    },
    {
      "cell_type": "code",
      "metadata": {
        "id": "ydJFfzkkNI8a",
        "colab_type": "code",
        "colab": {}
      },
      "source": [
        "#create a dataframe containing the expected outputs for Submission\n",
        "x = pd.DataFrame(y_pred)\n",
        "x = round(x,2)\n",
        "X2['Time from Pickup to Arrival'] = x\n",
        "predicted = X2[['Order No','Time from Pickup to Arrival']]"
      ],
      "execution_count": 0,
      "outputs": []
    },
    {
      "cell_type": "code",
      "metadata": {
        "id": "zLCUCMSvgjQn",
        "colab_type": "code",
        "colab": {}
      },
      "source": [
        "Y_test1 = pd.DataFrame(Y_test).fillna(0)"
      ],
      "execution_count": 0,
      "outputs": []
    },
    {
      "cell_type": "code",
      "metadata": {
        "id": "AdkZ6kqCgRQ4",
        "colab_type": "code",
        "colab": {}
      },
      "source": [
        "from sklearn import metrics\n",
        "#Testing using  Y_test from the testingng Data \n",
        "#print(\"Testing:\")\n",
        "#print('MSE:', metrics.mean_squared_error(Y_test, y_pred))\n",
        "#print('R_squared:', metrics.r2_score(Y_test, y_pred))"
      ],
      "execution_count": 0,
      "outputs": []
    },
    {
      "cell_type": "code",
      "metadata": {
        "id": "jDXGNXKhjcLz",
        "colab_type": "code",
        "outputId": "9d4b789a-2c91-411b-e987-bc57ad969e00",
        "colab": {
          "base_uri": "https://localhost:8080/",
          "height": 34
        }
      },
      "source": [
        "print(\"RMSE: \", np.sqrt(mean_squared_error(Y_test1,y_pred)))"
      ],
      "execution_count": 97,
      "outputs": [
        {
          "output_type": "stream",
          "text": [
            "RMSE:  1663.4683945964096\n"
          ],
          "name": "stdout"
        }
      ]
    },
    {
      "cell_type": "code",
      "metadata": {
        "id": "7ixY-VaENI8d",
        "colab_type": "code",
        "outputId": "9338077e-4c17-4461-fbf9-8c53486c0263",
        "colab": {
          "base_uri": "https://localhost:8080/",
          "height": 419
        }
      },
      "source": [
        "predicted"
      ],
      "execution_count": 98,
      "outputs": [
        {
          "output_type": "execute_result",
          "data": {
            "text/html": [
              "<div>\n",
              "<style scoped>\n",
              "    .dataframe tbody tr th:only-of-type {\n",
              "        vertical-align: middle;\n",
              "    }\n",
              "\n",
              "    .dataframe tbody tr th {\n",
              "        vertical-align: top;\n",
              "    }\n",
              "\n",
              "    .dataframe thead th {\n",
              "        text-align: right;\n",
              "    }\n",
              "</style>\n",
              "<table border=\"1\" class=\"dataframe\">\n",
              "  <thead>\n",
              "    <tr style=\"text-align: right;\">\n",
              "      <th></th>\n",
              "      <th>Order No</th>\n",
              "      <th>Time from Pickup to Arrival</th>\n",
              "    </tr>\n",
              "  </thead>\n",
              "  <tbody>\n",
              "    <tr>\n",
              "      <th>0</th>\n",
              "      <td>Order_No_19248</td>\n",
              "      <td>1373.35</td>\n",
              "    </tr>\n",
              "    <tr>\n",
              "      <th>1</th>\n",
              "      <td>Order_No_12736</td>\n",
              "      <td>1213.99</td>\n",
              "    </tr>\n",
              "    <tr>\n",
              "      <th>2</th>\n",
              "      <td>Order_No_768</td>\n",
              "      <td>954.60</td>\n",
              "    </tr>\n",
              "    <tr>\n",
              "      <th>3</th>\n",
              "      <td>Order_No_15332</td>\n",
              "      <td>1023.40</td>\n",
              "    </tr>\n",
              "    <tr>\n",
              "      <th>4</th>\n",
              "      <td>Order_No_21373</td>\n",
              "      <td>1221.48</td>\n",
              "    </tr>\n",
              "    <tr>\n",
              "      <th>...</th>\n",
              "      <td>...</td>\n",
              "      <td>...</td>\n",
              "    </tr>\n",
              "    <tr>\n",
              "      <th>7063</th>\n",
              "      <td>Order_No_3612</td>\n",
              "      <td>1012.22</td>\n",
              "    </tr>\n",
              "    <tr>\n",
              "      <th>7064</th>\n",
              "      <td>Order_No_7657</td>\n",
              "      <td>2971.00</td>\n",
              "    </tr>\n",
              "    <tr>\n",
              "      <th>7065</th>\n",
              "      <td>Order_No_1969</td>\n",
              "      <td>1665.01</td>\n",
              "    </tr>\n",
              "    <tr>\n",
              "      <th>7066</th>\n",
              "      <td>Order_No_10591</td>\n",
              "      <td>2604.55</td>\n",
              "    </tr>\n",
              "    <tr>\n",
              "      <th>7067</th>\n",
              "      <td>Order_No_1603</td>\n",
              "      <td>1504.19</td>\n",
              "    </tr>\n",
              "  </tbody>\n",
              "</table>\n",
              "<p>7068 rows × 2 columns</p>\n",
              "</div>"
            ],
            "text/plain": [
              "            Order No  Time from Pickup to Arrival\n",
              "0     Order_No_19248                      1373.35\n",
              "1     Order_No_12736                      1213.99\n",
              "2       Order_No_768                       954.60\n",
              "3     Order_No_15332                      1023.40\n",
              "4     Order_No_21373                      1221.48\n",
              "...              ...                          ...\n",
              "7063   Order_No_3612                      1012.22\n",
              "7064   Order_No_7657                      2971.00\n",
              "7065   Order_No_1969                      1665.01\n",
              "7066  Order_No_10591                      2604.55\n",
              "7067   Order_No_1603                      1504.19\n",
              "\n",
              "[7068 rows x 2 columns]"
            ]
          },
          "metadata": {
            "tags": []
          },
          "execution_count": 98
        }
      ]
    },
    {
      "cell_type": "code",
      "metadata": {
        "id": "uByPp-NCNI8g",
        "colab_type": "code",
        "colab": {}
      },
      "source": [
        "#save the results as the .csv file\n",
        "predicted.to_csv('predicted_time.csv',index=False)"
      ],
      "execution_count": 0,
      "outputs": []
    },
    {
      "cell_type": "markdown",
      "metadata": {
        "id": "tuD_CoRui8KE",
        "colab_type": "text"
      },
      "source": [
        "## Decision Tree"
      ]
    },
    {
      "cell_type": "code",
      "metadata": {
        "id": "33A08VMZjCC7",
        "colab_type": "code",
        "colab": {}
      },
      "source": [
        "from sklearn.tree import DecisionTreeRegressor\n",
        "regr_tree = DecisionTreeRegressor(max_depth=3)"
      ],
      "execution_count": 0,
      "outputs": []
    },
    {
      "cell_type": "code",
      "metadata": {
        "id": "CGaz0zr-jHpI",
        "colab_type": "code",
        "outputId": "b388b36d-04a6-491c-a024-843095818906",
        "colab": {
          "base_uri": "https://localhost:8080/",
          "height": 119
        }
      },
      "source": [
        "regr_tree.fit(X_train,Y_train)"
      ],
      "execution_count": 101,
      "outputs": [
        {
          "output_type": "execute_result",
          "data": {
            "text/plain": [
              "DecisionTreeRegressor(ccp_alpha=0.0, criterion='mse', max_depth=3,\n",
              "                      max_features=None, max_leaf_nodes=None,\n",
              "                      min_impurity_decrease=0.0, min_impurity_split=None,\n",
              "                      min_samples_leaf=1, min_samples_split=2,\n",
              "                      min_weight_fraction_leaf=0.0, presort='deprecated',\n",
              "                      random_state=None, splitter='best')"
            ]
          },
          "metadata": {
            "tags": []
          },
          "execution_count": 101
        }
      ]
    },
    {
      "cell_type": "code",
      "metadata": {
        "id": "Uq04mWuqjNNR",
        "colab_type": "code",
        "colab": {}
      },
      "source": [
        "y_pred1 = regr_tree.predict(X_test)"
      ],
      "execution_count": 0,
      "outputs": []
    },
    {
      "cell_type": "code",
      "metadata": {
        "id": "IpZA1lmtjPtg",
        "colab_type": "code",
        "outputId": "6111ce0e-4504-4a59-cf5b-8f2ab99b95ed",
        "colab": {
          "base_uri": "https://localhost:8080/",
          "height": 34
        }
      },
      "source": [
        "print(\"RMSE: \", np.sqrt(mean_squared_error(Y_test1,y_pred1)))"
      ],
      "execution_count": 105,
      "outputs": [
        {
          "output_type": "stream",
          "text": [
            "RMSE:  1656.9189779802261\n"
          ],
          "name": "stdout"
        }
      ]
    },
    {
      "cell_type": "markdown",
      "metadata": {
        "id": "ZUnwszKghYxL",
        "colab_type": "text"
      },
      "source": [
        "Lasso regression"
      ]
    },
    {
      "cell_type": "code",
      "metadata": {
        "id": "H4-Hh-xmg-DT",
        "colab_type": "code",
        "colab": {
          "base_uri": "https://localhost:8080/",
          "height": 122
        },
        "outputId": "b932d08e-1903-4435-91a7-f062a53be6bf"
      },
      "source": [
        "# Importing the model class\n",
        "from sklearn.linear_model import Lasso\n",
        "lasso = Lasso(alpha=0.1)\n",
        "lasso.fit(X_train,Y_train)"
      ],
      "execution_count": 106,
      "outputs": [
        {
          "output_type": "stream",
          "text": [
            "/usr/local/lib/python3.6/dist-packages/sklearn/linear_model/_coordinate_descent.py:476: ConvergenceWarning: Objective did not converge. You might want to increase the number of iterations. Duality gap: 4079777973.31506, tolerance: 2066371.650150738\n",
            "  positive)\n"
          ],
          "name": "stderr"
        },
        {
          "output_type": "execute_result",
          "data": {
            "text/plain": [
              "Lasso(alpha=0.1, copy_X=True, fit_intercept=True, max_iter=1000,\n",
              "      normalize=False, positive=False, precompute=False, random_state=None,\n",
              "      selection='cyclic', tol=0.0001, warm_start=False)"
            ]
          },
          "metadata": {
            "tags": []
          },
          "execution_count": 106
        }
      ]
    },
    {
      "cell_type": "code",
      "metadata": {
        "id": "LNSo87ddg977",
        "colab_type": "code",
        "colab": {
          "base_uri": "https://localhost:8080/",
          "height": 34
        },
        "outputId": "8cf40c76-bb32-446b-f4db-5bee8596b396"
      },
      "source": [
        "beta_2 = float(lasso.intercept_)\n",
        "print(beta_2)"
      ],
      "execution_count": 107,
      "outputs": [
        {
          "output_type": "stream",
          "text": [
            "427.644476176685\n"
          ],
          "name": "stdout"
        }
      ]
    },
    {
      "cell_type": "code",
      "metadata": {
        "id": "AjD-YGSVg9ze",
        "colab_type": "code",
        "colab": {}
      },
      "source": [
        "y_pred2 = lasso.predict(X_test)"
      ],
      "execution_count": 0,
      "outputs": []
    },
    {
      "cell_type": "code",
      "metadata": {
        "id": "v7m5JUjLhL_5",
        "colab_type": "code",
        "colab": {
          "base_uri": "https://localhost:8080/",
          "height": 34
        },
        "outputId": "a9119976-b595-43ef-8e3a-cbee59d27529"
      },
      "source": [
        "from sklearn import metrics\n",
        "#Calculate the Root-Mean squared error\n",
        "print('Root Mean Squared Error:', np.sqrt(metrics.mean_squared_error(Y_test1, y_pred2)))\n"
      ],
      "execution_count": 111,
      "outputs": [
        {
          "output_type": "stream",
          "text": [
            "Root Mean Squared Error: 1663.2603441630274\n"
          ],
          "name": "stdout"
        }
      ]
    },
    {
      "cell_type": "markdown",
      "metadata": {
        "id": "dXKrmFVzhmh9",
        "colab_type": "text"
      },
      "source": [
        "## Random Forest"
      ]
    },
    {
      "cell_type": "code",
      "metadata": {
        "id": "3gqe8uUFhM5Z",
        "colab_type": "code",
        "colab": {
          "base_uri": "https://localhost:8080/",
          "height": 190
        },
        "outputId": "a23ba0d6-84fd-4a16-a4fd-56aa491b85d7"
      },
      "source": [
        "from sklearn.ensemble import RandomForestRegressor\n",
        "\n",
        "# Our forest consists of 100 trees with a max depth of 3 in this example\n",
        "RF = RandomForestRegressor(n_estimators=10,criterion='mae', max_depth=3,random_state=0)\n",
        "RF.fit(X_train,Y_train)"
      ],
      "execution_count": 113,
      "outputs": [
        {
          "output_type": "stream",
          "text": [
            "/usr/local/lib/python3.6/dist-packages/ipykernel_launcher.py:5: DataConversionWarning: A column-vector y was passed when a 1d array was expected. Please change the shape of y to (n_samples,), for example using ravel().\n",
            "  \"\"\"\n"
          ],
          "name": "stderr"
        },
        {
          "output_type": "execute_result",
          "data": {
            "text/plain": [
              "RandomForestRegressor(bootstrap=True, ccp_alpha=0.0, criterion='mae',\n",
              "                      max_depth=3, max_features='auto', max_leaf_nodes=None,\n",
              "                      max_samples=None, min_impurity_decrease=0.0,\n",
              "                      min_impurity_split=None, min_samples_leaf=1,\n",
              "                      min_samples_split=2, min_weight_fraction_leaf=0.0,\n",
              "                      n_estimators=10, n_jobs=None, oob_score=False,\n",
              "                      random_state=0, verbose=0, warm_start=False)"
            ]
          },
          "metadata": {
            "tags": []
          },
          "execution_count": 113
        }
      ]
    },
    {
      "cell_type": "code",
      "metadata": {
        "id": "aAriiFt5htkr",
        "colab_type": "code",
        "colab": {
          "base_uri": "https://localhost:8080/",
          "height": 51
        },
        "outputId": "12ad561c-e584-4e33-c476-5173c6b1b7ae"
      },
      "source": [
        "from sklearn.metrics import mean_squared_error\n",
        "# Get predictions\n",
        "y_pred_RF = RF.predict(X_test)\n",
        "\n",
        "# Compute RMSE\n",
        "print(\"RMSE:\",np.sqrt(mean_squared_error(Y_test1,y_pred_RF)))\n",
        "print(\"MSE:\",mean_squared_error(Y_test1,y_pred_RF))"
      ],
      "execution_count": 114,
      "outputs": [
        {
          "output_type": "stream",
          "text": [
            "RMSE: 1503.5231942662037\n",
            "MSE: 2260581.9956964487\n"
          ],
          "name": "stdout"
        }
      ]
    },
    {
      "cell_type": "code",
      "metadata": {
        "colab_type": "code",
        "id": "G92jGV6HZNd9",
        "colab": {}
      },
      "source": [
        "# Saving the trained model as .pkl file"
      ],
      "execution_count": 0,
      "outputs": []
    },
    {
      "cell_type": "code",
      "metadata": {
        "id": "48xpxnvPX_vN",
        "colab_type": "code",
        "colab": {}
      },
      "source": [
        "model_save_path = \"trained_model.pkl\"\n",
        "with open(model_save_path,'wb') as file:\n",
        "    pickle.dump(regressor,file)"
      ],
      "execution_count": 0,
      "outputs": []
    }
  ]
}