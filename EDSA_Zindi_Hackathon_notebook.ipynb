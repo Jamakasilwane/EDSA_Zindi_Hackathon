{
  "nbformat": 4,
  "nbformat_minor": 0,
  "metadata": {
    "colab": {
      "name": "EDSA_Zindi_Hackathon.ipynb",
      "provenance": [],
      "include_colab_link": true
    },
    "kernelspec": {
      "name": "python3",
      "display_name": "Python 3"
    }
  },
  "cells": [
    {
      "cell_type": "markdown",
      "metadata": {
        "id": "view-in-github",
        "colab_type": "text"
      },
      "source": [
        "<a href=\"https://colab.research.google.com/github/Jamakasilwane/EDSA_Zindi_Hackathon/blob/master/EDSA_Zindi_Hackathon_notebook.ipynb\" target=\"_parent\"><img src=\"https://colab.research.google.com/assets/colab-badge.svg\" alt=\"Open In Colab\"/></a>"
      ]
    },
    {
      "cell_type": "markdown",
      "metadata": {
        "id": "Sk8M7_I2Ze1P",
        "colab_type": "text"
      },
      "source": [
        "# **EDSA-Zindi Hackathon Notebook**"
      ]
    },
    {
      "cell_type": "markdown",
      "metadata": {
        "id": "of0IXwwZbxwX",
        "colab_type": "text"
      },
      "source": [
        "# Introduction"
      ]
    },
    {
      "cell_type": "markdown",
      "metadata": {
        "id": "q91BFbW4X_sh",
        "colab_type": "text"
      },
      "source": [
        "Machine Learning and the use of regression models to make predictions have gained popularity in the logistic sector over the years. To improve the consistency and effeciency of deliveries, logistic companies have turned to using model training as a way to accuratley measure the Estimated Time of Arrival (ETA).\n",
        "\n",
        "The following is a machine Learning problem which forms part of the Sendy Logistics Challenge hackathon hosted by Zindi. The aim of this project is to train a Machine Learning Model for an improved understanding in determining the Estimated Time of Arrival (ETA) for motorbike deliveries in Nairobi.\n",
        "\n",
        "**Background of the Competition**\n",
        "\n",
        "Zindi is the platform that hosts several or different Machine Learning Hackathons around the Africa Continent and with Sendy Logistics this Machine learning Hackathon is for the EDSA Explore Data-Science Academy Students that are currently enrolled for 2020 Academic Year. Sendy Logistics Company helps Clients/Customers to trade easily, deliver more competetive and build extraordinary businesses by transporting different kind of packages or deliveries from one point to another point efficiently. This Machine Learning problem is to solve the efficiency of Sendy's services and to better communication to the customers.\n",
        "\n",
        "\n",
        "\n",
        "\n",
        "\n",
        "\n",
        "\n",
        "\n",
        "\n",
        "\n",
        "\n",
        "\n"
      ]
    },
    {
      "cell_type": "markdown",
      "metadata": {
        "id": "mftHi5y1Zrd9",
        "colab_type": "text"
      },
      "source": [
        "## Importing Libraries"
      ]
    },
    {
      "cell_type": "code",
      "metadata": {
        "id": "C_sxBoBFIPuc",
        "colab_type": "code",
        "colab": {}
      },
      "source": [
        "import numpy as np\n",
        "import pandas as pd\n",
        "import matplotlib.pyplot as plt\n",
        "%matplotlib inline\n",
        "import seaborn as sns\n",
        "from IPython.core.pylabtools import figsize\n",
        "\n",
        "# Imputing missing values and scaling values\n",
        "from sklearn.impute import SimpleImputer\n",
        "from sklearn.preprocessing import StandardScaler\n",
        "\n",
        "#Regression (Machine Learning Models)\n",
        "from sklearn.linear_model import LinearRegression\n",
        "from sklearn.linear_model import Lasso\n",
        "from sklearn.metrics import mean_squared_error\n",
        "from sklearn import metrics\n",
        "from sklearn.tree import DecisionTreeRegressor\n",
        "from sklearn.ensemble import RandomForestRegressor\n",
        "from sklearn.svm import SVR\n",
        "from sklearn.linear_model import Ridge\n",
        "\n",
        "# Hyperparameter tuning\n",
        "from sklearn.model_selection import RandomizedSearchCV, GridSearchCV\n",
        "\n",
        "#API\n",
        "import pickle"
      ],
      "execution_count": 0,
      "outputs": []
    },
    {
      "cell_type": "markdown",
      "metadata": {
        "id": "FmrAMSHOaFMD",
        "colab_type": "text"
      },
      "source": [
        "## Importing the dataset"
      ]
    },
    {
      "cell_type": "markdown",
      "metadata": {
        "id": "4QT1FudEX_sn",
        "colab_type": "text"
      },
      "source": [
        "The following is the imported Data for Training the Machine Learning Model to predict the estimated time a delivery will take from one point to another point with full detail of each Dataset :\n",
        "\n",
        "1. Train.csv { Dataset that contains all the variables that should be used to train the model to predict the estimated time. }\n",
        "2. Test.csv  { Dataset that contains variables that will be used to test the model's accuracy in predicting the estimated time. }\n",
        "3. SampleSubmission.csv {Sample of the Submission's expectation of the model trained for this Machine Learning problem. }\n",
        "4. variableDefinitions.csv  {Dataset that contains all the definition of the whole data provided in details and gives more clarity of the data. }\n"
      ]
    },
    {
      "cell_type": "code",
      "metadata": {
        "id": "pcZbUrwUIrtA",
        "colab_type": "code",
        "colab": {}
      },
      "source": [
        "train = pd.read_csv(\"https://raw.githubusercontent.com/Jamakasilwane/EDSA_Zindi_Hackathon/master/Data/Train.csv\")\n",
        "test = pd.read_csv(\"https://raw.githubusercontent.com/Jamakasilwane/EDSA_Zindi_Hackathon/master/Data/Test.csv\")\n",
        "dataset_sample = pd.read_csv(\"https://raw.githubusercontent.com/Jamakasilwane/EDSA_Zindi_Hackathon/master/Data/SampleSubmission.csv\")\n",
        "var = pd.read_csv('https://raw.githubusercontent.com/Jamakasilwane/EDSA_Zindi_Hackathon/master/Data/VariableDefinitions.csv')"
      ],
      "execution_count": 0,
      "outputs": []
    },
    {
      "cell_type": "markdown",
      "metadata": {
        "id": "jZT51093cAhy",
        "colab_type": "text"
      },
      "source": [
        "# Data Preprocessing"
      ]
    },
    {
      "cell_type": "markdown",
      "metadata": {
        "id": "t4Vcd1SwX_sr",
        "colab_type": "text"
      },
      "source": [
        "## Data Cleaning and Formatting"
      ]
    },
    {
      "cell_type": "markdown",
      "metadata": {
        "id": "CDd4TDUBqhsQ",
        "colab_type": "text"
      },
      "source": [
        "The following section looks at information which pertains to both the training and testing datasets. It looks at the columns data types as check whether they correspond with what each column shows. We also check for missing values in the datasets. "
      ]
    },
    {
      "cell_type": "code",
      "metadata": {
        "id": "MdsyQ4eKX_ss",
        "colab_type": "code",
        "outputId": "d150b8da-199e-4181-e6fd-35a424eb50de",
        "colab": {
          "base_uri": "https://localhost:8080/",
          "height": 267
        }
      },
      "source": [
        "train.head(2)"
      ],
      "execution_count": 239,
      "outputs": [
        {
          "output_type": "execute_result",
          "data": {
            "text/html": [
              "<div>\n",
              "<style scoped>\n",
              "    .dataframe tbody tr th:only-of-type {\n",
              "        vertical-align: middle;\n",
              "    }\n",
              "\n",
              "    .dataframe tbody tr th {\n",
              "        vertical-align: top;\n",
              "    }\n",
              "\n",
              "    .dataframe thead th {\n",
              "        text-align: right;\n",
              "    }\n",
              "</style>\n",
              "<table border=\"1\" class=\"dataframe\">\n",
              "  <thead>\n",
              "    <tr style=\"text-align: right;\">\n",
              "      <th></th>\n",
              "      <th>Order No</th>\n",
              "      <th>User Id</th>\n",
              "      <th>Vehicle Type</th>\n",
              "      <th>Platform Type</th>\n",
              "      <th>Personal or Business</th>\n",
              "      <th>Placement - Day of Month</th>\n",
              "      <th>Placement - Weekday (Mo = 1)</th>\n",
              "      <th>Placement - Time</th>\n",
              "      <th>Confirmation - Day of Month</th>\n",
              "      <th>Confirmation - Weekday (Mo = 1)</th>\n",
              "      <th>Confirmation - Time</th>\n",
              "      <th>Arrival at Pickup - Day of Month</th>\n",
              "      <th>Arrival at Pickup - Weekday (Mo = 1)</th>\n",
              "      <th>Arrival at Pickup - Time</th>\n",
              "      <th>Pickup - Day of Month</th>\n",
              "      <th>Pickup - Weekday (Mo = 1)</th>\n",
              "      <th>Pickup - Time</th>\n",
              "      <th>Arrival at Destination - Day of Month</th>\n",
              "      <th>Arrival at Destination - Weekday (Mo = 1)</th>\n",
              "      <th>Arrival at Destination - Time</th>\n",
              "      <th>Distance (KM)</th>\n",
              "      <th>Temperature</th>\n",
              "      <th>Precipitation in millimeters</th>\n",
              "      <th>Pickup Lat</th>\n",
              "      <th>Pickup Long</th>\n",
              "      <th>Destination Lat</th>\n",
              "      <th>Destination Long</th>\n",
              "      <th>Rider Id</th>\n",
              "      <th>Time from Pickup to Arrival</th>\n",
              "    </tr>\n",
              "  </thead>\n",
              "  <tbody>\n",
              "    <tr>\n",
              "      <th>0</th>\n",
              "      <td>Order_No_4211</td>\n",
              "      <td>User_Id_633</td>\n",
              "      <td>Bike</td>\n",
              "      <td>3</td>\n",
              "      <td>Business</td>\n",
              "      <td>9</td>\n",
              "      <td>5</td>\n",
              "      <td>9:35:46 AM</td>\n",
              "      <td>9</td>\n",
              "      <td>5</td>\n",
              "      <td>9:40:10 AM</td>\n",
              "      <td>9</td>\n",
              "      <td>5</td>\n",
              "      <td>10:04:47 AM</td>\n",
              "      <td>9</td>\n",
              "      <td>5</td>\n",
              "      <td>10:27:30 AM</td>\n",
              "      <td>9</td>\n",
              "      <td>5</td>\n",
              "      <td>10:39:55 AM</td>\n",
              "      <td>4</td>\n",
              "      <td>20.4</td>\n",
              "      <td>NaN</td>\n",
              "      <td>-1.317755</td>\n",
              "      <td>36.830370</td>\n",
              "      <td>-1.300406</td>\n",
              "      <td>36.829741</td>\n",
              "      <td>Rider_Id_432</td>\n",
              "      <td>745</td>\n",
              "    </tr>\n",
              "    <tr>\n",
              "      <th>1</th>\n",
              "      <td>Order_No_25375</td>\n",
              "      <td>User_Id_2285</td>\n",
              "      <td>Bike</td>\n",
              "      <td>3</td>\n",
              "      <td>Personal</td>\n",
              "      <td>12</td>\n",
              "      <td>5</td>\n",
              "      <td>11:16:16 AM</td>\n",
              "      <td>12</td>\n",
              "      <td>5</td>\n",
              "      <td>11:23:21 AM</td>\n",
              "      <td>12</td>\n",
              "      <td>5</td>\n",
              "      <td>11:40:22 AM</td>\n",
              "      <td>12</td>\n",
              "      <td>5</td>\n",
              "      <td>11:44:09 AM</td>\n",
              "      <td>12</td>\n",
              "      <td>5</td>\n",
              "      <td>12:17:22 PM</td>\n",
              "      <td>16</td>\n",
              "      <td>26.4</td>\n",
              "      <td>NaN</td>\n",
              "      <td>-1.351453</td>\n",
              "      <td>36.899315</td>\n",
              "      <td>-1.295004</td>\n",
              "      <td>36.814358</td>\n",
              "      <td>Rider_Id_856</td>\n",
              "      <td>1993</td>\n",
              "    </tr>\n",
              "  </tbody>\n",
              "</table>\n",
              "</div>"
            ],
            "text/plain": [
              "         Order No       User Id  ...      Rider Id  Time from Pickup to Arrival\n",
              "0   Order_No_4211   User_Id_633  ...  Rider_Id_432                          745\n",
              "1  Order_No_25375  User_Id_2285  ...  Rider_Id_856                         1993\n",
              "\n",
              "[2 rows x 29 columns]"
            ]
          },
          "metadata": {
            "tags": []
          },
          "execution_count": 239
        }
      ]
    },
    {
      "cell_type": "code",
      "metadata": {
        "id": "Cg0ogBLVX_sv",
        "colab_type": "code",
        "outputId": "9b3b891a-a6a0-4f37-b57f-1a7453209986",
        "colab": {
          "base_uri": "https://localhost:8080/",
          "height": 629
        }
      },
      "source": [
        "#Checking the dataset_train information\n",
        "train.info()"
      ],
      "execution_count": 240,
      "outputs": [
        {
          "output_type": "stream",
          "text": [
            "<class 'pandas.core.frame.DataFrame'>\n",
            "RangeIndex: 21201 entries, 0 to 21200\n",
            "Data columns (total 29 columns):\n",
            " #   Column                                     Non-Null Count  Dtype  \n",
            "---  ------                                     --------------  -----  \n",
            " 0   Order No                                   21201 non-null  object \n",
            " 1   User Id                                    21201 non-null  object \n",
            " 2   Vehicle Type                               21201 non-null  object \n",
            " 3   Platform Type                              21201 non-null  int64  \n",
            " 4   Personal or Business                       21201 non-null  object \n",
            " 5   Placement - Day of Month                   21201 non-null  int64  \n",
            " 6   Placement - Weekday (Mo = 1)               21201 non-null  int64  \n",
            " 7   Placement - Time                           21201 non-null  object \n",
            " 8   Confirmation - Day of Month                21201 non-null  int64  \n",
            " 9   Confirmation - Weekday (Mo = 1)            21201 non-null  int64  \n",
            " 10  Confirmation - Time                        21201 non-null  object \n",
            " 11  Arrival at Pickup - Day of Month           21201 non-null  int64  \n",
            " 12  Arrival at Pickup - Weekday (Mo = 1)       21201 non-null  int64  \n",
            " 13  Arrival at Pickup - Time                   21201 non-null  object \n",
            " 14  Pickup - Day of Month                      21201 non-null  int64  \n",
            " 15  Pickup - Weekday (Mo = 1)                  21201 non-null  int64  \n",
            " 16  Pickup - Time                              21201 non-null  object \n",
            " 17  Arrival at Destination - Day of Month      21201 non-null  int64  \n",
            " 18  Arrival at Destination - Weekday (Mo = 1)  21201 non-null  int64  \n",
            " 19  Arrival at Destination - Time              21201 non-null  object \n",
            " 20  Distance (KM)                              21201 non-null  int64  \n",
            " 21  Temperature                                16835 non-null  float64\n",
            " 22  Precipitation in millimeters               552 non-null    float64\n",
            " 23  Pickup Lat                                 21201 non-null  float64\n",
            " 24  Pickup Long                                21201 non-null  float64\n",
            " 25  Destination Lat                            21201 non-null  float64\n",
            " 26  Destination Long                           21201 non-null  float64\n",
            " 27  Rider Id                                   21201 non-null  object \n",
            " 28  Time from Pickup to Arrival                21201 non-null  int64  \n",
            "dtypes: float64(6), int64(13), object(10)\n",
            "memory usage: 4.7+ MB\n"
          ],
          "name": "stdout"
        }
      ]
    },
    {
      "cell_type": "code",
      "metadata": {
        "id": "NMHeTn66X_sz",
        "colab_type": "code",
        "outputId": "58146453-358d-4038-e493-cc7b1ba99e58",
        "colab": {
          "base_uri": "https://localhost:8080/",
          "height": 561
        }
      },
      "source": [
        "test.info()"
      ],
      "execution_count": 241,
      "outputs": [
        {
          "output_type": "stream",
          "text": [
            "<class 'pandas.core.frame.DataFrame'>\n",
            "RangeIndex: 7068 entries, 0 to 7067\n",
            "Data columns (total 25 columns):\n",
            " #   Column                                Non-Null Count  Dtype  \n",
            "---  ------                                --------------  -----  \n",
            " 0   Order No                              7068 non-null   object \n",
            " 1   User Id                               7068 non-null   object \n",
            " 2   Vehicle Type                          7068 non-null   object \n",
            " 3   Platform Type                         7068 non-null   int64  \n",
            " 4   Personal or Business                  7068 non-null   object \n",
            " 5   Placement - Day of Month              7068 non-null   int64  \n",
            " 6   Placement - Weekday (Mo = 1)          7068 non-null   int64  \n",
            " 7   Placement - Time                      7068 non-null   object \n",
            " 8   Confirmation - Day of Month           7068 non-null   int64  \n",
            " 9   Confirmation - Weekday (Mo = 1)       7068 non-null   int64  \n",
            " 10  Confirmation - Time                   7068 non-null   object \n",
            " 11  Arrival at Pickup - Day of Month      7068 non-null   int64  \n",
            " 12  Arrival at Pickup - Weekday (Mo = 1)  7068 non-null   int64  \n",
            " 13  Arrival at Pickup - Time              7068 non-null   object \n",
            " 14  Pickup - Day of Month                 7068 non-null   int64  \n",
            " 15  Pickup - Weekday (Mo = 1)             7068 non-null   int64  \n",
            " 16  Pickup - Time                         7068 non-null   object \n",
            " 17  Distance (KM)                         7068 non-null   int64  \n",
            " 18  Temperature                           5631 non-null   float64\n",
            " 19  Precipitation in millimeters          199 non-null    float64\n",
            " 20  Pickup Lat                            7068 non-null   float64\n",
            " 21  Pickup Long                           7068 non-null   float64\n",
            " 22  Destination Lat                       7068 non-null   float64\n",
            " 23  Destination Long                      7068 non-null   float64\n",
            " 24  Rider Id                              7068 non-null   object \n",
            "dtypes: float64(6), int64(10), object(9)\n",
            "memory usage: 1.3+ MB\n"
          ],
          "name": "stdout"
        }
      ]
    },
    {
      "cell_type": "markdown",
      "metadata": {
        "id": "4Eodz6-7X_s1",
        "colab_type": "text"
      },
      "source": [
        "Looking at the datasets information, there are few data types which are incorrectly formatted. These includes:\n",
        "\n",
        "*   Placement - Time\n",
        "*   Confirmation - Time\n",
        "*   Arrival at Pickup - Time\n",
        "*   Pickup - Time\n",
        "*   Arrival at Destination - Time\n",
        " "
      ]
    },
    {
      "cell_type": "markdown",
      "metadata": {
        "id": "s1ZP0z3GgWBG",
        "colab_type": "text"
      },
      "source": [
        "### Changing Time Columns Types Into Datetime Objects"
      ]
    },
    {
      "cell_type": "markdown",
      "metadata": {
        "id": "vSO_orUsgymM",
        "colab_type": "text"
      },
      "source": [
        "The aforementioned columns above should be in a datetime format but they have been declared as object types. The function below converts all type columns into the correct type format (datetime)."
      ]
    },
    {
      "cell_type": "code",
      "metadata": {
        "id": "rx7jaiZ2X_s2",
        "colab_type": "code",
        "colab": {}
      },
      "source": [
        "#changing the data type of columns containing Time in the both train & test dataset\n",
        "data = train.iloc[:,:-2].columns\n",
        "for col in list(data):\n",
        "    if 'Time' in col:\n",
        "        train[col] = pd.to_datetime(train[col])\n",
        "for col in list(test):\n",
        "    if 'Time' in col:\n",
        "        test[col] = pd.to_datetime(test[col])      "
      ],
      "execution_count": 0,
      "outputs": []
    },
    {
      "cell_type": "markdown",
      "metadata": {
        "id": "6udjQG00bhDc",
        "colab_type": "text"
      },
      "source": [
        "### Checking for missing values"
      ]
    },
    {
      "cell_type": "code",
      "metadata": {
        "id": "37_fg1OUX_s6",
        "colab_type": "code",
        "outputId": "1a27b10a-5e06-4cdb-9446-b4d2d8c1ef2c",
        "colab": {
          "base_uri": "https://localhost:8080/",
          "height": 0
        }
      },
      "source": [
        "#looking at the missing values in each column\n",
        "train.isnull().sum()"
      ],
      "execution_count": 243,
      "outputs": [
        {
          "output_type": "execute_result",
          "data": {
            "text/plain": [
              "Order No                                         0\n",
              "User Id                                          0\n",
              "Vehicle Type                                     0\n",
              "Platform Type                                    0\n",
              "Personal or Business                             0\n",
              "Placement - Day of Month                         0\n",
              "Placement - Weekday (Mo = 1)                     0\n",
              "Placement - Time                                 0\n",
              "Confirmation - Day of Month                      0\n",
              "Confirmation - Weekday (Mo = 1)                  0\n",
              "Confirmation - Time                              0\n",
              "Arrival at Pickup - Day of Month                 0\n",
              "Arrival at Pickup - Weekday (Mo = 1)             0\n",
              "Arrival at Pickup - Time                         0\n",
              "Pickup - Day of Month                            0\n",
              "Pickup - Weekday (Mo = 1)                        0\n",
              "Pickup - Time                                    0\n",
              "Arrival at Destination - Day of Month            0\n",
              "Arrival at Destination - Weekday (Mo = 1)        0\n",
              "Arrival at Destination - Time                    0\n",
              "Distance (KM)                                    0\n",
              "Temperature                                   4366\n",
              "Precipitation in millimeters                 20649\n",
              "Pickup Lat                                       0\n",
              "Pickup Long                                      0\n",
              "Destination Lat                                  0\n",
              "Destination Long                                 0\n",
              "Rider Id                                         0\n",
              "Time from Pickup to Arrival                      0\n",
              "dtype: int64"
            ]
          },
          "metadata": {
            "tags": []
          },
          "execution_count": 243
        }
      ]
    },
    {
      "cell_type": "markdown",
      "metadata": {
        "id": "21bA9Dv4kUzf",
        "colab_type": "text"
      },
      "source": [
        "Since we now have the correct format of all the data types in the training data set, we then start to analyse the information variables containing numeric values. This includes checking for missing values and their percentage (%). From the data below, 'Temperature' and 'Precipitation in millimeters' columns have the the highest missing values in both datasets with 20.59% and 97.40% respectively."
      ]
    },
    {
      "cell_type": "code",
      "metadata": {
        "id": "jVC_PsYKkcqJ",
        "colab_type": "code",
        "outputId": "e4a0a184-3f05-4ac0-e6c5-30e12154d402",
        "colab": {
          "base_uri": "https://localhost:8080/",
          "height": 0
        }
      },
      "source": [
        "#Checking the percetage of the missing values\n",
        "round(train[['Temperature','Precipitation in millimeters']].isnull().sum()*100/\n",
        "      len(train),2)"
      ],
      "execution_count": 244,
      "outputs": [
        {
          "output_type": "execute_result",
          "data": {
            "text/plain": [
              "Temperature                     20.59\n",
              "Precipitation in millimeters    97.40\n",
              "dtype: float64"
            ]
          },
          "metadata": {
            "tags": []
          },
          "execution_count": 244
        }
      ]
    },
    {
      "cell_type": "markdown",
      "metadata": {
        "id": "P_aHAYfkX_s_",
        "colab_type": "text"
      },
      "source": [
        "## Exploratory Data Analysis"
      ]
    },
    {
      "cell_type": "markdown",
      "metadata": {
        "id": "dxz2xio4X_tA",
        "colab_type": "text"
      },
      "source": [
        "Exploratory Data Analysis is the most important part in both Supervised and Unsupervised Machine Learning. Although it only gives us the overview of the provided data, we get to compare Variables/Columns of the Data provided and also get to plot different Graphs to visualize between certain Variables or visualize the Variable on it own.The following section gives an overview of some of the data provided and required for model training and testing.\n",
        "\n",
        "As a way of preserving the uncleaned data, we start by making copies of the original dataframe.  Furthermore, a statistic description the dataframe was looked at to understand the data structure. The key takeways from the statistic descriotion is that the count of precipitaion and temperature differs from the rest of the dataset. Key insights of variables which have been illustrated using graphs have been provided each graph. "
      ]
    },
    {
      "cell_type": "code",
      "metadata": {
        "id": "chxjD3W72glK",
        "colab_type": "code",
        "colab": {}
      },
      "source": [
        "#Making a copy for the dataframe\n",
        "dataset_train = train.copy()\n",
        "dataset_test = test.copy()"
      ],
      "execution_count": 0,
      "outputs": []
    },
    {
      "cell_type": "code",
      "metadata": {
        "id": "JV9kIywBX_tF",
        "colab_type": "code",
        "outputId": "17b152bc-b19b-4722-e5b7-abbed2fdfcd1",
        "colab": {
          "base_uri": "https://localhost:8080/",
          "height": 638
        }
      },
      "source": [
        "#checking the statistics description for the training dataset\n",
        "round(dataset_train.describe().T,2)"
      ],
      "execution_count": 246,
      "outputs": [
        {
          "output_type": "execute_result",
          "data": {
            "text/html": [
              "<div>\n",
              "<style scoped>\n",
              "    .dataframe tbody tr th:only-of-type {\n",
              "        vertical-align: middle;\n",
              "    }\n",
              "\n",
              "    .dataframe tbody tr th {\n",
              "        vertical-align: top;\n",
              "    }\n",
              "\n",
              "    .dataframe thead th {\n",
              "        text-align: right;\n",
              "    }\n",
              "</style>\n",
              "<table border=\"1\" class=\"dataframe\">\n",
              "  <thead>\n",
              "    <tr style=\"text-align: right;\">\n",
              "      <th></th>\n",
              "      <th>count</th>\n",
              "      <th>mean</th>\n",
              "      <th>std</th>\n",
              "      <th>min</th>\n",
              "      <th>25%</th>\n",
              "      <th>50%</th>\n",
              "      <th>75%</th>\n",
              "      <th>max</th>\n",
              "    </tr>\n",
              "  </thead>\n",
              "  <tbody>\n",
              "    <tr>\n",
              "      <th>Platform Type</th>\n",
              "      <td>21201.0</td>\n",
              "      <td>2.75</td>\n",
              "      <td>0.63</td>\n",
              "      <td>1.00</td>\n",
              "      <td>3.00</td>\n",
              "      <td>3.00</td>\n",
              "      <td>3.00</td>\n",
              "      <td>4.00</td>\n",
              "    </tr>\n",
              "    <tr>\n",
              "      <th>Placement - Day of Month</th>\n",
              "      <td>21201.0</td>\n",
              "      <td>15.65</td>\n",
              "      <td>8.80</td>\n",
              "      <td>1.00</td>\n",
              "      <td>8.00</td>\n",
              "      <td>15.00</td>\n",
              "      <td>23.00</td>\n",
              "      <td>31.00</td>\n",
              "    </tr>\n",
              "    <tr>\n",
              "      <th>Placement - Weekday (Mo = 1)</th>\n",
              "      <td>21201.0</td>\n",
              "      <td>3.24</td>\n",
              "      <td>1.57</td>\n",
              "      <td>1.00</td>\n",
              "      <td>2.00</td>\n",
              "      <td>3.00</td>\n",
              "      <td>5.00</td>\n",
              "      <td>7.00</td>\n",
              "    </tr>\n",
              "    <tr>\n",
              "      <th>Confirmation - Day of Month</th>\n",
              "      <td>21201.0</td>\n",
              "      <td>15.65</td>\n",
              "      <td>8.80</td>\n",
              "      <td>1.00</td>\n",
              "      <td>8.00</td>\n",
              "      <td>15.00</td>\n",
              "      <td>23.00</td>\n",
              "      <td>31.00</td>\n",
              "    </tr>\n",
              "    <tr>\n",
              "      <th>Confirmation - Weekday (Mo = 1)</th>\n",
              "      <td>21201.0</td>\n",
              "      <td>3.24</td>\n",
              "      <td>1.57</td>\n",
              "      <td>1.00</td>\n",
              "      <td>2.00</td>\n",
              "      <td>3.00</td>\n",
              "      <td>5.00</td>\n",
              "      <td>7.00</td>\n",
              "    </tr>\n",
              "    <tr>\n",
              "      <th>Arrival at Pickup - Day of Month</th>\n",
              "      <td>21201.0</td>\n",
              "      <td>15.65</td>\n",
              "      <td>8.80</td>\n",
              "      <td>1.00</td>\n",
              "      <td>8.00</td>\n",
              "      <td>15.00</td>\n",
              "      <td>23.00</td>\n",
              "      <td>31.00</td>\n",
              "    </tr>\n",
              "    <tr>\n",
              "      <th>Arrival at Pickup - Weekday (Mo = 1)</th>\n",
              "      <td>21201.0</td>\n",
              "      <td>3.24</td>\n",
              "      <td>1.57</td>\n",
              "      <td>1.00</td>\n",
              "      <td>2.00</td>\n",
              "      <td>3.00</td>\n",
              "      <td>5.00</td>\n",
              "      <td>7.00</td>\n",
              "    </tr>\n",
              "    <tr>\n",
              "      <th>Pickup - Day of Month</th>\n",
              "      <td>21201.0</td>\n",
              "      <td>15.65</td>\n",
              "      <td>8.80</td>\n",
              "      <td>1.00</td>\n",
              "      <td>8.00</td>\n",
              "      <td>15.00</td>\n",
              "      <td>23.00</td>\n",
              "      <td>31.00</td>\n",
              "    </tr>\n",
              "    <tr>\n",
              "      <th>Pickup - Weekday (Mo = 1)</th>\n",
              "      <td>21201.0</td>\n",
              "      <td>3.24</td>\n",
              "      <td>1.57</td>\n",
              "      <td>1.00</td>\n",
              "      <td>2.00</td>\n",
              "      <td>3.00</td>\n",
              "      <td>5.00</td>\n",
              "      <td>7.00</td>\n",
              "    </tr>\n",
              "    <tr>\n",
              "      <th>Arrival at Destination - Day of Month</th>\n",
              "      <td>21201.0</td>\n",
              "      <td>15.65</td>\n",
              "      <td>8.80</td>\n",
              "      <td>1.00</td>\n",
              "      <td>8.00</td>\n",
              "      <td>15.00</td>\n",
              "      <td>23.00</td>\n",
              "      <td>31.00</td>\n",
              "    </tr>\n",
              "    <tr>\n",
              "      <th>Arrival at Destination - Weekday (Mo = 1)</th>\n",
              "      <td>21201.0</td>\n",
              "      <td>3.24</td>\n",
              "      <td>1.57</td>\n",
              "      <td>1.00</td>\n",
              "      <td>2.00</td>\n",
              "      <td>3.00</td>\n",
              "      <td>5.00</td>\n",
              "      <td>7.00</td>\n",
              "    </tr>\n",
              "    <tr>\n",
              "      <th>Distance (KM)</th>\n",
              "      <td>21201.0</td>\n",
              "      <td>9.51</td>\n",
              "      <td>5.67</td>\n",
              "      <td>1.00</td>\n",
              "      <td>5.00</td>\n",
              "      <td>8.00</td>\n",
              "      <td>13.00</td>\n",
              "      <td>49.00</td>\n",
              "    </tr>\n",
              "    <tr>\n",
              "      <th>Temperature</th>\n",
              "      <td>16835.0</td>\n",
              "      <td>23.26</td>\n",
              "      <td>3.62</td>\n",
              "      <td>11.20</td>\n",
              "      <td>20.60</td>\n",
              "      <td>23.50</td>\n",
              "      <td>26.00</td>\n",
              "      <td>32.10</td>\n",
              "    </tr>\n",
              "    <tr>\n",
              "      <th>Precipitation in millimeters</th>\n",
              "      <td>552.0</td>\n",
              "      <td>7.91</td>\n",
              "      <td>17.09</td>\n",
              "      <td>0.10</td>\n",
              "      <td>1.08</td>\n",
              "      <td>2.90</td>\n",
              "      <td>4.90</td>\n",
              "      <td>99.10</td>\n",
              "    </tr>\n",
              "    <tr>\n",
              "      <th>Pickup Lat</th>\n",
              "      <td>21201.0</td>\n",
              "      <td>-1.28</td>\n",
              "      <td>0.03</td>\n",
              "      <td>-1.44</td>\n",
              "      <td>-1.30</td>\n",
              "      <td>-1.28</td>\n",
              "      <td>-1.26</td>\n",
              "      <td>-1.15</td>\n",
              "    </tr>\n",
              "    <tr>\n",
              "      <th>Pickup Long</th>\n",
              "      <td>21201.0</td>\n",
              "      <td>36.81</td>\n",
              "      <td>0.04</td>\n",
              "      <td>36.65</td>\n",
              "      <td>36.78</td>\n",
              "      <td>36.81</td>\n",
              "      <td>36.83</td>\n",
              "      <td>36.99</td>\n",
              "    </tr>\n",
              "    <tr>\n",
              "      <th>Destination Lat</th>\n",
              "      <td>21201.0</td>\n",
              "      <td>-1.28</td>\n",
              "      <td>0.03</td>\n",
              "      <td>-1.43</td>\n",
              "      <td>-1.30</td>\n",
              "      <td>-1.28</td>\n",
              "      <td>-1.26</td>\n",
              "      <td>-1.03</td>\n",
              "    </tr>\n",
              "    <tr>\n",
              "      <th>Destination Long</th>\n",
              "      <td>21201.0</td>\n",
              "      <td>36.81</td>\n",
              "      <td>0.04</td>\n",
              "      <td>36.61</td>\n",
              "      <td>36.79</td>\n",
              "      <td>36.81</td>\n",
              "      <td>36.83</td>\n",
              "      <td>37.02</td>\n",
              "    </tr>\n",
              "    <tr>\n",
              "      <th>Time from Pickup to Arrival</th>\n",
              "      <td>21201.0</td>\n",
              "      <td>1556.92</td>\n",
              "      <td>987.27</td>\n",
              "      <td>1.00</td>\n",
              "      <td>882.00</td>\n",
              "      <td>1369.00</td>\n",
              "      <td>2040.00</td>\n",
              "      <td>7883.00</td>\n",
              "    </tr>\n",
              "  </tbody>\n",
              "</table>\n",
              "</div>"
            ],
            "text/plain": [
              "                                             count     mean  ...      75%      max\n",
              "Platform Type                              21201.0     2.75  ...     3.00     4.00\n",
              "Placement - Day of Month                   21201.0    15.65  ...    23.00    31.00\n",
              "Placement - Weekday (Mo = 1)               21201.0     3.24  ...     5.00     7.00\n",
              "Confirmation - Day of Month                21201.0    15.65  ...    23.00    31.00\n",
              "Confirmation - Weekday (Mo = 1)            21201.0     3.24  ...     5.00     7.00\n",
              "Arrival at Pickup - Day of Month           21201.0    15.65  ...    23.00    31.00\n",
              "Arrival at Pickup - Weekday (Mo = 1)       21201.0     3.24  ...     5.00     7.00\n",
              "Pickup - Day of Month                      21201.0    15.65  ...    23.00    31.00\n",
              "Pickup - Weekday (Mo = 1)                  21201.0     3.24  ...     5.00     7.00\n",
              "Arrival at Destination - Day of Month      21201.0    15.65  ...    23.00    31.00\n",
              "Arrival at Destination - Weekday (Mo = 1)  21201.0     3.24  ...     5.00     7.00\n",
              "Distance (KM)                              21201.0     9.51  ...    13.00    49.00\n",
              "Temperature                                16835.0    23.26  ...    26.00    32.10\n",
              "Precipitation in millimeters                 552.0     7.91  ...     4.90    99.10\n",
              "Pickup Lat                                 21201.0    -1.28  ...    -1.26    -1.15\n",
              "Pickup Long                                21201.0    36.81  ...    36.83    36.99\n",
              "Destination Lat                            21201.0    -1.28  ...    -1.26    -1.03\n",
              "Destination Long                           21201.0    36.81  ...    36.83    37.02\n",
              "Time from Pickup to Arrival                21201.0  1556.92  ...  2040.00  7883.00\n",
              "\n",
              "[19 rows x 8 columns]"
            ]
          },
          "metadata": {
            "tags": []
          },
          "execution_count": 246
        }
      ]
    },
    {
      "cell_type": "code",
      "metadata": {
        "id": "EQ5U7LK5X_tM",
        "colab_type": "code",
        "outputId": "66bb6477-e03b-46dc-903b-c44288df02d2",
        "colab": {
          "base_uri": "https://localhost:8080/",
          "height": 295
        }
      },
      "source": [
        "train['Temperature'].hist(bins = 10)\n",
        "plt.title('Temperature Normal Distribution')\n",
        "plt.xlabel('Temperature in Degrees Celcius')\n",
        "plt.ylabel('Count')\n",
        "plt.show()"
      ],
      "execution_count": 247,
      "outputs": [
        {
          "output_type": "display_data",
          "data": {
            "image/png": "[encoded data removed]",
            "text/plain": [
              "<Figure size 432x288 with 1 Axes>"
            ]
          },
          "metadata": {
            "tags": [],
            "needs_background": "light"
          }
        }
      ]
    },
    {
      "cell_type": "markdown",
      "metadata": {
        "id": "LGFlyuV5z_eq",
        "colab_type": "text"
      },
      "source": [
        "The most common temperature at the time of order placement is 25 Degrees Celsius "
      ]
    },
    {
      "cell_type": "code",
      "metadata": {
        "id": "er28-wVVX_tP",
        "colab_type": "code",
        "outputId": "9a31024b-85e1-4b3c-aefc-5ad6b08012db",
        "colab": {
          "base_uri": "https://localhost:8080/",
          "height": 295
        }
      },
      "source": [
        "train['Precipitation in millimeters'].hist(bins = 10)\n",
        "plt.xlabel('Precipitation in millimeters')\n",
        "plt.ylabel('Count')\n",
        "plt.title('Precipitation Distribution ')\n",
        "plt.show()"
      ],
      "execution_count": 248,
      "outputs": [
        {
          "output_type": "display_data",
          "data": {
            "image/png": "[encoded data removed]",
            "text/plain": [
              "<Figure size 432x288 with 1 Axes>"
            ]
          },
          "metadata": {
            "tags": [],
            "needs_background": "light"
          }
        }
      ]
    },
    {
      "cell_type": "markdown",
      "metadata": {
        "id": "yCxfESXn0Rof",
        "colab_type": "text"
      },
      "source": [
        "The most common level of precipitation at the time of order placement was less than 20ml"
      ]
    },
    {
      "cell_type": "code",
      "metadata": {
        "id": "fI_V9rSFX_tS",
        "colab_type": "code",
        "outputId": "357d229d-9231-4413-af07-c73b7b004edd",
        "colab": {
          "base_uri": "https://localhost:8080/",
          "height": 295
        }
      },
      "source": [
        "train['Distance (KM)'].hist(bins = 10)\n",
        "plt.xlabel('Distance in Km')\n",
        "plt.ylabel('Count')\n",
        "plt.title('Distance from from Pickup to Destination')\n",
        "plt.show()"
      ],
      "execution_count": 249,
      "outputs": [
        {
          "output_type": "display_data",
          "data": {
            "image/png": "[encoded data removed]",
            "text/plain": [
              "<Figure size 432x288 with 1 Axes>"
            ]
          },
          "metadata": {
            "tags": [],
            "needs_background": "light"
          }
        }
      ]
    },
    {
      "cell_type": "markdown",
      "metadata": {
        "id": "WvljE4LW0JTh",
        "colab_type": "text"
      },
      "source": [
        "The longest distance from  from pickup location to destination is 10Km "
      ]
    },
    {
      "cell_type": "code",
      "metadata": {
        "id": "itWb6l_acOQN",
        "colab_type": "code",
        "outputId": "76930d7d-c906-4ae9-db25-535d3337cd4f",
        "colab": {
          "base_uri": "https://localhost:8080/",
          "height": 292
        }
      },
      "source": [
        "Arrival_Pickup = train['Arrival at Pickup - Weekday (Mo = 1)']\n",
        "Arrival_Pickup.value_counts().plot(kind='bar')\n",
        "plt.title('Day the driver arrives at Pickup Location')\n",
        "plt.xlabel('Days of the Week')\n",
        "plt.ylabel('Count')\n",
        "plt.show()"
      ],
      "execution_count": 250,
      "outputs": [
        {
          "output_type": "display_data",
          "data": {
            "image/png": "[encoded data removed]",
            "text/plain": [
              "<Figure size 432x288 with 1 Axes>"
            ]
          },
          "metadata": {
            "tags": [],
            "needs_background": "light"
          }
        }
      ]
    },
    {
      "cell_type": "markdown",
      "metadata": {
        "id": "QuieuuIb0wCC",
        "colab_type": "text"
      },
      "source": [
        "From the Arrival at Pickup graph, it is evident that Most drivers arrive at the loaction of the pickup during weekdays compared to weekends. consequently, we further conclude that  weekends are not busy compared to weekdays"
      ]
    },
    {
      "cell_type": "code",
      "metadata": {
        "id": "o0xNfOMjc3oj",
        "colab_type": "code",
        "outputId": "78dfaaf5-c864-462b-e0d1-ce1f2d1c0629",
        "colab": {
          "base_uri": "https://localhost:8080/",
          "height": 292
        }
      },
      "source": [
        "Arrival_Destination = train['Arrival at Destination - Weekday (Mo = 1)']\n",
        "Arrival_Destination.value_counts().plot(kind='bar')\n",
        "plt.title('Day the driver arrives at Destination Location')\n",
        "plt.xlabel(\"Day of the Week\")\n",
        "plt.ylabel(\"Count\")\n",
        "plt.show()"
      ],
      "execution_count": 251,
      "outputs": [
        {
          "output_type": "display_data",
          "data": {
            "image/png": "[encoded data removed]",
            "text/plain": [
              "<Figure size 432x288 with 1 Axes>"
            ]
          },
          "metadata": {
            "tags": [],
            "needs_background": "light"
          }
        }
      ]
    },
    {
      "cell_type": "markdown",
      "metadata": {
        "id": "Xco-Osqt04IF",
        "colab_type": "text"
      },
      "source": [
        "The Arrival at Destination graph shows that drivers tend to reach the denstination location during weekdays with Thursday being the most frequent day of arrival at the destination. "
      ]
    },
    {
      "cell_type": "code",
      "metadata": {
        "id": "OS_9I8jUdCdl",
        "colab_type": "code",
        "outputId": "1696de6d-537e-4db5-b813-9a0a6529b907",
        "colab": {
          "base_uri": "https://localhost:8080/",
          "height": 295
        }
      },
      "source": [
        "train['Personal or Business'].value_counts().plot(kind='bar',rot=0)\n",
        "plt.title('Customer Type Distribution')\n",
        "plt.xlabel('Category')\n",
        "plt.ylabel('Count')\n",
        "plt.show()"
      ],
      "execution_count": 252,
      "outputs": [
        {
          "output_type": "display_data",
          "data": {
            "image/png": "[encoded data removed]",
            "text/plain": [
              "<Figure size 432x288 with 1 Axes>"
            ]
          },
          "metadata": {
            "tags": [],
            "needs_background": "light"
          }
        }
      ]
    },
    {
      "cell_type": "markdown",
      "metadata": {
        "id": "LoXFAbWhFqCz",
        "colab_type": "text"
      },
      "source": [
        "Businesses are the most common customer type. This justifies why most drivers arrive at the destination location during weekdays since those are days at which most businesses operate."
      ]
    },
    {
      "cell_type": "code",
      "metadata": {
        "id": "PMvTj76g0izv",
        "colab_type": "code",
        "outputId": "2e980660-50b0-4b3d-ff8e-561c3c13556b",
        "colab": {
          "base_uri": "https://localhost:8080/",
          "height": 295
        }
      },
      "source": [
        "train['Platform Type'].value_counts().plot(kind='bar',rot=0)\n",
        "plt.title(\"Platform Type Distribution\")\n",
        "plt.xlabel('Platform Number')\n",
        "plt.ylabel('Count')\n",
        "plt.show()"
      ],
      "execution_count": 253,
      "outputs": [
        {
          "output_type": "display_data",
          "data": {
            "image/png": "[encoded data removed]",
            "text/plain": [
              "<Figure size 432x288 with 1 Axes>"
            ]
          },
          "metadata": {
            "tags": [],
            "needs_background": "light"
          }
        }
      ]
    },
    {
      "cell_type": "markdown",
      "metadata": {
        "id": "l-Z5peG0Fus7",
        "colab_type": "text"
      },
      "source": [
        "The most frequently used platform to place an oprder is type 3 platform."
      ]
    },
    {
      "cell_type": "markdown",
      "metadata": {
        "id": "dteTnX4j_mIg",
        "colab_type": "text"
      },
      "source": [
        "## Correlation"
      ]
    },
    {
      "cell_type": "markdown",
      "metadata": {
        "id": "u7PDDciZCI3t",
        "colab_type": "text"
      },
      "source": [
        "In this section, we check for the correlation of each independant variable against the dependant variable. Mostly in the Machine Learning procedures we tend to choose the features which are strongly correlated to the dependant variable. These insights will assist in selecting variables that will help predicting the Dependant Variable."
      ]
    },
    {
      "cell_type": "code",
      "metadata": {
        "id": "G_aQVFTPAEv8",
        "colab_type": "code",
        "outputId": "45dad308-f02e-4c81-d02f-d32f521c30b6",
        "colab": {
          "base_uri": "https://localhost:8080/",
          "height": 357
        }
      },
      "source": [
        "#Looking for correlation between the target variable and other features\n",
        "corr= train.corr()['Time from Pickup to Arrival'].sort_values()\n",
        "print(corr.tail(20))"
      ],
      "execution_count": 254,
      "outputs": [
        {
          "output_type": "stream",
          "text": [
            "Destination Lat                             -0.061872\n",
            "Pickup Lat                                  -0.053823\n",
            "Placement - Day of Month                    -0.014710\n",
            "Arrival at Destination - Day of Month       -0.014701\n",
            "Confirmation - Day of Month                 -0.014701\n",
            "Arrival at Pickup - Day of Month            -0.014701\n",
            "Pickup - Day of Month                       -0.014701\n",
            "Platform Type                               -0.003827\n",
            "Temperature                                  0.006465\n",
            "Placement - Weekday (Mo = 1)                 0.009693\n",
            "Pickup - Weekday (Mo = 1)                    0.009744\n",
            "Arrival at Destination - Weekday (Mo = 1)    0.009744\n",
            "Confirmation - Weekday (Mo = 1)              0.009744\n",
            "Arrival at Pickup - Weekday (Mo = 1)         0.009744\n",
            "Precipitation in millimeters                 0.024756\n",
            "Pickup Long                                  0.060285\n",
            "Destination Long                             0.070425\n",
            "Distance (KM)                                0.580608\n",
            "Time from Pickup to Arrival                  1.000000\n",
            "Name: Time from Pickup to Arrival, dtype: float64\n"
          ],
          "name": "stdout"
        }
      ]
    },
    {
      "cell_type": "markdown",
      "metadata": {
        "id": "fW7vhhcGDHWN",
        "colab_type": "text"
      },
      "source": [
        "\n",
        "Although precipitation in millimeters had over 90% missing values, it is still usefull in  predicting the target variable. This is evident in the correletion above which shows that there is a positive correlation between precipitation in millimeters and the target variable (Time from Pickup to Arrival)."
      ]
    },
    {
      "cell_type": "markdown",
      "metadata": {
        "id": "P51G6oa0X_tV",
        "colab_type": "text"
      },
      "source": [
        "## Encoding Categoric Data "
      ]
    },
    {
      "cell_type": "markdown",
      "metadata": {
        "id": "kasefPGdPkmR",
        "colab_type": "text"
      },
      "source": [
        "#### Datetime Formatting"
      ]
    },
    {
      "cell_type": "markdown",
      "metadata": {
        "id": "CqFGG99ZW8U3",
        "colab_type": "text"
      },
      "source": [
        "As the Date-time Columns have been correctly formatted to the Datetime format, this section extracts time in  hours, minutes and seconds from the datetime columns. The extracted columns were then added into the dataframes."
      ]
    },
    {
      "cell_type": "code",
      "metadata": {
        "id": "hkt68jvoPsCJ",
        "colab_type": "code",
        "colab": {}
      },
      "source": [
        "#Hours were extracted and added to the dataframe as new columns\n",
        "#Train\n",
        "dataset_train['Placement - Hour'] = dataset_train['Placement - Time'].dt.hour\n",
        "\n",
        "dataset_train['Confirmation - Hour'] = dataset_train['Confirmation - Time'].dt.hour\n",
        "\n",
        "dataset_train['Arrival at Pickup - Hour'] = dataset_train['Arrival at Pickup - Time'].dt.hour\n",
        "\n",
        "dataset_train['Pickup - Hour'] = dataset_train['Pickup - Time'].dt.hour\n",
        "\n",
        "#Test\n",
        "dataset_test['Placement - Hour'] = dataset_test['Placement - Time'].dt.hour\n",
        "\n",
        "dataset_test['Confirmation - Hour'] = dataset_test['Confirmation - Time'].dt.hour\n",
        "\n",
        "dataset_test['Arrival at Pickup - Hour'] = dataset_test['Arrival at Pickup - Time'].dt.hour\n",
        "\n",
        "dataset_test['Pickup - Hour'] = dataset_test['Pickup - Time'].dt.hour\n",
        "\n"
      ],
      "execution_count": 0,
      "outputs": []
    },
    {
      "cell_type": "code",
      "metadata": {
        "id": "6_PKpdQEPsTr",
        "colab_type": "code",
        "colab": {}
      },
      "source": [
        "#Minutes were extracted and added to the dataframe as new columns\n",
        "#TRAIN\n",
        "dataset_train['Placement - Minutes'] = dataset_train['Placement - Time'].dt.minute\n",
        "\n",
        "dataset_train['Confirmation - Minutes'] = dataset_train['Confirmation - Time'].dt.minute\n",
        "\n",
        "dataset_train['Arrival at Pickup - Minutes'] = dataset_train['Arrival at Pickup - Time'].dt.minute\n",
        "\n",
        "dataset_train['Pickup - Minutes'] = dataset_train['Pickup - Time'].dt.minute\n",
        "\n",
        "#TEST\n",
        "dataset_test['Placement - Minutes'] = dataset_test['Placement - Time'].dt.minute\n",
        "\n",
        "dataset_test['Confirmation - Minutes'] = dataset_test['Confirmation - Time'].dt.minute\n",
        "\n",
        "dataset_test['Arrival at Pickup - Minutes'] = dataset_test['Arrival at Pickup - Time'].dt.minute\n",
        "\n",
        "dataset_test['Pickup - Minutes'] = dataset_test['Pickup - Time'].dt.minute"
      ],
      "execution_count": 0,
      "outputs": []
    },
    {
      "cell_type": "code",
      "metadata": {
        "id": "-UtvdDzMPsf5",
        "colab_type": "code",
        "colab": {}
      },
      "source": [
        "#Seconds were extracted and added to the dataframe as new columns\n",
        "#TRAIN\n",
        "dataset_train['Placement - Seconds'] = dataset_train['Placement - Time'].dt.second\n",
        "\n",
        "dataset_train['Confirmation - Seconds'] = dataset_train['Confirmation - Time'].dt.second\n",
        "\n",
        "dataset_train['Arrival at Pickup - Seconds'] = dataset_train['Arrival at Pickup - Time'].dt.second\n",
        "\n",
        "dataset_train['Pickup - Seconds'] = dataset_train['Pickup - Time'].dt.second\n",
        "\n",
        "# TEST\n",
        "dataset_test['Placement - Seconds'] = dataset_test['Placement - Time'].dt.second\n",
        "\n",
        "dataset_test['Confirmation - Seconds'] = dataset_test['Confirmation - Time'].dt.second\n",
        "\n",
        "dataset_test['Arrival at Pickup - Seconds'] = dataset_test['Arrival at Pickup - Time'].dt.second\n",
        "\n",
        "dataset_test['Pickup - Seconds'] = dataset_test['Pickup - Time'].dt.second"
      ],
      "execution_count": 0,
      "outputs": []
    },
    {
      "cell_type": "markdown",
      "metadata": {
        "id": "yR6HimLhagsd",
        "colab_type": "text"
      },
      "source": [
        "#### Platform Type"
      ]
    },
    {
      "cell_type": "markdown",
      "metadata": {
        "id": "uTfvvwaCXn_T",
        "colab_type": "text"
      },
      "source": [
        "For the Platform Type column, we changed the variables it to the dummy variables to have a cleared and measurable feature for the model. We then encode the dummy variables as new columns."
      ]
    },
    {
      "cell_type": "code",
      "metadata": {
        "id": "BwyUsbYDNR2M",
        "colab_type": "code",
        "colab": {}
      },
      "source": [
        "#Dummy coding of the 'Platform Type' column:\n",
        "#TRAIN\n",
        "dataset_train['Platform Type'] = dataset_train['Platform Type'].astype('category')\n",
        "dataset_train = pd.concat([dataset_train.drop(columns = ['Platform Type']), \n",
        "                           pd.get_dummies(dataset_train['Platform Type'])], \n",
        "                          axis = 1)\n",
        "\n",
        "#TEST \n",
        "dataset_test['Platform Type'] = dataset_test['Platform Type'].astype('category')\n",
        "dataset_test = pd.concat([dataset_test.drop(columns = ['Platform Type']),\n",
        "                          pd.get_dummies(dataset_test['Platform Type'])], \n",
        "                         axis = 1)"
      ],
      "execution_count": 0,
      "outputs": []
    },
    {
      "cell_type": "code",
      "metadata": {
        "id": "mnrMF4j6NSOC",
        "colab_type": "code",
        "colab": {}
      },
      "source": [
        "#Renaming the 'platform type' columns\n",
        "dataset_train.rename(columns = {1: \"Platform Type 1\", 2: \"Platform Type 2\", 3:\n",
        "                              \"Platform Type 3\", 4: \"Platform Type 4\"},\n",
        "                     inplace = True)\n",
        "dataset_test.rename(columns = {1: \"Platform Type 1\", 2: \"Platform Type 2\", 3:\n",
        "                             \"Platform Type 3\", 4: \"Platform Type 4\"},\n",
        "                    inplace=True)"
      ],
      "execution_count": 0,
      "outputs": []
    },
    {
      "cell_type": "markdown",
      "metadata": {
        "id": "Iig3TlFDa9B4",
        "colab_type": "text"
      },
      "source": [
        "#### Personal or Business"
      ]
    },
    {
      "cell_type": "code",
      "metadata": {
        "id": "7xpJ87PmNSaw",
        "colab_type": "code",
        "colab": {}
      },
      "source": [
        "#Dummy coding of the 'Personal or Business' column\n",
        "#TRAIN\n",
        "dataset_train['Personal or Business'] = dataset_train['Personal or Business'].astype('category')\n",
        "dataset_train = pd.concat([dataset_train.drop(columns = ['Personal or Business']), \n",
        "                          pd.get_dummies(dataset_train['Personal or Business'])], \n",
        "                          axis=1)\n",
        "\n",
        "#TEST\n",
        "dataset_test['Personal or Business'] = dataset_test['Personal or Business'].astype('category')\n",
        "dataset_test = pd.concat([dataset_test.drop(columns = ['Personal or Business']), \n",
        "                          pd.get_dummies(dataset_test['Personal or Business'])],\n",
        "                          axis = 1)"
      ],
      "execution_count": 0,
      "outputs": []
    },
    {
      "cell_type": "code",
      "metadata": {
        "id": "GOsDa2YMNSps",
        "colab_type": "code",
        "colab": {}
      },
      "source": [
        "#Renaming the 'Personal or Business' columns\n",
        "dataset_train.rename(columns={0: \"Business\", 1: \"Personal\"}, inplace=True)\n",
        "dataset_test.rename(columns={0: \"Business\", 1: \"Personal\"}, inplace=True)"
      ],
      "execution_count": 0,
      "outputs": []
    },
    {
      "cell_type": "markdown",
      "metadata": {
        "id": "S_e6hsJNckYs",
        "colab_type": "text"
      },
      "source": [
        "## Selecting columns to be used for model training and testing "
      ]
    },
    {
      "cell_type": "markdown",
      "metadata": {
        "id": "nQN7wx6zYUuL",
        "colab_type": "text"
      },
      "source": [
        "In this section, a list of columns that will be used for model training and testing. The dataframes are also converted into a numpy array"
      ]
    },
    {
      "cell_type": "code",
      "metadata": {
        "id": "QDMNmjHqP4SF",
        "colab_type": "code",
        "colab": {}
      },
      "source": [
        "X1 = dataset_train.loc[:,['Order No','Distance (KM)', 'Temperature',\n",
        "                          'Precipitation in millimeters', 'Platform Type 1', \n",
        "                          'Platform Type 2', 'Platform Type 3', \n",
        "                          'Platform Type 4', 'Business', 'Personal',\n",
        "                          'Placement - Hour', 'Confirmation - Hour', \n",
        "                          'Arrival at Pickup - Hour', 'Pickup - Hour', \n",
        "                          'Placement - Minutes', 'Confirmation - Minutes',\n",
        "                          'Arrival at Pickup - Minutes', 'Pickup - Minutes',\n",
        "                          'Placement - Seconds', 'Confirmation - Seconds',\n",
        "                          'Arrival at Pickup - Seconds', 'Pickup - Seconds']]\n",
        "\n",
        "Y_train = dataset_train.loc[:,['Time from Pickup to Arrival']].values\n",
        "\n",
        "X2 = dataset_test.loc[:,['Order No','Distance (KM)', 'Temperature',\n",
        "                          'Precipitation in millimeters', 'Platform Type 1', \n",
        "                          'Platform Type 2', 'Platform Type 3', \n",
        "                          'Platform Type 4', 'Business', 'Personal',\n",
        "                          'Placement - Hour', 'Confirmation - Hour', \n",
        "                          'Arrival at Pickup - Hour', 'Pickup - Hour', \n",
        "                          'Placement - Minutes', 'Confirmation - Minutes',\n",
        "                          'Arrival at Pickup - Minutes', 'Pickup - Minutes',\n",
        "                          'Placement - Seconds', 'Confirmation - Seconds',\n",
        "                          'Arrival at Pickup - Seconds', 'Pickup - Seconds']]\n",
        "\n",
        "Y_test = dataset_sample.iloc[:,-1].values"
      ],
      "execution_count": 0,
      "outputs": []
    },
    {
      "cell_type": "code",
      "metadata": {
        "id": "5noadhlFNI7k",
        "colab_type": "code",
        "colab": {}
      },
      "source": [
        "#changing the Index for both X_train & X_test Dataframes to be Order No and convert the Dataframes to Numpy arrays\n",
        "X_train = X1.set_index('Order No').values\n",
        "X_test = X2.set_index('Order No').values"
      ],
      "execution_count": 0,
      "outputs": []
    },
    {
      "cell_type": "markdown",
      "metadata": {
        "id": "7e-2ee-mNI7x",
        "colab_type": "text"
      },
      "source": [
        "## Taking care of missing values in the data sets"
      ]
    },
    {
      "cell_type": "markdown",
      "metadata": {
        "id": "6tXxWk8QaIoQ",
        "colab_type": "text"
      },
      "source": [
        "From the data exploration done in the previous section, it has been seen that some columns had missing values. The following section imputes the missing values with the mean.\n"
      ]
    },
    {
      "cell_type": "code",
      "metadata": {
        "id": "eswMjylTNI7y",
        "colab_type": "code",
        "colab": {}
      },
      "source": [
        "#The missing values of temperature and Precipitation in millimeters have been replaced with the mean\n",
        "imputer = SimpleImputer(missing_values = np.nan, strategy='mean')\n",
        "imputer.fit(X_train[:,1:3],X_test[:,1:3])\n",
        "X_train[:,1:3] = imputer.transform(X_train[:,1:3])\n",
        "X_test[:,1:3] = imputer.transform(X_test[:,1:3])"
      ],
      "execution_count": 0,
      "outputs": []
    },
    {
      "cell_type": "markdown",
      "metadata": {
        "id": "BgBfGuLJNI8B",
        "colab_type": "text"
      },
      "source": [
        "## Feature Scaling of the training and test data set"
      ]
    },
    {
      "cell_type": "markdown",
      "metadata": {
        "id": "Kmnxdgkz7ohT",
        "colab_type": "text"
      },
      "source": [
        "Now that the data cleaning is done, the data is now transformed to have a mean value if zero and a standard deviation of 1."
      ]
    },
    {
      "cell_type": "code",
      "metadata": {
        "id": "WPnFQkgiNI8C",
        "colab_type": "code",
        "colab": {}
      },
      "source": [
        "# create scaled version of the predictors\n",
        "sc = StandardScaler()\n",
        "X_train[:,:] = sc.fit_transform(X_train[:,:])\n",
        "X_test[:,:] = sc.transform(X_test[:,:])"
      ],
      "execution_count": 0,
      "outputs": []
    },
    {
      "cell_type": "code",
      "metadata": {
        "id": "7Nv6zEMzydKd",
        "colab_type": "code",
        "colab": {}
      },
      "source": [
        "df_Y1 = pd.DataFrame(Y_train)\n",
        "df_Y2 = pd.DataFrame(Y_test)\n",
        "Y_train = df_Y1.fillna(df_Y1.mean())\n",
        "Y_test =df_Y2.fillna(df_Y2.mean())"
      ],
      "execution_count": 0,
      "outputs": []
    },
    {
      "cell_type": "code",
      "metadata": {
        "id": "Lt7RykFVykSg",
        "colab_type": "code",
        "colab": {}
      },
      "source": [
        "Y_train = Y_train.values\n",
        "Y_test = Y_test.values"
      ],
      "execution_count": 0,
      "outputs": []
    },
    {
      "cell_type": "markdown",
      "metadata": {
        "id": "TNfWS9lqNI8J",
        "colab_type": "text"
      },
      "source": [
        "# Regression"
      ]
    },
    {
      "cell_type": "markdown",
      "metadata": {
        "id": "mMrPfF5IeOvY",
        "colab_type": "text"
      },
      "source": [
        "## Linear Regression"
      ]
    },
    {
      "cell_type": "code",
      "metadata": {
        "id": "0zQNkVcmNI8J",
        "colab_type": "code",
        "outputId": "9a0c5ceb-718f-4770-c09b-18ed72312681",
        "colab": {
          "base_uri": "https://localhost:8080/",
          "height": 34
        }
      },
      "source": [
        "lr = LinearRegression()\n",
        "lr.fit(X_train,Y_train)"
      ],
      "execution_count": 268,
      "outputs": [
        {
          "output_type": "execute_result",
          "data": {
            "text/plain": [
              "LinearRegression(copy_X=True, fit_intercept=True, n_jobs=None, normalize=False)"
            ]
          },
          "metadata": {
            "tags": []
          },
          "execution_count": 268
        }
      ]
    },
    {
      "cell_type": "code",
      "metadata": {
        "id": "2TRuOCXeNI8N",
        "colab_type": "code",
        "colab": {}
      },
      "source": [
        "beta_0 = float(lr.intercept_)"
      ],
      "execution_count": 0,
      "outputs": []
    },
    {
      "cell_type": "code",
      "metadata": {
        "id": "j83xuP7LNI8Q",
        "colab_type": "code",
        "outputId": "300b56cb-294e-4e22-9ec0-60c5eeba0caa",
        "colab": {
          "base_uri": "https://localhost:8080/",
          "height": 34
        }
      },
      "source": [
        "print(beta_0)"
      ],
      "execution_count": 270,
      "outputs": [
        {
          "output_type": "stream",
          "text": [
            "1556.775410064313\n"
          ],
          "name": "stdout"
        }
      ]
    },
    {
      "cell_type": "code",
      "metadata": {
        "id": "0xITmNCnNI8U",
        "colab_type": "code",
        "colab": {}
      },
      "source": [
        "#predicting y using the X_test\n",
        "y_pred_linear = lr.predict(X_test)"
      ],
      "execution_count": 0,
      "outputs": []
    },
    {
      "cell_type": "code",
      "metadata": {
        "id": "dWvIyVErNI8X",
        "colab_type": "code",
        "outputId": "7d8ff9ba-5fbc-411d-d10d-b063d99a8891",
        "colab": {
          "base_uri": "https://localhost:8080/",
          "height": 136
        }
      },
      "source": [
        "#comparing the y_pred with the actual Y values\n",
        "np.set_printoptions(precision = 2)\n",
        "print(np.concatenate((y_pred_linear.reshape(len(y_pred_linear),1), \n",
        "                      Y_test.reshape(len(Y_test),1)),1))"
      ],
      "execution_count": 308,
      "outputs": [
        {
          "output_type": "stream",
          "text": [
            "[[1372.77  567.  ]\n",
            " [1217.24 4903.  ]\n",
            " [ 956.94 5649.  ]\n",
            " ...\n",
            " [1669.69 3706.33]\n",
            " [2596.27 3706.33]\n",
            " [1504.47 3706.33]]\n"
          ],
          "name": "stdout"
        }
      ]
    },
    {
      "cell_type": "code",
      "metadata": {
        "id": "ydJFfzkkNI8a",
        "colab_type": "code",
        "colab": {}
      },
      "source": [
        "#create a dataframe containing the expected outputs for Submission\n",
        "x = pd.DataFrame(y_pred_linear)\n",
        "x = round(x,2)\n",
        "X2['Time from Pickup to Arrival'] = x\n",
        "predicted = X2[['Order No','Time from Pickup to Arrival']]"
      ],
      "execution_count": 0,
      "outputs": []
    },
    {
      "cell_type": "code",
      "metadata": {
        "id": "zLCUCMSvgjQn",
        "colab_type": "code",
        "colab": {}
      },
      "source": [
        "Y_test1 = pd.DataFrame(Y_test)"
      ],
      "execution_count": 0,
      "outputs": []
    },
    {
      "cell_type": "code",
      "metadata": {
        "id": "jDXGNXKhjcLz",
        "colab_type": "code",
        "outputId": "0cd77017-017b-48b7-9455-d32158c4f0db",
        "colab": {
          "base_uri": "https://localhost:8080/",
          "height": 34
        }
      },
      "source": [
        "print(\"RMSE: \", np.sqrt(mean_squared_error(Y_test1,y_pred_linear)))"
      ],
      "execution_count": 275,
      "outputs": [
        {
          "output_type": "stream",
          "text": [
            "RMSE:  2233.441993468851\n"
          ],
          "name": "stdout"
        }
      ]
    },
    {
      "cell_type": "code",
      "metadata": {
        "id": "7ixY-VaENI8d",
        "colab_type": "code",
        "outputId": "57d75bf9-dbc1-487d-d337-063a13a21409",
        "colab": {
          "base_uri": "https://localhost:8080/",
          "height": 419
        }
      },
      "source": [
        "predicted"
      ],
      "execution_count": 276,
      "outputs": [
        {
          "output_type": "execute_result",
          "data": {
            "text/html": [
              "<div>\n",
              "<style scoped>\n",
              "    .dataframe tbody tr th:only-of-type {\n",
              "        vertical-align: middle;\n",
              "    }\n",
              "\n",
              "    .dataframe tbody tr th {\n",
              "        vertical-align: top;\n",
              "    }\n",
              "\n",
              "    .dataframe thead th {\n",
              "        text-align: right;\n",
              "    }\n",
              "</style>\n",
              "<table border=\"1\" class=\"dataframe\">\n",
              "  <thead>\n",
              "    <tr style=\"text-align: right;\">\n",
              "      <th></th>\n",
              "      <th>Order No</th>\n",
              "      <th>Time from Pickup to Arrival</th>\n",
              "    </tr>\n",
              "  </thead>\n",
              "  <tbody>\n",
              "    <tr>\n",
              "      <th>0</th>\n",
              "      <td>Order_No_19248</td>\n",
              "      <td>1372.77</td>\n",
              "    </tr>\n",
              "    <tr>\n",
              "      <th>1</th>\n",
              "      <td>Order_No_12736</td>\n",
              "      <td>1217.24</td>\n",
              "    </tr>\n",
              "    <tr>\n",
              "      <th>2</th>\n",
              "      <td>Order_No_768</td>\n",
              "      <td>956.94</td>\n",
              "    </tr>\n",
              "    <tr>\n",
              "      <th>3</th>\n",
              "      <td>Order_No_15332</td>\n",
              "      <td>1027.13</td>\n",
              "    </tr>\n",
              "    <tr>\n",
              "      <th>4</th>\n",
              "      <td>Order_No_21373</td>\n",
              "      <td>1226.52</td>\n",
              "    </tr>\n",
              "    <tr>\n",
              "      <th>...</th>\n",
              "      <td>...</td>\n",
              "      <td>...</td>\n",
              "    </tr>\n",
              "    <tr>\n",
              "      <th>7063</th>\n",
              "      <td>Order_No_3612</td>\n",
              "      <td>1018.02</td>\n",
              "    </tr>\n",
              "    <tr>\n",
              "      <th>7064</th>\n",
              "      <td>Order_No_7657</td>\n",
              "      <td>2976.98</td>\n",
              "    </tr>\n",
              "    <tr>\n",
              "      <th>7065</th>\n",
              "      <td>Order_No_1969</td>\n",
              "      <td>1669.69</td>\n",
              "    </tr>\n",
              "    <tr>\n",
              "      <th>7066</th>\n",
              "      <td>Order_No_10591</td>\n",
              "      <td>2596.27</td>\n",
              "    </tr>\n",
              "    <tr>\n",
              "      <th>7067</th>\n",
              "      <td>Order_No_1603</td>\n",
              "      <td>1504.47</td>\n",
              "    </tr>\n",
              "  </tbody>\n",
              "</table>\n",
              "<p>7068 rows × 2 columns</p>\n",
              "</div>"
            ],
            "text/plain": [
              "            Order No  Time from Pickup to Arrival\n",
              "0     Order_No_19248                      1372.77\n",
              "1     Order_No_12736                      1217.24\n",
              "2       Order_No_768                       956.94\n",
              "3     Order_No_15332                      1027.13\n",
              "4     Order_No_21373                      1226.52\n",
              "...              ...                          ...\n",
              "7063   Order_No_3612                      1018.02\n",
              "7064   Order_No_7657                      2976.98\n",
              "7065   Order_No_1969                      1669.69\n",
              "7066  Order_No_10591                      2596.27\n",
              "7067   Order_No_1603                      1504.47\n",
              "\n",
              "[7068 rows x 2 columns]"
            ]
          },
          "metadata": {
            "tags": []
          },
          "execution_count": 276
        }
      ]
    },
    {
      "cell_type": "code",
      "metadata": {
        "id": "uByPp-NCNI8g",
        "colab_type": "code",
        "colab": {}
      },
      "source": [
        "#save linear model results as a .csv file\n",
        "predicted.to_csv('predicted_time_LR.csv',index=False)"
      ],
      "execution_count": 0,
      "outputs": []
    },
    {
      "cell_type": "markdown",
      "metadata": {
        "id": "tuD_CoRui8KE",
        "colab_type": "text"
      },
      "source": [
        "## Decision Tree"
      ]
    },
    {
      "cell_type": "code",
      "metadata": {
        "id": "33A08VMZjCC7",
        "colab_type": "code",
        "colab": {}
      },
      "source": [
        "regr_tree = DecisionTreeRegressor(max_depth=3)"
      ],
      "execution_count": 0,
      "outputs": []
    },
    {
      "cell_type": "code",
      "metadata": {
        "id": "CGaz0zr-jHpI",
        "colab_type": "code",
        "outputId": "97cebc05-3609-417b-8c31-b4f921abe97b",
        "colab": {
          "base_uri": "https://localhost:8080/",
          "height": 119
        }
      },
      "source": [
        "regr_tree.fit(X_train,Y_train)"
      ],
      "execution_count": 279,
      "outputs": [
        {
          "output_type": "execute_result",
          "data": {
            "text/plain": [
              "DecisionTreeRegressor(ccp_alpha=0.0, criterion='mse', max_depth=3,\n",
              "                      max_features=None, max_leaf_nodes=None,\n",
              "                      min_impurity_decrease=0.0, min_impurity_split=None,\n",
              "                      min_samples_leaf=1, min_samples_split=2,\n",
              "                      min_weight_fraction_leaf=0.0, presort='deprecated',\n",
              "                      random_state=None, splitter='best')"
            ]
          },
          "metadata": {
            "tags": []
          },
          "execution_count": 279
        }
      ]
    },
    {
      "cell_type": "code",
      "metadata": {
        "id": "Uq04mWuqjNNR",
        "colab_type": "code",
        "colab": {}
      },
      "source": [
        "y_pred_dt = regr_tree.predict(X_test)"
      ],
      "execution_count": 0,
      "outputs": []
    },
    {
      "cell_type": "code",
      "metadata": {
        "id": "IpZA1lmtjPtg",
        "colab_type": "code",
        "outputId": "f61b4261-aa9d-4478-ffb8-150dbad265e5",
        "colab": {
          "base_uri": "https://localhost:8080/",
          "height": 34
        }
      },
      "source": [
        "print('RMSE:', np.sqrt(mean_squared_error(Y_test1,y_pred_dt)))"
      ],
      "execution_count": 281,
      "outputs": [
        {
          "output_type": "stream",
          "text": [
            "RMSE: 2224.2483276045705\n"
          ],
          "name": "stdout"
        }
      ]
    },
    {
      "cell_type": "code",
      "metadata": {
        "id": "YExZEpT7GNu_",
        "colab_type": "code",
        "colab": {}
      },
      "source": [
        "#create a dataframe containing the expected outputs for Submission\n",
        "x = pd.DataFrame(y_pred_dt)\n",
        "x = round(x,2)\n",
        "X2['Time from Pickup to Arrival'] = x\n",
        "predicted_dt = X2[['Order No','Time from Pickup to Arrival']]"
      ],
      "execution_count": 0,
      "outputs": []
    },
    {
      "cell_type": "code",
      "metadata": {
        "id": "ogBoRls3F0Nr",
        "colab_type": "code",
        "outputId": "c9c31e6f-824d-4cff-af47-9b5859611e1d",
        "colab": {
          "base_uri": "https://localhost:8080/",
          "height": 419
        }
      },
      "source": [
        "predicted_dt"
      ],
      "execution_count": 283,
      "outputs": [
        {
          "output_type": "execute_result",
          "data": {
            "text/html": [
              "<div>\n",
              "<style scoped>\n",
              "    .dataframe tbody tr th:only-of-type {\n",
              "        vertical-align: middle;\n",
              "    }\n",
              "\n",
              "    .dataframe tbody tr th {\n",
              "        vertical-align: top;\n",
              "    }\n",
              "\n",
              "    .dataframe thead th {\n",
              "        text-align: right;\n",
              "    }\n",
              "</style>\n",
              "<table border=\"1\" class=\"dataframe\">\n",
              "  <thead>\n",
              "    <tr style=\"text-align: right;\">\n",
              "      <th></th>\n",
              "      <th>Order No</th>\n",
              "      <th>Time from Pickup to Arrival</th>\n",
              "    </tr>\n",
              "  </thead>\n",
              "  <tbody>\n",
              "    <tr>\n",
              "      <th>0</th>\n",
              "      <td>Order_No_19248</td>\n",
              "      <td>1577.91</td>\n",
              "    </tr>\n",
              "    <tr>\n",
              "      <th>1</th>\n",
              "      <td>Order_No_12736</td>\n",
              "      <td>1136.40</td>\n",
              "    </tr>\n",
              "    <tr>\n",
              "      <th>2</th>\n",
              "      <td>Order_No_768</td>\n",
              "      <td>1136.40</td>\n",
              "    </tr>\n",
              "    <tr>\n",
              "      <th>3</th>\n",
              "      <td>Order_No_15332</td>\n",
              "      <td>1136.40</td>\n",
              "    </tr>\n",
              "    <tr>\n",
              "      <th>4</th>\n",
              "      <td>Order_No_21373</td>\n",
              "      <td>1328.94</td>\n",
              "    </tr>\n",
              "    <tr>\n",
              "      <th>...</th>\n",
              "      <td>...</td>\n",
              "      <td>...</td>\n",
              "    </tr>\n",
              "    <tr>\n",
              "      <th>7063</th>\n",
              "      <td>Order_No_3612</td>\n",
              "      <td>1136.40</td>\n",
              "    </tr>\n",
              "    <tr>\n",
              "      <th>7064</th>\n",
              "      <td>Order_No_7657</td>\n",
              "      <td>2532.24</td>\n",
              "    </tr>\n",
              "    <tr>\n",
              "      <th>7065</th>\n",
              "      <td>Order_No_1969</td>\n",
              "      <td>1577.91</td>\n",
              "    </tr>\n",
              "    <tr>\n",
              "      <th>7066</th>\n",
              "      <td>Order_No_10591</td>\n",
              "      <td>2532.24</td>\n",
              "    </tr>\n",
              "    <tr>\n",
              "      <th>7067</th>\n",
              "      <td>Order_No_1603</td>\n",
              "      <td>1577.91</td>\n",
              "    </tr>\n",
              "  </tbody>\n",
              "</table>\n",
              "<p>7068 rows × 2 columns</p>\n",
              "</div>"
            ],
            "text/plain": [
              "            Order No  Time from Pickup to Arrival\n",
              "0     Order_No_19248                      1577.91\n",
              "1     Order_No_12736                      1136.40\n",
              "2       Order_No_768                      1136.40\n",
              "3     Order_No_15332                      1136.40\n",
              "4     Order_No_21373                      1328.94\n",
              "...              ...                          ...\n",
              "7063   Order_No_3612                      1136.40\n",
              "7064   Order_No_7657                      2532.24\n",
              "7065   Order_No_1969                      1577.91\n",
              "7066  Order_No_10591                      2532.24\n",
              "7067   Order_No_1603                      1577.91\n",
              "\n",
              "[7068 rows x 2 columns]"
            ]
          },
          "metadata": {
            "tags": []
          },
          "execution_count": 283
        }
      ]
    },
    {
      "cell_type": "code",
      "metadata": {
        "id": "jjB2Tn4OGlck",
        "colab_type": "code",
        "colab": {}
      },
      "source": [
        "#save Decision Tree results as a .csv file\n",
        "predicted_dt.to_csv('predicted_time_Decision_Tree.csv',index=False)"
      ],
      "execution_count": 0,
      "outputs": []
    },
    {
      "cell_type": "markdown",
      "metadata": {
        "id": "ZUnwszKghYxL",
        "colab_type": "text"
      },
      "source": [
        "##Lasso regression"
      ]
    },
    {
      "cell_type": "code",
      "metadata": {
        "id": "H4-Hh-xmg-DT",
        "colab_type": "code",
        "outputId": "8fed96e9-9d91-46f6-b974-1a332bdc0468",
        "colab": {
          "base_uri": "https://localhost:8080/",
          "height": 0
        }
      },
      "source": [
        "# Importing the model class\n",
        "lasso = Lasso(alpha=0.1)\n",
        "lasso.fit(X_train,Y_train)"
      ],
      "execution_count": 285,
      "outputs": [
        {
          "output_type": "stream",
          "text": [
            "/usr/local/lib/python3.6/dist-packages/sklearn/linear_model/_coordinate_descent.py:476: ConvergenceWarning: Objective did not converge. You might want to increase the number of iterations. Duality gap: 2269650329.404784, tolerance: 2066371.650150738\n",
            "  positive)\n"
          ],
          "name": "stderr"
        },
        {
          "output_type": "execute_result",
          "data": {
            "text/plain": [
              "Lasso(alpha=0.1, copy_X=True, fit_intercept=True, max_iter=1000,\n",
              "      normalize=False, positive=False, precompute=False, random_state=None,\n",
              "      selection='cyclic', tol=0.0001, warm_start=False)"
            ]
          },
          "metadata": {
            "tags": []
          },
          "execution_count": 285
        }
      ]
    },
    {
      "cell_type": "code",
      "metadata": {
        "id": "LNSo87ddg977",
        "colab_type": "code",
        "outputId": "37b031a2-129c-4239-d7f9-53bbcc367834",
        "colab": {
          "base_uri": "https://localhost:8080/",
          "height": 0
        }
      },
      "source": [
        "beta_2 = float(lasso.intercept_)\n",
        "print(beta_2)"
      ],
      "execution_count": 286,
      "outputs": [
        {
          "output_type": "stream",
          "text": [
            "1556.9209471251343\n"
          ],
          "name": "stdout"
        }
      ]
    },
    {
      "cell_type": "code",
      "metadata": {
        "id": "AjD-YGSVg9ze",
        "colab_type": "code",
        "colab": {}
      },
      "source": [
        "y_pred_lasso = lasso.predict(X_test)"
      ],
      "execution_count": 0,
      "outputs": []
    },
    {
      "cell_type": "code",
      "metadata": {
        "id": "v7m5JUjLhL_5",
        "colab_type": "code",
        "outputId": "818a8421-2be1-4e75-a713-7f26a25a2221",
        "colab": {
          "base_uri": "https://localhost:8080/",
          "height": 0
        }
      },
      "source": [
        "#Calculate the Root-Mean squared error\n",
        "print('RMSE:', np.sqrt(metrics.mean_squared_error(Y_test1, y_pred_lasso)))\n"
      ],
      "execution_count": 288,
      "outputs": [
        {
          "output_type": "stream",
          "text": [
            "RMSE: 2233.567677171059\n"
          ],
          "name": "stdout"
        }
      ]
    },
    {
      "cell_type": "code",
      "metadata": {
        "id": "r0mpQ-GAHuiQ",
        "colab_type": "code",
        "colab": {}
      },
      "source": [
        "#create a dataframe containing the expected outputs for Submission\n",
        "x = pd.DataFrame(y_pred_lasso)\n",
        "x = round(x,2)\n",
        "X2['Time from Pickup to Arrival'] = x\n",
        "predicted_lasso = X2[['Order No','Time from Pickup to Arrival']]"
      ],
      "execution_count": 0,
      "outputs": []
    },
    {
      "cell_type": "code",
      "metadata": {
        "id": "jj9e_rhtH6tj",
        "colab_type": "code",
        "outputId": "9c208a81-dfb6-474d-ee37-5e9981b252a9",
        "colab": {
          "base_uri": "https://localhost:8080/",
          "height": 0
        }
      },
      "source": [
        "predicted_lasso"
      ],
      "execution_count": 290,
      "outputs": [
        {
          "output_type": "execute_result",
          "data": {
            "text/html": [
              "<div>\n",
              "<style scoped>\n",
              "    .dataframe tbody tr th:only-of-type {\n",
              "        vertical-align: middle;\n",
              "    }\n",
              "\n",
              "    .dataframe tbody tr th {\n",
              "        vertical-align: top;\n",
              "    }\n",
              "\n",
              "    .dataframe thead th {\n",
              "        text-align: right;\n",
              "    }\n",
              "</style>\n",
              "<table border=\"1\" class=\"dataframe\">\n",
              "  <thead>\n",
              "    <tr style=\"text-align: right;\">\n",
              "      <th></th>\n",
              "      <th>Order No</th>\n",
              "      <th>Time from Pickup to Arrival</th>\n",
              "    </tr>\n",
              "  </thead>\n",
              "  <tbody>\n",
              "    <tr>\n",
              "      <th>0</th>\n",
              "      <td>Order_No_19248</td>\n",
              "      <td>1371.51</td>\n",
              "    </tr>\n",
              "    <tr>\n",
              "      <th>1</th>\n",
              "      <td>Order_No_12736</td>\n",
              "      <td>1207.41</td>\n",
              "    </tr>\n",
              "    <tr>\n",
              "      <th>2</th>\n",
              "      <td>Order_No_768</td>\n",
              "      <td>960.38</td>\n",
              "    </tr>\n",
              "    <tr>\n",
              "      <th>3</th>\n",
              "      <td>Order_No_15332</td>\n",
              "      <td>1024.91</td>\n",
              "    </tr>\n",
              "    <tr>\n",
              "      <th>4</th>\n",
              "      <td>Order_No_21373</td>\n",
              "      <td>1221.43</td>\n",
              "    </tr>\n",
              "    <tr>\n",
              "      <th>...</th>\n",
              "      <td>...</td>\n",
              "      <td>...</td>\n",
              "    </tr>\n",
              "    <tr>\n",
              "      <th>7063</th>\n",
              "      <td>Order_No_3612</td>\n",
              "      <td>1016.20</td>\n",
              "    </tr>\n",
              "    <tr>\n",
              "      <th>7064</th>\n",
              "      <td>Order_No_7657</td>\n",
              "      <td>2969.94</td>\n",
              "    </tr>\n",
              "    <tr>\n",
              "      <th>7065</th>\n",
              "      <td>Order_No_1969</td>\n",
              "      <td>1663.33</td>\n",
              "    </tr>\n",
              "    <tr>\n",
              "      <th>7066</th>\n",
              "      <td>Order_No_10591</td>\n",
              "      <td>2599.90</td>\n",
              "    </tr>\n",
              "    <tr>\n",
              "      <th>7067</th>\n",
              "      <td>Order_No_1603</td>\n",
              "      <td>1501.15</td>\n",
              "    </tr>\n",
              "  </tbody>\n",
              "</table>\n",
              "<p>7068 rows × 2 columns</p>\n",
              "</div>"
            ],
            "text/plain": [
              "            Order No  Time from Pickup to Arrival\n",
              "0     Order_No_19248                      1371.51\n",
              "1     Order_No_12736                      1207.41\n",
              "2       Order_No_768                       960.38\n",
              "3     Order_No_15332                      1024.91\n",
              "4     Order_No_21373                      1221.43\n",
              "...              ...                          ...\n",
              "7063   Order_No_3612                      1016.20\n",
              "7064   Order_No_7657                      2969.94\n",
              "7065   Order_No_1969                      1663.33\n",
              "7066  Order_No_10591                      2599.90\n",
              "7067   Order_No_1603                      1501.15\n",
              "\n",
              "[7068 rows x 2 columns]"
            ]
          },
          "metadata": {
            "tags": []
          },
          "execution_count": 290
        }
      ]
    },
    {
      "cell_type": "code",
      "metadata": {
        "id": "VM6uRHGnIB6H",
        "colab_type": "code",
        "colab": {}
      },
      "source": [
        "#save the lasso results as a .csv file\n",
        "predicted_lasso.to_csv('predicted_time_lasso.csv',index=False)"
      ],
      "execution_count": 0,
      "outputs": []
    },
    {
      "cell_type": "markdown",
      "metadata": {
        "id": "yQI9yL7D939B",
        "colab_type": "text"
      },
      "source": [
        "## Support Vector Regressor"
      ]
    },
    {
      "cell_type": "code",
      "metadata": {
        "id": "y1B9t8jH963R",
        "colab_type": "code",
        "colab": {}
      },
      "source": [
        "# Instantiate support vector regression model\n",
        "svr = SVR(kernel='rbf', gamma ='auto')"
      ],
      "execution_count": 0,
      "outputs": []
    },
    {
      "cell_type": "code",
      "metadata": {
        "id": "6hjUHodH-YFd",
        "colab_type": "code",
        "outputId": "c4f80b18-fed9-4185-b1b9-26eba7ec77b6",
        "colab": {
          "base_uri": "https://localhost:8080/",
          "height": 0
        }
      },
      "source": [
        "svr.fit(X_train,Y_train[:,0])"
      ],
      "execution_count": 293,
      "outputs": [
        {
          "output_type": "execute_result",
          "data": {
            "text/plain": [
              "SVR(C=1.0, cache_size=200, coef0=0.0, degree=3, epsilon=0.1, gamma='auto',\n",
              "    kernel='rbf', max_iter=-1, shrinking=True, tol=0.001, verbose=False)"
            ]
          },
          "metadata": {
            "tags": []
          },
          "execution_count": 293
        }
      ]
    },
    {
      "cell_type": "code",
      "metadata": {
        "id": "ynj3nBOd-wyB",
        "colab_type": "code",
        "colab": {}
      },
      "source": [
        "y_pred_svr = svr.predict(X_test)"
      ],
      "execution_count": 0,
      "outputs": []
    },
    {
      "cell_type": "code",
      "metadata": {
        "id": "VcmwyRzd-0bL",
        "colab_type": "code",
        "outputId": "49e233c2-55df-4b76-c3cc-49131351dd20",
        "colab": {
          "base_uri": "https://localhost:8080/",
          "height": 0
        }
      },
      "source": [
        "print(\"RMSE: \", np.sqrt(mean_squared_error(Y_test,y_pred_svr)))"
      ],
      "execution_count": 295,
      "outputs": [
        {
          "output_type": "stream",
          "text": [
            "RMSE:  2344.831835366399\n"
          ],
          "name": "stdout"
        }
      ]
    },
    {
      "cell_type": "code",
      "metadata": {
        "id": "kh7oJGp1IyXD",
        "colab_type": "code",
        "colab": {}
      },
      "source": [
        "#create a dataframe containing the expected outputs for Submission\n",
        "x = pd.DataFrame(y_pred_svr)\n",
        "x = round(x,2)\n",
        "X2['Time from Pickup to Arrival'] = x\n",
        "predicted_svr = X2[['Order No','Time from Pickup to Arrival']]"
      ],
      "execution_count": 0,
      "outputs": []
    },
    {
      "cell_type": "code",
      "metadata": {
        "id": "QXpjRpDuJSpZ",
        "colab_type": "code",
        "outputId": "02583851-74e4-480f-9e73-ae4a8e937819",
        "colab": {
          "base_uri": "https://localhost:8080/",
          "height": 0
        }
      },
      "source": [
        "predicted_svr"
      ],
      "execution_count": 297,
      "outputs": [
        {
          "output_type": "execute_result",
          "data": {
            "text/html": [
              "<div>\n",
              "<style scoped>\n",
              "    .dataframe tbody tr th:only-of-type {\n",
              "        vertical-align: middle;\n",
              "    }\n",
              "\n",
              "    .dataframe tbody tr th {\n",
              "        vertical-align: top;\n",
              "    }\n",
              "\n",
              "    .dataframe thead th {\n",
              "        text-align: right;\n",
              "    }\n",
              "</style>\n",
              "<table border=\"1\" class=\"dataframe\">\n",
              "  <thead>\n",
              "    <tr style=\"text-align: right;\">\n",
              "      <th></th>\n",
              "      <th>Order No</th>\n",
              "      <th>Time from Pickup to Arrival</th>\n",
              "    </tr>\n",
              "  </thead>\n",
              "  <tbody>\n",
              "    <tr>\n",
              "      <th>0</th>\n",
              "      <td>Order_No_19248</td>\n",
              "      <td>1327.59</td>\n",
              "    </tr>\n",
              "    <tr>\n",
              "      <th>1</th>\n",
              "      <td>Order_No_12736</td>\n",
              "      <td>1134.82</td>\n",
              "    </tr>\n",
              "    <tr>\n",
              "      <th>2</th>\n",
              "      <td>Order_No_768</td>\n",
              "      <td>1182.48</td>\n",
              "    </tr>\n",
              "    <tr>\n",
              "      <th>3</th>\n",
              "      <td>Order_No_15332</td>\n",
              "      <td>1177.89</td>\n",
              "    </tr>\n",
              "    <tr>\n",
              "      <th>4</th>\n",
              "      <td>Order_No_21373</td>\n",
              "      <td>1200.02</td>\n",
              "    </tr>\n",
              "    <tr>\n",
              "      <th>...</th>\n",
              "      <td>...</td>\n",
              "      <td>...</td>\n",
              "    </tr>\n",
              "    <tr>\n",
              "      <th>7063</th>\n",
              "      <td>Order_No_3612</td>\n",
              "      <td>1158.63</td>\n",
              "    </tr>\n",
              "    <tr>\n",
              "      <th>7064</th>\n",
              "      <td>Order_No_7657</td>\n",
              "      <td>1715.51</td>\n",
              "    </tr>\n",
              "    <tr>\n",
              "      <th>7065</th>\n",
              "      <td>Order_No_1969</td>\n",
              "      <td>1396.27</td>\n",
              "    </tr>\n",
              "    <tr>\n",
              "      <th>7066</th>\n",
              "      <td>Order_No_10591</td>\n",
              "      <td>1644.58</td>\n",
              "    </tr>\n",
              "    <tr>\n",
              "      <th>7067</th>\n",
              "      <td>Order_No_1603</td>\n",
              "      <td>1319.53</td>\n",
              "    </tr>\n",
              "  </tbody>\n",
              "</table>\n",
              "<p>7068 rows × 2 columns</p>\n",
              "</div>"
            ],
            "text/plain": [
              "            Order No  Time from Pickup to Arrival\n",
              "0     Order_No_19248                      1327.59\n",
              "1     Order_No_12736                      1134.82\n",
              "2       Order_No_768                      1182.48\n",
              "3     Order_No_15332                      1177.89\n",
              "4     Order_No_21373                      1200.02\n",
              "...              ...                          ...\n",
              "7063   Order_No_3612                      1158.63\n",
              "7064   Order_No_7657                      1715.51\n",
              "7065   Order_No_1969                      1396.27\n",
              "7066  Order_No_10591                      1644.58\n",
              "7067   Order_No_1603                      1319.53\n",
              "\n",
              "[7068 rows x 2 columns]"
            ]
          },
          "metadata": {
            "tags": []
          },
          "execution_count": 297
        }
      ]
    },
    {
      "cell_type": "code",
      "metadata": {
        "id": "-dYj7D8JJY4P",
        "colab_type": "code",
        "colab": {}
      },
      "source": [
        "#save the results as the .csv file\n",
        "predicted_svr.to_csv('predicted_time_svr.csv',index=False)"
      ],
      "execution_count": 0,
      "outputs": []
    },
    {
      "cell_type": "markdown",
      "metadata": {
        "id": "MC_cGNJo22B-",
        "colab_type": "text"
      },
      "source": [
        "# Model Evaluation and Concluding Remarks"
      ]
    },
    {
      "cell_type": "markdown",
      "metadata": {
        "id": "z0D-e7iH3BT8",
        "colab_type": "text"
      },
      "source": [
        "Now that the regression has been performed, what follows is checking how good the model fits to unseen data. The predict instructions outlined that the Root Mean Square Error should be used as our metric to check for model performance. "
      ]
    },
    {
      "cell_type": "code",
      "metadata": {
        "id": "WrwVyP56B0qy",
        "colab_type": "code",
        "colab": {}
      },
      "source": [
        "# dictionary of results\n",
        "RMSE_dict = {'RMSE':\n",
        "             {\n",
        "                 \"Linear Regression\": np.sqrt(mean_squared_error\n",
        "                                           (Y_test1,y_pred_linear)),\n",
        "              \"Decision Tree\": np.sqrt(mean_squared_error(Y_test1,y_pred_dt)),\n",
        "              \"Lasso regression\": np.sqrt(metrics.mean_squared_error\n",
        "                                          (Y_test1, y_pred_lasso)),\n",
        "              \"Support Vector Regressor\": np.sqrt(mean_squared_error\n",
        "                                                  (Y_test,y_pred_svr))\n",
        "              }\n",
        "             }"
      ],
      "execution_count": 0,
      "outputs": []
    },
    {
      "cell_type": "code",
      "metadata": {
        "id": "F_QN4aqqE6OD",
        "colab_type": "code",
        "colab": {}
      },
      "source": [
        "# create dataframe from dictionary\n",
        "RMSE_df = pd.DataFrame(data=RMSE_dict)"
      ],
      "execution_count": 0,
      "outputs": []
    },
    {
      "cell_type": "code",
      "metadata": {
        "id": "b-6bT2sRFLbG",
        "colab_type": "code",
        "outputId": "c3c5330e-62fd-46fc-a677-59eb74d6ad21",
        "colab": {
          "base_uri": "https://localhost:8080/",
          "height": 173
        }
      },
      "source": [
        "round(RMSE_df,2)"
      ],
      "execution_count": 301,
      "outputs": [
        {
          "output_type": "execute_result",
          "data": {
            "text/html": [
              "<div>\n",
              "<style scoped>\n",
              "    .dataframe tbody tr th:only-of-type {\n",
              "        vertical-align: middle;\n",
              "    }\n",
              "\n",
              "    .dataframe tbody tr th {\n",
              "        vertical-align: top;\n",
              "    }\n",
              "\n",
              "    .dataframe thead th {\n",
              "        text-align: right;\n",
              "    }\n",
              "</style>\n",
              "<table border=\"1\" class=\"dataframe\">\n",
              "  <thead>\n",
              "    <tr style=\"text-align: right;\">\n",
              "      <th></th>\n",
              "      <th>RMSE</th>\n",
              "    </tr>\n",
              "  </thead>\n",
              "  <tbody>\n",
              "    <tr>\n",
              "      <th>Decision Tree</th>\n",
              "      <td>2224.25</td>\n",
              "    </tr>\n",
              "    <tr>\n",
              "      <th>Lasso regression</th>\n",
              "      <td>2233.57</td>\n",
              "    </tr>\n",
              "    <tr>\n",
              "      <th>Linear Regression</th>\n",
              "      <td>2233.44</td>\n",
              "    </tr>\n",
              "    <tr>\n",
              "      <th>Support Vector Regressor</th>\n",
              "      <td>2344.83</td>\n",
              "    </tr>\n",
              "  </tbody>\n",
              "</table>\n",
              "</div>"
            ],
            "text/plain": [
              "                             RMSE\n",
              "Decision Tree             2224.25\n",
              "Lasso regression          2233.57\n",
              "Linear Regression         2233.44\n",
              "Support Vector Regressor  2344.83"
            ]
          },
          "metadata": {
            "tags": []
          },
          "execution_count": 301
        }
      ]
    },
    {
      "cell_type": "markdown",
      "metadata": {
        "id": "0vRT4WhlL5Fr",
        "colab_type": "text"
      },
      "source": [
        "From the RMSE scores of the regression models shown above, it is evident that the Decision Tree model performs better as it has the least RMSE. However, when testing the data on Zindi, Lasso regression performed better with an RMSE score of 766.9862. It is evident that some models may yield the least RMSE, but that does not guarantee that they are the best models for predictiong unseen data. As a result, Lasso Regression model has been chosen as the best model in making predicting the Estimated Time of Arrival."
      ]
    },
    {
      "cell_type": "markdown",
      "metadata": {
        "id": "KXriTzgaJ-gw",
        "colab_type": "text"
      },
      "source": [
        "##Saving Submission File"
      ]
    },
    {
      "cell_type": "code",
      "metadata": {
        "id": "wdt8_ZYtlwy1",
        "colab_type": "code",
        "colab": {}
      },
      "source": [
        "#save the results of the chosen model as a .csv file\n",
        "predicted_lasso.to_csv(\"predicted_time_lasso.csv\",index=False)"
      ],
      "execution_count": 0,
      "outputs": []
    },
    {
      "cell_type": "code",
      "metadata": {
        "id": "48xpxnvPX_vN",
        "colab_type": "code",
        "colab": {}
      },
      "source": [
        "# Saving the trained model as .pkl file\n",
        "model_save_path = \"trained_model.pkl\"\n",
        "with open(model_save_path,'wb') as file:\n",
        "    pickle.dump(lasso,file)"
      ],
      "execution_count": 0,
      "outputs": []
    }
  ]
}