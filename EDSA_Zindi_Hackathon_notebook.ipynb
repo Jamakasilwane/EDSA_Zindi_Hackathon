{
  "nbformat": 4,
  "nbformat_minor": 0,
  "metadata": {
    "colab": {
      "name": "EDSA_Zindi_Hackathon.ipynb",
      "provenance": [],
      "include_colab_link": true
    },
    "kernelspec": {
      "name": "python3",
      "display_name": "Python 3"
    }
  },
  "cells": [
    {
      "cell_type": "markdown",
      "metadata": {
        "id": "view-in-github",
        "colab_type": "text"
      },
      "source": [
        "<a href=\"https://colab.research.google.com/github/Jamakasilwane/EDSA_Zindi_Hackathon/blob/master/EDSA_Zindi_Hackathon_notebook.ipynb\" target=\"_parent\"><img src=\"https://colab.research.google.com/assets/colab-badge.svg\" alt=\"Open In Colab\"/></a>"
      ]
    },
    {
      "cell_type": "markdown",
      "metadata": {
        "id": "Sk8M7_I2Ze1P",
        "colab_type": "text"
      },
      "source": [
        "# **EDSA-Zindi Hackathon Notebook**"
      ]
    },
    {
      "cell_type": "markdown",
      "metadata": {
        "id": "of0IXwwZbxwX",
        "colab_type": "text"
      },
      "source": [
        "# Introduction"
      ]
    },
    {
      "cell_type": "markdown",
      "metadata": {
        "id": "q91BFbW4X_sh",
        "colab_type": "text"
      },
      "source": [
        "The following is the machine Learning problem from the Sendy Logistics Challenge from one of the Zindi hosted hackathons. Zindi is the platform that hosts several or different Machine Learning Hackathons around the Africa Continent and with Sendy Logistics this Machine learning Hackathon is for the EDSA Explore Data-Science Academy Students that are currently enrolled for 2020 Academic Year.\n",
        "\n",
        "Sendy Logistics Company helps Clients/Customers to trade easily, deliver more competetive and build extraordinary businesses by transporting different kind of packages or deliveries from one point to another point efficiently. This Machine Learning problem is to solve the efficiency of Sendy's services and to better communication to the customers.\n",
        "\n",
        "The Machine Learning Challenge hosted on Zindi by Sendy is detailed as following :\n",
        "\n",
        "Each Team or Student from EDSA Explore Data-Science Academy should build a Machine Learning model that predict the estimated time it will take the delivery of the order to arrive from the point of pickup to the arrival destination.\n",
        "\n"
      ]
    },
    {
      "cell_type": "markdown",
      "metadata": {
        "id": "jZT51093cAhy",
        "colab_type": "text"
      },
      "source": [
        "# Data Preprocessing"
      ]
    },
    {
      "cell_type": "markdown",
      "metadata": {
        "id": "mftHi5y1Zrd9",
        "colab_type": "text"
      },
      "source": [
        "## Importing Libraries"
      ]
    },
    {
      "cell_type": "code",
      "metadata": {
        "id": "C_sxBoBFIPuc",
        "colab_type": "code",
        "colab": {}
      },
      "source": [
        "import numpy as np\n",
        "import pandas as pd\n",
        "import matplotlib.pyplot as plt\n",
        "%matplotlib inline\n",
        "import seaborn as sns\n",
        "from IPython.core.pylabtools import figsize\n",
        "from sklearn.impute import SimpleImputer\n",
        "from sklearn.preprocessing import StandardScaler\n",
        "from sklearn.linear_model import LinearRegression\n",
        "from sklearn.linear_model import Lasso\n",
        "from sklearn.metrics import mean_squared_error\n",
        "from sklearn import metrics\n",
        "from sklearn.tree import DecisionTreeRegressor\n",
        "from sklearn.ensemble import RandomForestRegressor\n",
        "import pickle"
      ],
      "execution_count": 0,
      "outputs": []
    },
    {
      "cell_type": "markdown",
      "metadata": {
        "id": "FmrAMSHOaFMD",
        "colab_type": "text"
      },
      "source": [
        "## Importing the dataset"
      ]
    },
    {
      "cell_type": "markdown",
      "metadata": {
        "id": "4QT1FudEX_sn",
        "colab_type": "text"
      },
      "source": [
        "The following is the imported Data for Training the Machine Learning Model to predict the estimated time a delivery will take from one point to another point with full detail of each Dataset :\n",
        "\n",
        "1. Train.csv { Dataset that contains all the variables that should be used to train the model to predict the estimated time. }\n",
        "2. Test.csv  { Dataset that contains variables that will be used to test the model's accuracy in predicting the estimated time. }\n",
        "3. SampleSubmission.csv {Sample of the Submission's expectation of the model trained for this Machine Learning problem. }\n",
        "4. variableDefinitions.csv  {Dataset that contains all the definition of the whole data provided in details and gives more clarity of the data. }\n"
      ]
    },
    {
      "cell_type": "code",
      "metadata": {
        "id": "pcZbUrwUIrtA",
        "colab_type": "code",
        "colab": {}
      },
      "source": [
        "dataset_train = pd.read_csv(\"https://raw.githubusercontent.com/Jamakasilwane/EDSA_Zindi_Hackathon/master/Data/Train.csv\")\n",
        "dataset_test = pd.read_csv(\"https://raw.githubusercontent.com/Jamakasilwane/EDSA_Zindi_Hackathon/master/Data/Test.csv\")\n",
        "dataset_sample = pd.read_csv(\"https://raw.githubusercontent.com/Jamakasilwane/EDSA_Zindi_Hackathon/master/Data/SampleSubmission.csv\")\n",
        "var = pd.read_csv('https://raw.githubusercontent.com/Jamakasilwane/EDSA_Zindi_Hackathon/master/Data/VariableDefinitions.csv')"
      ],
      "execution_count": 0,
      "outputs": []
    },
    {
      "cell_type": "markdown",
      "metadata": {
        "id": "t4Vcd1SwX_sr",
        "colab_type": "text"
      },
      "source": [
        "## Data Cleaning and Formatting"
      ]
    },
    {
      "cell_type": "markdown",
      "metadata": {
        "id": "CDd4TDUBqhsQ",
        "colab_type": "text"
      },
      "source": [
        "The following section looks at information which pertains to both the training and testing datasets. It looks at the columns data types as check whether they correspond with what each column shows. We also Check for missig values in the datasets. "
      ]
    },
    {
      "cell_type": "code",
      "metadata": {
        "id": "MdsyQ4eKX_ss",
        "colab_type": "code",
        "outputId": "1f302c4f-4d71-4f11-a545-44838c49cfca",
        "colab": {
          "base_uri": "https://localhost:8080/",
          "height": 267
        }
      },
      "source": [
        "dataset_train.head(2)"
      ],
      "execution_count": 0,
      "outputs": [
        {
          "output_type": "execute_result",
          "data": {
            "text/html": [
              "<div>\n",
              "<style scoped>\n",
              "    .dataframe tbody tr th:only-of-type {\n",
              "        vertical-align: middle;\n",
              "    }\n",
              "\n",
              "    .dataframe tbody tr th {\n",
              "        vertical-align: top;\n",
              "    }\n",
              "\n",
              "    .dataframe thead th {\n",
              "        text-align: right;\n",
              "    }\n",
              "</style>\n",
              "<table border=\"1\" class=\"dataframe\">\n",
              "  <thead>\n",
              "    <tr style=\"text-align: right;\">\n",
              "      <th></th>\n",
              "      <th>Order No</th>\n",
              "      <th>User Id</th>\n",
              "      <th>Vehicle Type</th>\n",
              "      <th>Platform Type</th>\n",
              "      <th>Personal or Business</th>\n",
              "      <th>Placement - Day of Month</th>\n",
              "      <th>Placement - Weekday (Mo = 1)</th>\n",
              "      <th>Placement - Time</th>\n",
              "      <th>Confirmation - Day of Month</th>\n",
              "      <th>Confirmation - Weekday (Mo = 1)</th>\n",
              "      <th>Confirmation - Time</th>\n",
              "      <th>Arrival at Pickup - Day of Month</th>\n",
              "      <th>Arrival at Pickup - Weekday (Mo = 1)</th>\n",
              "      <th>Arrival at Pickup - Time</th>\n",
              "      <th>Pickup - Day of Month</th>\n",
              "      <th>Pickup - Weekday (Mo = 1)</th>\n",
              "      <th>Pickup - Time</th>\n",
              "      <th>Arrival at Destination - Day of Month</th>\n",
              "      <th>Arrival at Destination - Weekday (Mo = 1)</th>\n",
              "      <th>Arrival at Destination - Time</th>\n",
              "      <th>Distance (KM)</th>\n",
              "      <th>Temperature</th>\n",
              "      <th>Precipitation in millimeters</th>\n",
              "      <th>Pickup Lat</th>\n",
              "      <th>Pickup Long</th>\n",
              "      <th>Destination Lat</th>\n",
              "      <th>Destination Long</th>\n",
              "      <th>Rider Id</th>\n",
              "      <th>Time from Pickup to Arrival</th>\n",
              "    </tr>\n",
              "  </thead>\n",
              "  <tbody>\n",
              "    <tr>\n",
              "      <th>0</th>\n",
              "      <td>Order_No_4211</td>\n",
              "      <td>User_Id_633</td>\n",
              "      <td>Bike</td>\n",
              "      <td>3</td>\n",
              "      <td>Business</td>\n",
              "      <td>9</td>\n",
              "      <td>5</td>\n",
              "      <td>9:35:46 AM</td>\n",
              "      <td>9</td>\n",
              "      <td>5</td>\n",
              "      <td>9:40:10 AM</td>\n",
              "      <td>9</td>\n",
              "      <td>5</td>\n",
              "      <td>10:04:47 AM</td>\n",
              "      <td>9</td>\n",
              "      <td>5</td>\n",
              "      <td>10:27:30 AM</td>\n",
              "      <td>9</td>\n",
              "      <td>5</td>\n",
              "      <td>10:39:55 AM</td>\n",
              "      <td>4</td>\n",
              "      <td>20.4</td>\n",
              "      <td>NaN</td>\n",
              "      <td>-1.317755</td>\n",
              "      <td>36.830370</td>\n",
              "      <td>-1.300406</td>\n",
              "      <td>36.829741</td>\n",
              "      <td>Rider_Id_432</td>\n",
              "      <td>745</td>\n",
              "    </tr>\n",
              "    <tr>\n",
              "      <th>1</th>\n",
              "      <td>Order_No_25375</td>\n",
              "      <td>User_Id_2285</td>\n",
              "      <td>Bike</td>\n",
              "      <td>3</td>\n",
              "      <td>Personal</td>\n",
              "      <td>12</td>\n",
              "      <td>5</td>\n",
              "      <td>11:16:16 AM</td>\n",
              "      <td>12</td>\n",
              "      <td>5</td>\n",
              "      <td>11:23:21 AM</td>\n",
              "      <td>12</td>\n",
              "      <td>5</td>\n",
              "      <td>11:40:22 AM</td>\n",
              "      <td>12</td>\n",
              "      <td>5</td>\n",
              "      <td>11:44:09 AM</td>\n",
              "      <td>12</td>\n",
              "      <td>5</td>\n",
              "      <td>12:17:22 PM</td>\n",
              "      <td>16</td>\n",
              "      <td>26.4</td>\n",
              "      <td>NaN</td>\n",
              "      <td>-1.351453</td>\n",
              "      <td>36.899315</td>\n",
              "      <td>-1.295004</td>\n",
              "      <td>36.814358</td>\n",
              "      <td>Rider_Id_856</td>\n",
              "      <td>1993</td>\n",
              "    </tr>\n",
              "  </tbody>\n",
              "</table>\n",
              "</div>"
            ],
            "text/plain": [
              "         Order No       User Id  ...      Rider Id  Time from Pickup to Arrival\n",
              "0   Order_No_4211   User_Id_633  ...  Rider_Id_432                          745\n",
              "1  Order_No_25375  User_Id_2285  ...  Rider_Id_856                         1993\n",
              "\n",
              "[2 rows x 29 columns]"
            ]
          },
          "metadata": {
            "tags": []
          },
          "execution_count": 130
        }
      ]
    },
    {
      "cell_type": "code",
      "metadata": {
        "id": "Cg0ogBLVX_sv",
        "colab_type": "code",
        "outputId": "89934276-6dcd-406b-913e-178808bd7e67",
        "colab": {
          "base_uri": "https://localhost:8080/",
          "height": 629
        }
      },
      "source": [
        "#Checking the dataset_train information\n",
        "dataset_train.info()"
      ],
      "execution_count": 0,
      "outputs": [
        {
          "output_type": "stream",
          "text": [
            "<class 'pandas.core.frame.DataFrame'>\n",
            "RangeIndex: 21201 entries, 0 to 21200\n",
            "Data columns (total 29 columns):\n",
            " #   Column                                     Non-Null Count  Dtype  \n",
            "---  ------                                     --------------  -----  \n",
            " 0   Order No                                   21201 non-null  object \n",
            " 1   User Id                                    21201 non-null  object \n",
            " 2   Vehicle Type                               21201 non-null  object \n",
            " 3   Platform Type                              21201 non-null  int64  \n",
            " 4   Personal or Business                       21201 non-null  object \n",
            " 5   Placement - Day of Month                   21201 non-null  int64  \n",
            " 6   Placement - Weekday (Mo = 1)               21201 non-null  int64  \n",
            " 7   Placement - Time                           21201 non-null  object \n",
            " 8   Confirmation - Day of Month                21201 non-null  int64  \n",
            " 9   Confirmation - Weekday (Mo = 1)            21201 non-null  int64  \n",
            " 10  Confirmation - Time                        21201 non-null  object \n",
            " 11  Arrival at Pickup - Day of Month           21201 non-null  int64  \n",
            " 12  Arrival at Pickup - Weekday (Mo = 1)       21201 non-null  int64  \n",
            " 13  Arrival at Pickup - Time                   21201 non-null  object \n",
            " 14  Pickup - Day of Month                      21201 non-null  int64  \n",
            " 15  Pickup - Weekday (Mo = 1)                  21201 non-null  int64  \n",
            " 16  Pickup - Time                              21201 non-null  object \n",
            " 17  Arrival at Destination - Day of Month      21201 non-null  int64  \n",
            " 18  Arrival at Destination - Weekday (Mo = 1)  21201 non-null  int64  \n",
            " 19  Arrival at Destination - Time              21201 non-null  object \n",
            " 20  Distance (KM)                              21201 non-null  int64  \n",
            " 21  Temperature                                16835 non-null  float64\n",
            " 22  Precipitation in millimeters               552 non-null    float64\n",
            " 23  Pickup Lat                                 21201 non-null  float64\n",
            " 24  Pickup Long                                21201 non-null  float64\n",
            " 25  Destination Lat                            21201 non-null  float64\n",
            " 26  Destination Long                           21201 non-null  float64\n",
            " 27  Rider Id                                   21201 non-null  object \n",
            " 28  Time from Pickup to Arrival                21201 non-null  int64  \n",
            "dtypes: float64(6), int64(13), object(10)\n",
            "memory usage: 4.7+ MB\n"
          ],
          "name": "stdout"
        }
      ]
    },
    {
      "cell_type": "code",
      "metadata": {
        "id": "NMHeTn66X_sz",
        "colab_type": "code",
        "outputId": "54623fcd-848b-48aa-e64a-55b904024e1f",
        "colab": {
          "base_uri": "https://localhost:8080/",
          "height": 561
        }
      },
      "source": [
        "dataset_test.info()"
      ],
      "execution_count": 0,
      "outputs": [
        {
          "output_type": "stream",
          "text": [
            "<class 'pandas.core.frame.DataFrame'>\n",
            "RangeIndex: 7068 entries, 0 to 7067\n",
            "Data columns (total 25 columns):\n",
            " #   Column                                Non-Null Count  Dtype  \n",
            "---  ------                                --------------  -----  \n",
            " 0   Order No                              7068 non-null   object \n",
            " 1   User Id                               7068 non-null   object \n",
            " 2   Vehicle Type                          7068 non-null   object \n",
            " 3   Platform Type                         7068 non-null   int64  \n",
            " 4   Personal or Business                  7068 non-null   object \n",
            " 5   Placement - Day of Month              7068 non-null   int64  \n",
            " 6   Placement - Weekday (Mo = 1)          7068 non-null   int64  \n",
            " 7   Placement - Time                      7068 non-null   object \n",
            " 8   Confirmation - Day of Month           7068 non-null   int64  \n",
            " 9   Confirmation - Weekday (Mo = 1)       7068 non-null   int64  \n",
            " 10  Confirmation - Time                   7068 non-null   object \n",
            " 11  Arrival at Pickup - Day of Month      7068 non-null   int64  \n",
            " 12  Arrival at Pickup - Weekday (Mo = 1)  7068 non-null   int64  \n",
            " 13  Arrival at Pickup - Time              7068 non-null   object \n",
            " 14  Pickup - Day of Month                 7068 non-null   int64  \n",
            " 15  Pickup - Weekday (Mo = 1)             7068 non-null   int64  \n",
            " 16  Pickup - Time                         7068 non-null   object \n",
            " 17  Distance (KM)                         7068 non-null   int64  \n",
            " 18  Temperature                           5631 non-null   float64\n",
            " 19  Precipitation in millimeters          199 non-null    float64\n",
            " 20  Pickup Lat                            7068 non-null   float64\n",
            " 21  Pickup Long                           7068 non-null   float64\n",
            " 22  Destination Lat                       7068 non-null   float64\n",
            " 23  Destination Long                      7068 non-null   float64\n",
            " 24  Rider Id                              7068 non-null   object \n",
            "dtypes: float64(6), int64(10), object(9)\n",
            "memory usage: 1.3+ MB\n"
          ],
          "name": "stdout"
        }
      ]
    },
    {
      "cell_type": "markdown",
      "metadata": {
        "id": "4Eodz6-7X_s1",
        "colab_type": "text"
      },
      "source": [
        "Looking at the datasets information, there are few data types which are incorrectly formatted. This includes:\n",
        "\n",
        "*   Placement - Time\n",
        "*   Confirmation - Time\n",
        "*   Arrival at Pickup - Time\n",
        "*   Pickup - Time\n",
        "\n",
        " "
      ]
    },
    {
      "cell_type": "markdown",
      "metadata": {
        "id": "s1ZP0z3GgWBG",
        "colab_type": "text"
      },
      "source": [
        "### Changing Time Columns Types Into Datetime"
      ]
    },
    {
      "cell_type": "markdown",
      "metadata": {
        "id": "vSO_orUsgymM",
        "colab_type": "text"
      },
      "source": [
        "The aforementioned columns above should be in a datetime format but they have been declared as object types. The function below converts all type columns into the correct type format (datetime)."
      ]
    },
    {
      "cell_type": "code",
      "metadata": {
        "id": "rx7jaiZ2X_s2",
        "colab_type": "code",
        "colab": {}
      },
      "source": [
        "#changing the data type of columns containing Time in the both train & test dataset\n",
        "data = dataset_train.iloc[:,:-2].columns\n",
        "for col in list(data):\n",
        "    if 'Time' in col:\n",
        "        dataset_train[col] = pd.to_datetime(dataset_train[col])\n",
        "for col in list(dataset_test):\n",
        "    if 'Time' in col:\n",
        "        dataset_test[col] = pd.to_datetime(dataset_test[col])      "
      ],
      "execution_count": 0,
      "outputs": []
    },
    {
      "cell_type": "markdown",
      "metadata": {
        "id": "6udjQG00bhDc",
        "colab_type": "text"
      },
      "source": [
        "### Checking for missing values"
      ]
    },
    {
      "cell_type": "markdown",
      "metadata": {
        "id": "21bA9Dv4kUzf",
        "colab_type": "text"
      },
      "source": [
        "Since we now have the correct format of all the data types in the training data set, we then start to analyse the information variables containing numeric values. This includes checking for missing values and their percentage (%). From the data below, 'Temperature' and 'Precipitation in millimeters' columns have the the highest missing values in both datasets with 20% and 97.40% respectively."
      ]
    },
    {
      "cell_type": "code",
      "metadata": {
        "id": "37_fg1OUX_s6",
        "colab_type": "code",
        "outputId": "ad6cb079-c059-449b-9a82-c3b764e7f539",
        "colab": {
          "base_uri": "https://localhost:8080/",
          "height": 527
        }
      },
      "source": [
        "#looking at the missing values in each column\n",
        "dataset_train.isnull().sum()"
      ],
      "execution_count": 396,
      "outputs": [
        {
          "output_type": "execute_result",
          "data": {
            "text/plain": [
              "Order No                                         0\n",
              "User Id                                          0\n",
              "Vehicle Type                                     0\n",
              "Platform Type                                    0\n",
              "Personal or Business                             0\n",
              "Placement - Day of Month                         0\n",
              "Placement - Weekday (Mo = 1)                     0\n",
              "Placement - Time                                 0\n",
              "Confirmation - Day of Month                      0\n",
              "Confirmation - Weekday (Mo = 1)                  0\n",
              "Confirmation - Time                              0\n",
              "Arrival at Pickup - Day of Month                 0\n",
              "Arrival at Pickup - Weekday (Mo = 1)             0\n",
              "Arrival at Pickup - Time                         0\n",
              "Pickup - Day of Month                            0\n",
              "Pickup - Weekday (Mo = 1)                        0\n",
              "Pickup - Time                                    0\n",
              "Arrival at Destination - Day of Month            0\n",
              "Arrival at Destination - Weekday (Mo = 1)        0\n",
              "Arrival at Destination - Time                    0\n",
              "Distance (KM)                                    0\n",
              "Temperature                                   4366\n",
              "Precipitation in millimeters                 20649\n",
              "Pickup Lat                                       0\n",
              "Pickup Long                                      0\n",
              "Destination Lat                                  0\n",
              "Destination Long                                 0\n",
              "Rider Id                                         0\n",
              "Time from Pickup to Arrival                      0\n",
              "dtype: int64"
            ]
          },
          "metadata": {
            "tags": []
          },
          "execution_count": 396
        }
      ]
    },
    {
      "cell_type": "code",
      "metadata": {
        "id": "jVC_PsYKkcqJ",
        "colab_type": "code",
        "outputId": "1253313c-dbeb-404c-fd1d-2b6dfd910195",
        "colab": {
          "base_uri": "https://localhost:8080/",
          "height": 68
        }
      },
      "source": [
        "#Checking the percetage of the missing values\n",
        "round(dataset_train[['Temperature','Precipitation in millimeters']].isnull().sum()*100/len(dataset_train),2)"
      ],
      "execution_count": 397,
      "outputs": [
        {
          "output_type": "execute_result",
          "data": {
            "text/plain": [
              "Temperature                     20.59\n",
              "Precipitation in millimeters    97.40\n",
              "dtype: float64"
            ]
          },
          "metadata": {
            "tags": []
          },
          "execution_count": 397
        }
      ]
    },
    {
      "cell_type": "markdown",
      "metadata": {
        "id": "P_aHAYfkX_s_",
        "colab_type": "text"
      },
      "source": [
        "## Exploratory Data Analysis"
      ]
    },
    {
      "cell_type": "markdown",
      "metadata": {
        "id": "dxz2xio4X_tA",
        "colab_type": "text"
      },
      "source": [
        "Exploratory Data Analysis is the most important part in both Supervised and Unsupervised Machine Learning. Our eyes can draw few insights by looking at the details of the data provided in the form of the Table or Text file or Sequence File. Although that only gives us the overview of the Ground Truth of the provided data,thus that is why Exploratory Data Analysis is very important. It makes us to look deep in the data provided using different kind of data representations. We get to compare Variables/Columns of the Data provided and also get to plot different Graphs to visualize between certain Variables or visualize the Variable on it own.\n",
        "\n",
        "In the following Section we will be looking deep on certain Variables and intuively deciding on Variables to use for training our model for the predictions. We start by looking at the Statistics Description of the few Variables."
      ]
    },
    {
      "cell_type": "code",
      "metadata": {
        "id": "JV9kIywBX_tF",
        "colab_type": "code",
        "outputId": "e19b4f46-0569-4fcb-ba23-b5d0979a3e8c",
        "colab": {
          "base_uri": "https://localhost:8080/",
          "height": 638
        }
      },
      "source": [
        "#checking the statistics description for the training dataset\n",
        "round(dataset_train.describe().T,2)"
      ],
      "execution_count": 398,
      "outputs": [
        {
          "output_type": "execute_result",
          "data": {
            "text/html": [
              "<div>\n",
              "<style scoped>\n",
              "    .dataframe tbody tr th:only-of-type {\n",
              "        vertical-align: middle;\n",
              "    }\n",
              "\n",
              "    .dataframe tbody tr th {\n",
              "        vertical-align: top;\n",
              "    }\n",
              "\n",
              "    .dataframe thead th {\n",
              "        text-align: right;\n",
              "    }\n",
              "</style>\n",
              "<table border=\"1\" class=\"dataframe\">\n",
              "  <thead>\n",
              "    <tr style=\"text-align: right;\">\n",
              "      <th></th>\n",
              "      <th>count</th>\n",
              "      <th>mean</th>\n",
              "      <th>std</th>\n",
              "      <th>min</th>\n",
              "      <th>25%</th>\n",
              "      <th>50%</th>\n",
              "      <th>75%</th>\n",
              "      <th>max</th>\n",
              "    </tr>\n",
              "  </thead>\n",
              "  <tbody>\n",
              "    <tr>\n",
              "      <th>Platform Type</th>\n",
              "      <td>21201.0</td>\n",
              "      <td>2.75</td>\n",
              "      <td>0.63</td>\n",
              "      <td>1.00</td>\n",
              "      <td>3.00</td>\n",
              "      <td>3.00</td>\n",
              "      <td>3.00</td>\n",
              "      <td>4.00</td>\n",
              "    </tr>\n",
              "    <tr>\n",
              "      <th>Placement - Day of Month</th>\n",
              "      <td>21201.0</td>\n",
              "      <td>15.65</td>\n",
              "      <td>8.80</td>\n",
              "      <td>1.00</td>\n",
              "      <td>8.00</td>\n",
              "      <td>15.00</td>\n",
              "      <td>23.00</td>\n",
              "      <td>31.00</td>\n",
              "    </tr>\n",
              "    <tr>\n",
              "      <th>Placement - Weekday (Mo = 1)</th>\n",
              "      <td>21201.0</td>\n",
              "      <td>3.24</td>\n",
              "      <td>1.57</td>\n",
              "      <td>1.00</td>\n",
              "      <td>2.00</td>\n",
              "      <td>3.00</td>\n",
              "      <td>5.00</td>\n",
              "      <td>7.00</td>\n",
              "    </tr>\n",
              "    <tr>\n",
              "      <th>Confirmation - Day of Month</th>\n",
              "      <td>21201.0</td>\n",
              "      <td>15.65</td>\n",
              "      <td>8.80</td>\n",
              "      <td>1.00</td>\n",
              "      <td>8.00</td>\n",
              "      <td>15.00</td>\n",
              "      <td>23.00</td>\n",
              "      <td>31.00</td>\n",
              "    </tr>\n",
              "    <tr>\n",
              "      <th>Confirmation - Weekday (Mo = 1)</th>\n",
              "      <td>21201.0</td>\n",
              "      <td>3.24</td>\n",
              "      <td>1.57</td>\n",
              "      <td>1.00</td>\n",
              "      <td>2.00</td>\n",
              "      <td>3.00</td>\n",
              "      <td>5.00</td>\n",
              "      <td>7.00</td>\n",
              "    </tr>\n",
              "    <tr>\n",
              "      <th>Arrival at Pickup - Day of Month</th>\n",
              "      <td>21201.0</td>\n",
              "      <td>15.65</td>\n",
              "      <td>8.80</td>\n",
              "      <td>1.00</td>\n",
              "      <td>8.00</td>\n",
              "      <td>15.00</td>\n",
              "      <td>23.00</td>\n",
              "      <td>31.00</td>\n",
              "    </tr>\n",
              "    <tr>\n",
              "      <th>Arrival at Pickup - Weekday (Mo = 1)</th>\n",
              "      <td>21201.0</td>\n",
              "      <td>3.24</td>\n",
              "      <td>1.57</td>\n",
              "      <td>1.00</td>\n",
              "      <td>2.00</td>\n",
              "      <td>3.00</td>\n",
              "      <td>5.00</td>\n",
              "      <td>7.00</td>\n",
              "    </tr>\n",
              "    <tr>\n",
              "      <th>Pickup - Day of Month</th>\n",
              "      <td>21201.0</td>\n",
              "      <td>15.65</td>\n",
              "      <td>8.80</td>\n",
              "      <td>1.00</td>\n",
              "      <td>8.00</td>\n",
              "      <td>15.00</td>\n",
              "      <td>23.00</td>\n",
              "      <td>31.00</td>\n",
              "    </tr>\n",
              "    <tr>\n",
              "      <th>Pickup - Weekday (Mo = 1)</th>\n",
              "      <td>21201.0</td>\n",
              "      <td>3.24</td>\n",
              "      <td>1.57</td>\n",
              "      <td>1.00</td>\n",
              "      <td>2.00</td>\n",
              "      <td>3.00</td>\n",
              "      <td>5.00</td>\n",
              "      <td>7.00</td>\n",
              "    </tr>\n",
              "    <tr>\n",
              "      <th>Arrival at Destination - Day of Month</th>\n",
              "      <td>21201.0</td>\n",
              "      <td>15.65</td>\n",
              "      <td>8.80</td>\n",
              "      <td>1.00</td>\n",
              "      <td>8.00</td>\n",
              "      <td>15.00</td>\n",
              "      <td>23.00</td>\n",
              "      <td>31.00</td>\n",
              "    </tr>\n",
              "    <tr>\n",
              "      <th>Arrival at Destination - Weekday (Mo = 1)</th>\n",
              "      <td>21201.0</td>\n",
              "      <td>3.24</td>\n",
              "      <td>1.57</td>\n",
              "      <td>1.00</td>\n",
              "      <td>2.00</td>\n",
              "      <td>3.00</td>\n",
              "      <td>5.00</td>\n",
              "      <td>7.00</td>\n",
              "    </tr>\n",
              "    <tr>\n",
              "      <th>Distance (KM)</th>\n",
              "      <td>21201.0</td>\n",
              "      <td>9.51</td>\n",
              "      <td>5.67</td>\n",
              "      <td>1.00</td>\n",
              "      <td>5.00</td>\n",
              "      <td>8.00</td>\n",
              "      <td>13.00</td>\n",
              "      <td>49.00</td>\n",
              "    </tr>\n",
              "    <tr>\n",
              "      <th>Temperature</th>\n",
              "      <td>16835.0</td>\n",
              "      <td>23.26</td>\n",
              "      <td>3.62</td>\n",
              "      <td>11.20</td>\n",
              "      <td>20.60</td>\n",
              "      <td>23.50</td>\n",
              "      <td>26.00</td>\n",
              "      <td>32.10</td>\n",
              "    </tr>\n",
              "    <tr>\n",
              "      <th>Precipitation in millimeters</th>\n",
              "      <td>552.0</td>\n",
              "      <td>7.91</td>\n",
              "      <td>17.09</td>\n",
              "      <td>0.10</td>\n",
              "      <td>1.08</td>\n",
              "      <td>2.90</td>\n",
              "      <td>4.90</td>\n",
              "      <td>99.10</td>\n",
              "    </tr>\n",
              "    <tr>\n",
              "      <th>Pickup Lat</th>\n",
              "      <td>21201.0</td>\n",
              "      <td>-1.28</td>\n",
              "      <td>0.03</td>\n",
              "      <td>-1.44</td>\n",
              "      <td>-1.30</td>\n",
              "      <td>-1.28</td>\n",
              "      <td>-1.26</td>\n",
              "      <td>-1.15</td>\n",
              "    </tr>\n",
              "    <tr>\n",
              "      <th>Pickup Long</th>\n",
              "      <td>21201.0</td>\n",
              "      <td>36.81</td>\n",
              "      <td>0.04</td>\n",
              "      <td>36.65</td>\n",
              "      <td>36.78</td>\n",
              "      <td>36.81</td>\n",
              "      <td>36.83</td>\n",
              "      <td>36.99</td>\n",
              "    </tr>\n",
              "    <tr>\n",
              "      <th>Destination Lat</th>\n",
              "      <td>21201.0</td>\n",
              "      <td>-1.28</td>\n",
              "      <td>0.03</td>\n",
              "      <td>-1.43</td>\n",
              "      <td>-1.30</td>\n",
              "      <td>-1.28</td>\n",
              "      <td>-1.26</td>\n",
              "      <td>-1.03</td>\n",
              "    </tr>\n",
              "    <tr>\n",
              "      <th>Destination Long</th>\n",
              "      <td>21201.0</td>\n",
              "      <td>36.81</td>\n",
              "      <td>0.04</td>\n",
              "      <td>36.61</td>\n",
              "      <td>36.79</td>\n",
              "      <td>36.81</td>\n",
              "      <td>36.83</td>\n",
              "      <td>37.02</td>\n",
              "    </tr>\n",
              "    <tr>\n",
              "      <th>Time from Pickup to Arrival</th>\n",
              "      <td>21201.0</td>\n",
              "      <td>1556.92</td>\n",
              "      <td>987.27</td>\n",
              "      <td>1.00</td>\n",
              "      <td>882.00</td>\n",
              "      <td>1369.00</td>\n",
              "      <td>2040.00</td>\n",
              "      <td>7883.00</td>\n",
              "    </tr>\n",
              "  </tbody>\n",
              "</table>\n",
              "</div>"
            ],
            "text/plain": [
              "                                             count     mean  ...      75%      max\n",
              "Platform Type                              21201.0     2.75  ...     3.00     4.00\n",
              "Placement - Day of Month                   21201.0    15.65  ...    23.00    31.00\n",
              "Placement - Weekday (Mo = 1)               21201.0     3.24  ...     5.00     7.00\n",
              "Confirmation - Day of Month                21201.0    15.65  ...    23.00    31.00\n",
              "Confirmation - Weekday (Mo = 1)            21201.0     3.24  ...     5.00     7.00\n",
              "Arrival at Pickup - Day of Month           21201.0    15.65  ...    23.00    31.00\n",
              "Arrival at Pickup - Weekday (Mo = 1)       21201.0     3.24  ...     5.00     7.00\n",
              "Pickup - Day of Month                      21201.0    15.65  ...    23.00    31.00\n",
              "Pickup - Weekday (Mo = 1)                  21201.0     3.24  ...     5.00     7.00\n",
              "Arrival at Destination - Day of Month      21201.0    15.65  ...    23.00    31.00\n",
              "Arrival at Destination - Weekday (Mo = 1)  21201.0     3.24  ...     5.00     7.00\n",
              "Distance (KM)                              21201.0     9.51  ...    13.00    49.00\n",
              "Temperature                                16835.0    23.26  ...    26.00    32.10\n",
              "Precipitation in millimeters                 552.0     7.91  ...     4.90    99.10\n",
              "Pickup Lat                                 21201.0    -1.28  ...    -1.26    -1.15\n",
              "Pickup Long                                21201.0    36.81  ...    36.83    36.99\n",
              "Destination Lat                            21201.0    -1.28  ...    -1.26    -1.03\n",
              "Destination Long                           21201.0    36.81  ...    36.83    37.02\n",
              "Time from Pickup to Arrival                21201.0  1556.92  ...  2040.00  7883.00\n",
              "\n",
              "[19 rows x 8 columns]"
            ]
          },
          "metadata": {
            "tags": []
          },
          "execution_count": 398
        }
      ]
    },
    {
      "cell_type": "code",
      "metadata": {
        "id": "EQ5U7LK5X_tM",
        "colab_type": "code",
        "outputId": "5016bf89-6715-4988-8b3e-a099b431b40c",
        "colab": {
          "base_uri": "https://localhost:8080/",
          "height": 349
        }
      },
      "source": [
        "plt.hist(dataset_train['Temperature'],color='grey', bins=20)\n",
        "plt.title('Temperature Normal Distribution Check')\n",
        "plt.show()"
      ],
      "execution_count": 399,
      "outputs": [
        {
          "output_type": "stream",
          "text": [
            "/usr/local/lib/python3.6/dist-packages/numpy/lib/histograms.py:839: RuntimeWarning: invalid value encountered in greater_equal\n",
            "  keep = (tmp_a >= first_edge)\n",
            "/usr/local/lib/python3.6/dist-packages/numpy/lib/histograms.py:840: RuntimeWarning: invalid value encountered in less_equal\n",
            "  keep &= (tmp_a <= last_edge)\n"
          ],
          "name": "stderr"
        },
        {
          "output_type": "display_data",
          "data": {
            "image/png": "[encoded data removed]",
            "text/plain": [
              "<Figure size 432x288 with 1 Axes>"
            ]
          },
          "metadata": {
            "tags": [],
            "needs_background": "light"
          }
        }
      ]
    },
    {
      "cell_type": "markdown",
      "metadata": {
        "id": "LGFlyuV5z_eq",
        "colab_type": "text"
      },
      "source": [
        "The mean temperature at the time of order placement is 25 Degrees Celsius "
      ]
    },
    {
      "cell_type": "code",
      "metadata": {
        "id": "er28-wVVX_tP",
        "colab_type": "code",
        "outputId": "363e26e8-0bf9-42bc-b593-ddb5161c5635",
        "colab": {
          "base_uri": "https://localhost:8080/",
          "height": 349
        }
      },
      "source": [
        "plt.hist(dataset_train['Precipitation in millimeters'], color='grey', density=False, bins=10)\n",
        "plt.title(\"Precipitation Normal Distribution Check\")\n",
        "plt.show()"
      ],
      "execution_count": 400,
      "outputs": [
        {
          "output_type": "stream",
          "text": [
            "/usr/local/lib/python3.6/dist-packages/numpy/lib/histograms.py:839: RuntimeWarning: invalid value encountered in greater_equal\n",
            "  keep = (tmp_a >= first_edge)\n",
            "/usr/local/lib/python3.6/dist-packages/numpy/lib/histograms.py:840: RuntimeWarning: invalid value encountered in less_equal\n",
            "  keep &= (tmp_a <= last_edge)\n"
          ],
          "name": "stderr"
        },
        {
          "output_type": "display_data",
          "data": {
            "image/png": "[encoded data removed]",
            "text/plain": [
              "<Figure size 432x288 with 1 Axes>"
            ]
          },
          "metadata": {
            "tags": [],
            "needs_background": "light"
          }
        }
      ]
    },
    {
      "cell_type": "markdown",
      "metadata": {
        "id": "yCxfESXn0Rof",
        "colab_type": "text"
      },
      "source": [
        "The most common level of precipitation at the time of order placement was less than 20ml"
      ]
    },
    {
      "cell_type": "code",
      "metadata": {
        "id": "fI_V9rSFX_tS",
        "colab_type": "code",
        "outputId": "4e46dc3b-28d9-40e5-ed81-cd36a83f1c67",
        "colab": {
          "base_uri": "https://localhost:8080/",
          "height": 281
        }
      },
      "source": [
        "plt.hist(dataset_train['Distance (KM)'], color='grey', bins=10)  \n",
        "plt.title(\"Distance Normal Distribution check\")\n",
        "plt.show()"
      ],
      "execution_count": 401,
      "outputs": [
        {
          "output_type": "display_data",
          "data": {
            "image/png": "[encoded data removed]",
            "text/plain": [
              "<Figure size 432x288 with 1 Axes>"
            ]
          },
          "metadata": {
            "tags": [],
            "needs_background": "light"
          }
        }
      ]
    },
    {
      "cell_type": "markdown",
      "metadata": {
        "id": "WvljE4LW0JTh",
        "colab_type": "text"
      },
      "source": [
        "The longest distance from  from Pickup to Destination is 10Km "
      ]
    },
    {
      "cell_type": "code",
      "metadata": {
        "id": "itWb6l_acOQN",
        "colab_type": "code",
        "outputId": "4e14268f-72a6-4f75-c989-516ad6dd558c",
        "colab": {
          "base_uri": "https://localhost:8080/",
          "height": 295
        }
      },
      "source": [
        "dataset_train['Arrival at Pickup - Weekday (Mo = 1)'].value_counts().plot(kind='bar',rot=0)\n",
        "plt.title(\"Evaluating the Overall of Rider's arrival at the Pickup on weekdays\")\n",
        "plt.xlabel(\"Days of the Week\")\n",
        "plt.ylabel(\"The Overall of each Day\")\n",
        "plt.show()"
      ],
      "execution_count": 402,
      "outputs": [
        {
          "output_type": "display_data",
          "data": {
            "image/png": "[encoded data removed]",
            "text/plain": [
              "<Figure size 432x288 with 1 Axes>"
            ]
          },
          "metadata": {
            "tags": [],
            "needs_background": "light"
          }
        }
      ]
    },
    {
      "cell_type": "markdown",
      "metadata": {
        "id": "QuieuuIb0wCC",
        "colab_type": "text"
      },
      "source": [
        "From the Arrival at Pickup graph, it is evident that Most dirvers arrive at the loaction of the pickup during weekdays compared to weekends. consequently, It can be deduced that  weekends are not busy compared to weekddays"
      ]
    },
    {
      "cell_type": "code",
      "metadata": {
        "id": "o0xNfOMjc3oj",
        "colab_type": "code",
        "outputId": "7f9fd09f-be02-42eb-b3d6-2da60c5ccbb6",
        "colab": {
          "base_uri": "https://localhost:8080/",
          "height": 295
        }
      },
      "source": [
        "dataset_train['Arrival at Destination - Weekday (Mo = 1)'].value_counts().plot(kind='bar',rot=0)\n",
        "plt.title(\"Evaluating the Overall of Rider's arrival at the Destination on weekdays\")\n",
        "plt.xlabel(\"Days of the Week\")\n",
        "plt.ylabel(\"The Overall of each Day\")\n",
        "plt.show()"
      ],
      "execution_count": 403,
      "outputs": [
        {
          "output_type": "display_data",
          "data": {
            "image/png": "[encoded data removed]",
            "text/plain": [
              "<Figure size 432x288 with 1 Axes>"
            ]
          },
          "metadata": {
            "tags": [],
            "needs_background": "light"
          }
        }
      ]
    },
    {
      "cell_type": "markdown",
      "metadata": {
        "id": "Xco-Osqt04IF",
        "colab_type": "text"
      },
      "source": [
        "The Arrival at Destination graph shows that deliveries tend to reach the denstination during weekdays with Thursday being the most frequent day. "
      ]
    },
    {
      "cell_type": "code",
      "metadata": {
        "id": "OS_9I8jUdCdl",
        "colab_type": "code",
        "outputId": "75237713-97bf-4b3e-a1d9-8e4d902869b6",
        "colab": {
          "base_uri": "https://localhost:8080/",
          "height": 281
        }
      },
      "source": [
        "dataset_train['Personal or Business'].value_counts().plot(kind='bar',rot=0)\n",
        "plt.title('Analysing through the Value of Business or Personal of the Order')\n",
        "plt.ylabel(\"Overall of Each categorical values\")\n",
        "plt.show()"
      ],
      "execution_count": 404,
      "outputs": [
        {
          "output_type": "display_data",
          "data": {
            "image/png": "[encoded data removed]",
            "text/plain": [
              "<Figure size 432x288 with 1 Axes>"
            ]
          },
          "metadata": {
            "tags": [],
            "needs_background": "light"
          }
        }
      ]
    },
    {
      "cell_type": "code",
      "metadata": {
        "id": "PMvTj76g0izv",
        "colab_type": "code",
        "outputId": "b0ebc517-962d-4e74-ea1b-414b49600552",
        "colab": {
          "base_uri": "https://localhost:8080/",
          "height": 295
        }
      },
      "source": [
        "dataset_train['Platform Type'].value_counts().plot(kind='bar',rot=0)\n",
        "plt.title(\"Different Types Of Platform Evaluation\")\n",
        "plt.xlabel('Platform are categorised using numeric values')\n",
        "plt.ylabel('Different Overall of Each Platform Type')\n",
        "plt.show()"
      ],
      "execution_count": 405,
      "outputs": [
        {
          "output_type": "display_data",
          "data": {
            "image/png": "[encoded data removed]",
            "text/plain": [
              "<Figure size 432x288 with 1 Axes>"
            ]
          },
          "metadata": {
            "tags": [],
            "needs_background": "light"
          }
        }
      ]
    },
    {
      "cell_type": "markdown",
      "metadata": {
        "id": "P51G6oa0X_tV",
        "colab_type": "text"
      },
      "source": [
        "## Encoding Categoric Data "
      ]
    },
    {
      "cell_type": "markdown",
      "metadata": {
        "id": "kasefPGdPkmR",
        "colab_type": "text"
      },
      "source": [
        "#### DATETIME COLUMNS"
      ]
    },
    {
      "cell_type": "markdown",
      "metadata": {
        "id": "CqFGG99ZW8U3",
        "colab_type": "text"
      },
      "source": [
        "As the Date-time Columns have been correctly formatted to the Date-time data type,We then Extract the Time due to Hours,Minutes & Seconds and Create new columns containing separate of time"
      ]
    },
    {
      "cell_type": "code",
      "metadata": {
        "id": "hkt68jvoPsCJ",
        "colab_type": "code",
        "colab": {}
      },
      "source": [
        "#In this section Hours were extracted and added to the dataframe as new columns\n",
        "#Train\n",
        "dataset_train['Placement - Hour']=dataset_train['Placement - Time'].dt.hour\n",
        "dataset_train['Confirmation - Hour']=dataset_train['Confirmation - Time'].dt.hour\n",
        "\n",
        "dataset_train['Arrival at Pickup - Hour']=dataset_train['Arrival at Pickup - Time'].dt.hour\n",
        "dataset_train['Pickup - Hour']=dataset_train['Pickup - Time'].dt.hour\n",
        "\n",
        "#Test\n",
        "dataset_test['Placement - Hour']=dataset_test['Placement - Time'].dt.hour\n",
        "dataset_test['Confirmation - Hour']=dataset_test['Confirmation - Time'].dt.hour\n",
        "\n",
        "dataset_test['Arrival at Pickup - Hour']=dataset_test['Arrival at Pickup - Time'].dt.hour\n",
        "dataset_test['Pickup - Hour']=dataset_test['Pickup - Time'].dt.hour"
      ],
      "execution_count": 0,
      "outputs": []
    },
    {
      "cell_type": "code",
      "metadata": {
        "id": "6_PKpdQEPsTr",
        "colab_type": "code",
        "colab": {}
      },
      "source": [
        "#In this section Minutes were extracted and added to the dataframe as new columns\n",
        "#Train\n",
        "dataset_train['Placement - Minutes'] = dataset_train['Placement - Time'].dt.minute\n",
        "dataset_train['Confirmation - Minutes']=dataset_train['Confirmation - Time'].dt.minute\n",
        "\n",
        "dataset_train['Arrival at Pickup - Minutes']=dataset_train['Arrival at Pickup - Time'].dt.minute\n",
        "dataset_train['Pickup - Minutes']=dataset_train['Pickup - Time'].dt.minute\n",
        "\n",
        "#Test\n",
        "dataset_test['Placement - Minutes']=dataset_test['Placement - Time'].dt.minute\n",
        "dataset_test['Confirmation - Minutes']=dataset_test['Confirmation - Time'].dt.minute\n",
        "\n",
        "dataset_test['Arrival at Pickup - Minutes']=dataset_test['Arrival at Pickup - Time'].dt.minute\n",
        "dataset_test['Pickup - Minutes']=dataset_test['Pickup - Time'].dt.minute"
      ],
      "execution_count": 0,
      "outputs": []
    },
    {
      "cell_type": "code",
      "metadata": {
        "id": "-UtvdDzMPsf5",
        "colab_type": "code",
        "colab": {}
      },
      "source": [
        "#In this section Seconds were extracted and added to the dataframe as new columns\n",
        "#Train\n",
        "dataset_train['Placement - Seconds']=dataset_train['Placement - Time'].dt.second\n",
        "dataset_train['Confirmation - Seconds']=dataset_train['Confirmation - Time'].dt.second\n",
        "\n",
        "dataset_train['Arrival at Pickup - Seconds']=dataset_train['Arrival at Pickup - Time'].dt.second\n",
        "dataset_train['Pickup - Seconds']=dataset_train['Pickup - Time'].dt.second\n",
        "\n",
        "### Test\n",
        "dataset_test['Placement - Seconds']=dataset_test['Placement - Time'].dt.second\n",
        "dataset_test['Confirmation - Seconds']=dataset_test['Confirmation - Time'].dt.second\n",
        "\n",
        "dataset_test['Arrival at Pickup - Seconds']=dataset_test['Arrival at Pickup - Time'].dt.second\n",
        "dataset_test['Pickup - Seconds']=dataset_test['Pickup - Time'].dt.second"
      ],
      "execution_count": 0,
      "outputs": []
    },
    {
      "cell_type": "markdown",
      "metadata": {
        "id": "yR6HimLhagsd",
        "colab_type": "text"
      },
      "source": [
        "#### Platform Type"
      ]
    },
    {
      "cell_type": "markdown",
      "metadata": {
        "id": "uTfvvwaCXn_T",
        "colab_type": "text"
      },
      "source": [
        "For the Platform type Column We then get to change it to the dummy variables to have a cleared and measurable feature for the model. We then encode dummy to new columns"
      ]
    },
    {
      "cell_type": "code",
      "metadata": {
        "id": "BwyUsbYDNR2M",
        "colab_type": "code",
        "colab": {}
      },
      "source": [
        "#Dummy encoding of the 'Platform Type' column:\n",
        "#TRAIN\n",
        "dataset_train['Platform Type'] = dataset_train['Platform Type'].astype('category')\n",
        "dataset_train = pd.concat([dataset_train.drop(columns=['Platform Type']), pd.get_dummies(dataset_train['Platform Type'])], axis=1)\n",
        "\n",
        "#TEST \n",
        "dataset_test['Platform Type'] = dataset_test['Platform Type'].astype('category')\n",
        "dataset_test = pd.concat([dataset_test.drop(columns=['Platform Type']), pd.get_dummies(dataset_test['Platform Type'])], axis=1)"
      ],
      "execution_count": 0,
      "outputs": []
    },
    {
      "cell_type": "code",
      "metadata": {
        "id": "mnrMF4j6NSOC",
        "colab_type": "code",
        "colab": {}
      },
      "source": [
        "#Renaming the 'platform type' columns\n",
        "dataset_train.rename(columns={1: \"Platform Type 1\", 2: \"Platform Type 2\", 3: \"Platform Type 3\", 4: \"Platform Type 4\"}, inplace=True)\n",
        "dataset_test.rename(columns={1: \"Platform Type 1\", 2: \"Platform Type 2\", 3: \"Platform Type 3\", 4: \"Platform Type 4\"}, inplace=True)"
      ],
      "execution_count": 0,
      "outputs": []
    },
    {
      "cell_type": "markdown",
      "metadata": {
        "id": "Iig3TlFDa9B4",
        "colab_type": "text"
      },
      "source": [
        "#### Personal or Business"
      ]
    },
    {
      "cell_type": "code",
      "metadata": {
        "id": "7xpJ87PmNSaw",
        "colab_type": "code",
        "colab": {}
      },
      "source": [
        "#Dummy encoding of the 'Personal or Business' column\n",
        "#Train\n",
        "dataset_train['Personal or Business'] = dataset_train['Personal or Business'].astype('category')\n",
        "dataset_train = pd.concat([dataset_train.drop(columns=['Personal or Business']), pd.get_dummies(dataset_train['Personal or Business'])], axis=1)\n",
        "\n",
        "#Test\n",
        "dataset_test['Personal or Business'] = dataset_test['Personal or Business'].astype('category')\n",
        "dataset_test = pd.concat([dataset_test.drop(columns=['Personal or Business']), pd.get_dummies(dataset_test['Personal or Business'])], axis=1)"
      ],
      "execution_count": 0,
      "outputs": []
    },
    {
      "cell_type": "code",
      "metadata": {
        "id": "GOsDa2YMNSps",
        "colab_type": "code",
        "colab": {}
      },
      "source": [
        "#Renaming the 'Personal or Business' columns\n",
        "dataset_train.rename(columns={0: \"Business\", 1: \"Personal\"}, inplace=True)\n",
        "dataset_test.rename(columns={0: \"Business\", 1: \"Personal\"}, inplace=True)"
      ],
      "execution_count": 0,
      "outputs": []
    },
    {
      "cell_type": "markdown",
      "metadata": {
        "id": "S_e6hsJNckYs",
        "colab_type": "text"
      },
      "source": [
        "## Selecting columns to be used for model training and testing "
      ]
    },
    {
      "cell_type": "markdown",
      "metadata": {
        "id": "nQN7wx6zYUuL",
        "colab_type": "text"
      },
      "source": [
        "Following is the List of Features we're manually excluding from the features that will be used for training the model and also for testing due to our EDA evaluations"
      ]
    },
    {
      "cell_type": "code",
      "metadata": {
        "id": "QDMNmjHqP4SF",
        "colab_type": "code",
        "colab": {}
      },
      "source": [
        "X1 = dataset_train.loc[:,['Order No','Distance (KM)','Temperature','Precipitation in millimeters','Platform Type 1', 'Platform Type 2',\n",
        "       'Platform Type 3', 'Platform Type 4', 'Business', 'Personal','Placement - Hour', 'Confirmation - Hour', 'Arrival at Pickup - Hour',\n",
        "       'Pickup - Hour', 'Placement - Minutes', 'Confirmation - Minutes','Arrival at Pickup - Minutes', 'Pickup - Minutes','Placement - Seconds', 'Confirmation - Seconds','Arrival at Pickup - Seconds', 'Pickup - Seconds']]\n",
        "\n",
        "Y_train = dataset_train.loc[:,['Time from Pickup to Arrival']].values\n",
        "\n",
        "X2 = dataset_test.loc[:,['Order No','Distance (KM)','Temperature','Precipitation in millimeters','Platform Type 1', 'Platform Type 2',\n",
        "       'Platform Type 3', 'Platform Type 4', 'Business', 'Personal','Placement - Hour', 'Confirmation - Hour', 'Arrival at Pickup - Hour',\n",
        "       'Pickup - Hour', 'Placement - Minutes', 'Confirmation - Minutes','Arrival at Pickup - Minutes', 'Pickup - Minutes','Placement - Seconds', 'Confirmation - Seconds','Arrival at Pickup - Seconds', 'Pickup - Seconds']]\n",
        "\n",
        "Y_test = dataset_sample.iloc[:,-1].values"
      ],
      "execution_count": 0,
      "outputs": []
    },
    {
      "cell_type": "code",
      "metadata": {
        "id": "5noadhlFNI7k",
        "colab_type": "code",
        "colab": {}
      },
      "source": [
        "#changing the Index for both X_train & X_test Dataframes to be Order No and convert the Dataframes to Numpy arrays\n",
        "X_train = X1.set_index('Order No').values\n",
        "X_test = X2.set_index('Order No').values"
      ],
      "execution_count": 0,
      "outputs": []
    },
    {
      "cell_type": "markdown",
      "metadata": {
        "id": "7e-2ee-mNI7x",
        "colab_type": "text"
      },
      "source": [
        "## Taking care of missing values in the data sets"
      ]
    },
    {
      "cell_type": "markdown",
      "metadata": {
        "id": "6tXxWk8QaIoQ",
        "colab_type": "text"
      },
      "source": [
        "Taking care of missing values regarding the other features"
      ]
    },
    {
      "cell_type": "code",
      "metadata": {
        "id": "eswMjylTNI7y",
        "colab_type": "code",
        "colab": {}
      },
      "source": [
        "#The missing values of temperature and Precipitation in millimeters have been replaced with the most frequent values\n",
        "imputer = SimpleImputer(missing_values=np.nan, strategy='most_frequent')\n",
        "imputer.fit(X_train[:,1:3],X_test[:,1:3])\n",
        "X_train[:,1:3] = imputer.transform(X_train[:,1:3])\n",
        "X_test[:,1:3] = imputer.transform(X_test[:,1:3])"
      ],
      "execution_count": 0,
      "outputs": []
    },
    {
      "cell_type": "markdown",
      "metadata": {
        "id": "BgBfGuLJNI8B",
        "colab_type": "text"
      },
      "source": [
        "## Feature Scaling of the training and test data set"
      ]
    },
    {
      "cell_type": "code",
      "metadata": {
        "id": "WPnFQkgiNI8C",
        "colab_type": "code",
        "colab": {}
      },
      "source": [
        "\n",
        "sc = StandardScaler()\n",
        "X_train[:,:] = sc.fit_transform(X_train[:,:])\n",
        "X_test[:,:] = sc.transform(X_test[:,:])"
      ],
      "execution_count": 0,
      "outputs": []
    },
    {
      "cell_type": "code",
      "metadata": {
        "id": "7Nv6zEMzydKd",
        "colab_type": "code",
        "colab": {}
      },
      "source": [
        "df_Y1=pd.DataFrame(Y_train)\n",
        "df_Y2=pd.DataFrame(Y_test)\n",
        "\n",
        "Y_train = df_Y1.fillna(df_Y1.mean())\n",
        "Y_test =df_Y2.fillna(df_Y2.mean())"
      ],
      "execution_count": 0,
      "outputs": []
    },
    {
      "cell_type": "code",
      "metadata": {
        "id": "Lt7RykFVykSg",
        "colab_type": "code",
        "colab": {}
      },
      "source": [
        "\n",
        "Y_train=Y_train.values\n",
        "Y_test=Y_test.values"
      ],
      "execution_count": 0,
      "outputs": []
    },
    {
      "cell_type": "markdown",
      "metadata": {
        "id": "TNfWS9lqNI8J",
        "colab_type": "text"
      },
      "source": [
        "# Training the Individual Models"
      ]
    },
    {
      "cell_type": "markdown",
      "metadata": {
        "id": "mMrPfF5IeOvY",
        "colab_type": "text"
      },
      "source": [
        "## Linear Regression"
      ]
    },
    {
      "cell_type": "code",
      "metadata": {
        "id": "0zQNkVcmNI8J",
        "colab_type": "code",
        "outputId": "55e4c876-ea6b-4074-d76a-56d0e5574631",
        "colab": {
          "base_uri": "https://localhost:8080/",
          "height": 34
        }
      },
      "source": [
        "regressor = LinearRegression()\n",
        "regressor.fit(X_train,Y_train)"
      ],
      "execution_count": 431,
      "outputs": [
        {
          "output_type": "execute_result",
          "data": {
            "text/plain": [
              "LinearRegression(copy_X=True, fit_intercept=True, n_jobs=None, normalize=False)"
            ]
          },
          "metadata": {
            "tags": []
          },
          "execution_count": 431
        }
      ]
    },
    {
      "cell_type": "markdown",
      "metadata": {
        "id": "zPXVHH0_yHhm",
        "colab_type": "text"
      },
      "source": [
        ""
      ]
    },
    {
      "cell_type": "code",
      "metadata": {
        "id": "2TRuOCXeNI8N",
        "colab_type": "code",
        "colab": {}
      },
      "source": [
        "beta_0 = float(regressor.intercept_)"
      ],
      "execution_count": 0,
      "outputs": []
    },
    {
      "cell_type": "code",
      "metadata": {
        "id": "j83xuP7LNI8Q",
        "colab_type": "code",
        "outputId": "f2b79233-b893-4e8b-a205-6362acb55f8e",
        "colab": {
          "base_uri": "https://localhost:8080/",
          "height": 34
        }
      },
      "source": [
        "print(beta_0)"
      ],
      "execution_count": 433,
      "outputs": [
        {
          "output_type": "stream",
          "text": [
            "1556.9209471251343\n"
          ],
          "name": "stdout"
        }
      ]
    },
    {
      "cell_type": "code",
      "metadata": {
        "id": "0xITmNCnNI8U",
        "colab_type": "code",
        "colab": {}
      },
      "source": [
        "#predicting y using the X_test\n",
        "y_pred = regressor.predict(X_test)"
      ],
      "execution_count": 0,
      "outputs": []
    },
    {
      "cell_type": "code",
      "metadata": {
        "id": "dWvIyVErNI8X",
        "colab_type": "code",
        "outputId": "a9bf10f6-3f5d-4b12-b94f-dde8c69c20fa",
        "colab": {
          "base_uri": "https://localhost:8080/",
          "height": 136
        }
      },
      "source": [
        "#comparing the y_pred with the actual Y values\n",
        "np.set_printoptions(precision=2)\n",
        "print(np.concatenate((y_pred.reshape(len(y_pred),1), Y_test.reshape(len(Y_test),1)),1))"
      ],
      "execution_count": 435,
      "outputs": [
        {
          "output_type": "stream",
          "text": [
            "[[1373.35  567.  ]\n",
            " [1213.99 4903.  ]\n",
            " [ 954.6  5649.  ]\n",
            " ...\n",
            " [1665.01 3706.33]\n",
            " [2604.55 3706.33]\n",
            " [1504.19 3706.33]]\n"
          ],
          "name": "stdout"
        }
      ]
    },
    {
      "cell_type": "code",
      "metadata": {
        "id": "ydJFfzkkNI8a",
        "colab_type": "code",
        "colab": {}
      },
      "source": [
        "#create a dataframe containing the expected outputs for Submission\n",
        "x = pd.DataFrame(y_pred)\n",
        "x = round(x,2)\n",
        "X2['Time from Pickup to Arrival'] = x\n",
        "predicted = X2[['Order No','Time from Pickup to Arrival']]"
      ],
      "execution_count": 0,
      "outputs": []
    },
    {
      "cell_type": "code",
      "metadata": {
        "id": "zLCUCMSvgjQn",
        "colab_type": "code",
        "colab": {}
      },
      "source": [
        "Y_test1 = pd.DataFrame(Y_test)"
      ],
      "execution_count": 0,
      "outputs": []
    },
    {
      "cell_type": "code",
      "metadata": {
        "id": "AdkZ6kqCgRQ4",
        "colab_type": "code",
        "colab": {}
      },
      "source": [
        "#Testing using  Y_test from the testingng Data \n",
        "#print(\"Testing:\")\n",
        "#print('MSE:', metrics.mean_squared_error(Y_test, y_pred))\n",
        "#print('R_squared:', metrics.r2_score(Y_test, y_pred))"
      ],
      "execution_count": 0,
      "outputs": []
    },
    {
      "cell_type": "code",
      "metadata": {
        "id": "jDXGNXKhjcLz",
        "colab_type": "code",
        "outputId": "869b665b-d00c-4d99-de04-85e08a6cbf60",
        "colab": {
          "base_uri": "https://localhost:8080/",
          "height": 34
        }
      },
      "source": [
        "print(\"RMSE: \", np.sqrt(mean_squared_error(Y_test1,y_pred)))"
      ],
      "execution_count": 439,
      "outputs": [
        {
          "output_type": "stream",
          "text": [
            "RMSE:  2233.856544863832\n"
          ],
          "name": "stdout"
        }
      ]
    },
    {
      "cell_type": "code",
      "metadata": {
        "id": "7ixY-VaENI8d",
        "colab_type": "code",
        "outputId": "f933b99e-b320-42a5-d045-d4925e58be66",
        "colab": {
          "base_uri": "https://localhost:8080/",
          "height": 419
        }
      },
      "source": [
        "predicted"
      ],
      "execution_count": 440,
      "outputs": [
        {
          "output_type": "execute_result",
          "data": {
            "text/html": [
              "<div>\n",
              "<style scoped>\n",
              "    .dataframe tbody tr th:only-of-type {\n",
              "        vertical-align: middle;\n",
              "    }\n",
              "\n",
              "    .dataframe tbody tr th {\n",
              "        vertical-align: top;\n",
              "    }\n",
              "\n",
              "    .dataframe thead th {\n",
              "        text-align: right;\n",
              "    }\n",
              "</style>\n",
              "<table border=\"1\" class=\"dataframe\">\n",
              "  <thead>\n",
              "    <tr style=\"text-align: right;\">\n",
              "      <th></th>\n",
              "      <th>Order No</th>\n",
              "      <th>Time from Pickup to Arrival</th>\n",
              "    </tr>\n",
              "  </thead>\n",
              "  <tbody>\n",
              "    <tr>\n",
              "      <th>0</th>\n",
              "      <td>Order_No_19248</td>\n",
              "      <td>1373.35</td>\n",
              "    </tr>\n",
              "    <tr>\n",
              "      <th>1</th>\n",
              "      <td>Order_No_12736</td>\n",
              "      <td>1213.99</td>\n",
              "    </tr>\n",
              "    <tr>\n",
              "      <th>2</th>\n",
              "      <td>Order_No_768</td>\n",
              "      <td>954.60</td>\n",
              "    </tr>\n",
              "    <tr>\n",
              "      <th>3</th>\n",
              "      <td>Order_No_15332</td>\n",
              "      <td>1023.40</td>\n",
              "    </tr>\n",
              "    <tr>\n",
              "      <th>4</th>\n",
              "      <td>Order_No_21373</td>\n",
              "      <td>1221.48</td>\n",
              "    </tr>\n",
              "    <tr>\n",
              "      <th>...</th>\n",
              "      <td>...</td>\n",
              "      <td>...</td>\n",
              "    </tr>\n",
              "    <tr>\n",
              "      <th>7063</th>\n",
              "      <td>Order_No_3612</td>\n",
              "      <td>1012.22</td>\n",
              "    </tr>\n",
              "    <tr>\n",
              "      <th>7064</th>\n",
              "      <td>Order_No_7657</td>\n",
              "      <td>2971.00</td>\n",
              "    </tr>\n",
              "    <tr>\n",
              "      <th>7065</th>\n",
              "      <td>Order_No_1969</td>\n",
              "      <td>1665.01</td>\n",
              "    </tr>\n",
              "    <tr>\n",
              "      <th>7066</th>\n",
              "      <td>Order_No_10591</td>\n",
              "      <td>2604.55</td>\n",
              "    </tr>\n",
              "    <tr>\n",
              "      <th>7067</th>\n",
              "      <td>Order_No_1603</td>\n",
              "      <td>1504.19</td>\n",
              "    </tr>\n",
              "  </tbody>\n",
              "</table>\n",
              "<p>7068 rows × 2 columns</p>\n",
              "</div>"
            ],
            "text/plain": [
              "            Order No  Time from Pickup to Arrival\n",
              "0     Order_No_19248                      1373.35\n",
              "1     Order_No_12736                      1213.99\n",
              "2       Order_No_768                       954.60\n",
              "3     Order_No_15332                      1023.40\n",
              "4     Order_No_21373                      1221.48\n",
              "...              ...                          ...\n",
              "7063   Order_No_3612                      1012.22\n",
              "7064   Order_No_7657                      2971.00\n",
              "7065   Order_No_1969                      1665.01\n",
              "7066  Order_No_10591                      2604.55\n",
              "7067   Order_No_1603                      1504.19\n",
              "\n",
              "[7068 rows x 2 columns]"
            ]
          },
          "metadata": {
            "tags": []
          },
          "execution_count": 440
        }
      ]
    },
    {
      "cell_type": "code",
      "metadata": {
        "id": "uByPp-NCNI8g",
        "colab_type": "code",
        "colab": {}
      },
      "source": [
        "#save the results as the .csv file\n",
        "predicted.to_csv('predicted_time.csv',index=False)"
      ],
      "execution_count": 0,
      "outputs": []
    },
    {
      "cell_type": "markdown",
      "metadata": {
        "id": "tuD_CoRui8KE",
        "colab_type": "text"
      },
      "source": [
        "## Decision Tree"
      ]
    },
    {
      "cell_type": "code",
      "metadata": {
        "id": "33A08VMZjCC7",
        "colab_type": "code",
        "colab": {}
      },
      "source": [
        "regr_tree = DecisionTreeRegressor(max_depth=3)"
      ],
      "execution_count": 0,
      "outputs": []
    },
    {
      "cell_type": "code",
      "metadata": {
        "id": "CGaz0zr-jHpI",
        "colab_type": "code",
        "outputId": "5016b921-f5ab-4575-8800-59095a225ecf",
        "colab": {
          "base_uri": "https://localhost:8080/",
          "height": 119
        }
      },
      "source": [
        "regr_tree.fit(X_train,Y_train)"
      ],
      "execution_count": 443,
      "outputs": [
        {
          "output_type": "execute_result",
          "data": {
            "text/plain": [
              "DecisionTreeRegressor(ccp_alpha=0.0, criterion='mse', max_depth=3,\n",
              "                      max_features=None, max_leaf_nodes=None,\n",
              "                      min_impurity_decrease=0.0, min_impurity_split=None,\n",
              "                      min_samples_leaf=1, min_samples_split=2,\n",
              "                      min_weight_fraction_leaf=0.0, presort='deprecated',\n",
              "                      random_state=None, splitter='best')"
            ]
          },
          "metadata": {
            "tags": []
          },
          "execution_count": 443
        }
      ]
    },
    {
      "cell_type": "code",
      "metadata": {
        "id": "Uq04mWuqjNNR",
        "colab_type": "code",
        "colab": {}
      },
      "source": [
        "y_pred1 = regr_tree.predict(X_test)"
      ],
      "execution_count": 0,
      "outputs": []
    },
    {
      "cell_type": "code",
      "metadata": {
        "id": "IpZA1lmtjPtg",
        "colab_type": "code",
        "outputId": "b033c382-e768-4894-ea59-5279e15b18a8",
        "colab": {
          "base_uri": "https://localhost:8080/",
          "height": 34
        }
      },
      "source": [
        "print(\"RMSE: \", np.sqrt(mean_squared_error(Y_test1,y_pred1)))"
      ],
      "execution_count": 445,
      "outputs": [
        {
          "output_type": "stream",
          "text": [
            "RMSE:  2224.2483276045705\n"
          ],
          "name": "stdout"
        }
      ]
    },
    {
      "cell_type": "markdown",
      "metadata": {
        "id": "ZUnwszKghYxL",
        "colab_type": "text"
      },
      "source": [
        "Lasso regression"
      ]
    },
    {
      "cell_type": "code",
      "metadata": {
        "id": "H4-Hh-xmg-DT",
        "colab_type": "code",
        "outputId": "16aa0ec6-3601-46d1-854f-ef256da16901",
        "colab": {
          "base_uri": "https://localhost:8080/",
          "height": 122
        }
      },
      "source": [
        "# Importing the model class\n",
        "lasso = Lasso(alpha=0.1)\n",
        "lasso.fit(X_train,Y_train)"
      ],
      "execution_count": 446,
      "outputs": [
        {
          "output_type": "stream",
          "text": [
            "/usr/local/lib/python3.6/dist-packages/sklearn/linear_model/_coordinate_descent.py:476: ConvergenceWarning: Objective did not converge. You might want to increase the number of iterations. Duality gap: 2269907746.981988, tolerance: 2066371.650150738\n",
            "  positive)\n"
          ],
          "name": "stderr"
        },
        {
          "output_type": "execute_result",
          "data": {
            "text/plain": [
              "Lasso(alpha=0.1, copy_X=True, fit_intercept=True, max_iter=1000,\n",
              "      normalize=False, positive=False, precompute=False, random_state=None,\n",
              "      selection='cyclic', tol=0.0001, warm_start=False)"
            ]
          },
          "metadata": {
            "tags": []
          },
          "execution_count": 446
        }
      ]
    },
    {
      "cell_type": "code",
      "metadata": {
        "id": "LNSo87ddg977",
        "colab_type": "code",
        "outputId": "8f655bf4-f5fe-4d45-8002-86677287e2f6",
        "colab": {
          "base_uri": "https://localhost:8080/",
          "height": 34
        }
      },
      "source": [
        "beta_2 = float(lasso.intercept_)\n",
        "print(beta_2)"
      ],
      "execution_count": 447,
      "outputs": [
        {
          "output_type": "stream",
          "text": [
            "1556.9209471251343\n"
          ],
          "name": "stdout"
        }
      ]
    },
    {
      "cell_type": "code",
      "metadata": {
        "id": "AjD-YGSVg9ze",
        "colab_type": "code",
        "colab": {}
      },
      "source": [
        "y_pred2 = lasso.predict(X_test)"
      ],
      "execution_count": 0,
      "outputs": []
    },
    {
      "cell_type": "code",
      "metadata": {
        "id": "v7m5JUjLhL_5",
        "colab_type": "code",
        "outputId": "8b6490b6-cc25-4f9a-947e-edc7ea1d2f49",
        "colab": {
          "base_uri": "https://localhost:8080/",
          "height": 34
        }
      },
      "source": [
        "#Calculate the Root-Mean squared error\n",
        "print('Root Mean Squared Error:', np.sqrt(metrics.mean_squared_error(Y_test1, y_pred2)))\n"
      ],
      "execution_count": 449,
      "outputs": [
        {
          "output_type": "stream",
          "text": [
            "Root Mean Squared Error: 2233.5526964538453\n"
          ],
          "name": "stdout"
        }
      ]
    },
    {
      "cell_type": "markdown",
      "metadata": {
        "id": "dXKrmFVzhmh9",
        "colab_type": "text"
      },
      "source": [
        "## Random Forest"
      ]
    },
    {
      "cell_type": "code",
      "metadata": {
        "id": "3gqe8uUFhM5Z",
        "colab_type": "code",
        "outputId": "c4333296-ba03-438f-8909-53879bcb1585",
        "colab": {
          "base_uri": "https://localhost:8080/",
          "height": 190
        }
      },
      "source": [
        "# Our forest consists of 100 trees with a max depth of 3 in this example\n",
        "RF = RandomForestRegressor(n_estimators=10,criterion='mae', max_depth=3,random_state=0)\n",
        "RF.fit(X_train,Y_train)"
      ],
      "execution_count": 450,
      "outputs": [
        {
          "output_type": "stream",
          "text": [
            "/usr/local/lib/python3.6/dist-packages/ipykernel_launcher.py:3: DataConversionWarning: A column-vector y was passed when a 1d array was expected. Please change the shape of y to (n_samples,), for example using ravel().\n",
            "  This is separate from the ipykernel package so we can avoid doing imports until\n"
          ],
          "name": "stderr"
        },
        {
          "output_type": "execute_result",
          "data": {
            "text/plain": [
              "RandomForestRegressor(bootstrap=True, ccp_alpha=0.0, criterion='mae',\n",
              "                      max_depth=3, max_features='auto', max_leaf_nodes=None,\n",
              "                      max_samples=None, min_impurity_decrease=0.0,\n",
              "                      min_impurity_split=None, min_samples_leaf=1,\n",
              "                      min_samples_split=2, min_weight_fraction_leaf=0.0,\n",
              "                      n_estimators=10, n_jobs=None, oob_score=False,\n",
              "                      random_state=0, verbose=0, warm_start=False)"
            ]
          },
          "metadata": {
            "tags": []
          },
          "execution_count": 450
        }
      ]
    },
    {
      "cell_type": "code",
      "metadata": {
        "id": "aAriiFt5htkr",
        "colab_type": "code",
        "outputId": "1101d41f-684b-4b00-a8df-55db50785d92",
        "colab": {
          "base_uri": "https://localhost:8080/",
          "height": 51
        }
      },
      "source": [
        "# Get predictions\n",
        "y_pred_RF = RF.predict(X_test)\n",
        "\n",
        "# Compute RMSE\n",
        "print(\"RMSE:\",np.sqrt(mean_squared_error(Y_test1,y_pred_RF)))\n",
        "print(\"MSE:\",mean_squared_error(Y_test1,y_pred_RF))"
      ],
      "execution_count": 451,
      "outputs": [
        {
          "output_type": "stream",
          "text": [
            "RMSE: 2382.957226734606\n",
            "MSE: 5678485.144446686\n"
          ],
          "name": "stdout"
        }
      ]
    },
    {
      "cell_type": "code",
      "metadata": {
        "id": "CYgk9gWJk9hl",
        "colab_type": "code",
        "outputId": "2088e71a-dd10-4711-9157-08b7ffdbb934",
        "colab": {
          "base_uri": "https://localhost:8080/",
          "height": 419
        }
      },
      "source": [
        "x = pd.DataFrame(y_pred_RF)\n",
        "x = round(x,2)\n",
        "X2['Time from Pickup to Arrival'] = x\n",
        "predicted = X2[['Order No','Time from Pickup to Arrival']]\n",
        "predicted"
      ],
      "execution_count": 452,
      "outputs": [
        {
          "output_type": "execute_result",
          "data": {
            "text/html": [
              "<div>\n",
              "<style scoped>\n",
              "    .dataframe tbody tr th:only-of-type {\n",
              "        vertical-align: middle;\n",
              "    }\n",
              "\n",
              "    .dataframe tbody tr th {\n",
              "        vertical-align: top;\n",
              "    }\n",
              "\n",
              "    .dataframe thead th {\n",
              "        text-align: right;\n",
              "    }\n",
              "</style>\n",
              "<table border=\"1\" class=\"dataframe\">\n",
              "  <thead>\n",
              "    <tr style=\"text-align: right;\">\n",
              "      <th></th>\n",
              "      <th>Order No</th>\n",
              "      <th>Time from Pickup to Arrival</th>\n",
              "    </tr>\n",
              "  </thead>\n",
              "  <tbody>\n",
              "    <tr>\n",
              "      <th>0</th>\n",
              "      <td>Order_No_19248</td>\n",
              "      <td>1390.40</td>\n",
              "    </tr>\n",
              "    <tr>\n",
              "      <th>1</th>\n",
              "      <td>Order_No_12736</td>\n",
              "      <td>895.50</td>\n",
              "    </tr>\n",
              "    <tr>\n",
              "      <th>2</th>\n",
              "      <td>Order_No_768</td>\n",
              "      <td>895.50</td>\n",
              "    </tr>\n",
              "    <tr>\n",
              "      <th>3</th>\n",
              "      <td>Order_No_15332</td>\n",
              "      <td>895.50</td>\n",
              "    </tr>\n",
              "    <tr>\n",
              "      <th>4</th>\n",
              "      <td>Order_No_21373</td>\n",
              "      <td>1124.10</td>\n",
              "    </tr>\n",
              "    <tr>\n",
              "      <th>...</th>\n",
              "      <td>...</td>\n",
              "      <td>...</td>\n",
              "    </tr>\n",
              "    <tr>\n",
              "      <th>7063</th>\n",
              "      <td>Order_No_3612</td>\n",
              "      <td>895.50</td>\n",
              "    </tr>\n",
              "    <tr>\n",
              "      <th>7064</th>\n",
              "      <td>Order_No_7657</td>\n",
              "      <td>2499.45</td>\n",
              "    </tr>\n",
              "    <tr>\n",
              "      <th>7065</th>\n",
              "      <td>Order_No_1969</td>\n",
              "      <td>1411.35</td>\n",
              "    </tr>\n",
              "    <tr>\n",
              "      <th>7066</th>\n",
              "      <td>Order_No_10591</td>\n",
              "      <td>2375.45</td>\n",
              "    </tr>\n",
              "    <tr>\n",
              "      <th>7067</th>\n",
              "      <td>Order_No_1603</td>\n",
              "      <td>1390.40</td>\n",
              "    </tr>\n",
              "  </tbody>\n",
              "</table>\n",
              "<p>7068 rows × 2 columns</p>\n",
              "</div>"
            ],
            "text/plain": [
              "            Order No  Time from Pickup to Arrival\n",
              "0     Order_No_19248                      1390.40\n",
              "1     Order_No_12736                       895.50\n",
              "2       Order_No_768                       895.50\n",
              "3     Order_No_15332                       895.50\n",
              "4     Order_No_21373                      1124.10\n",
              "...              ...                          ...\n",
              "7063   Order_No_3612                       895.50\n",
              "7064   Order_No_7657                      2499.45\n",
              "7065   Order_No_1969                      1411.35\n",
              "7066  Order_No_10591                      2375.45\n",
              "7067   Order_No_1603                      1390.40\n",
              "\n",
              "[7068 rows x 2 columns]"
            ]
          },
          "metadata": {
            "tags": []
          },
          "execution_count": 452
        }
      ]
    },
    {
      "cell_type": "code",
      "metadata": {
        "id": "wdt8_ZYtlwy1",
        "colab_type": "code",
        "colab": {}
      },
      "source": [
        "#save the results as the .csv file\n",
        "predicted.to_csv('predicted_time.csv',index=False)"
      ],
      "execution_count": 0,
      "outputs": []
    },
    {
      "cell_type": "code",
      "metadata": {
        "colab_type": "code",
        "id": "G92jGV6HZNd9",
        "colab": {}
      },
      "source": [
        "# Saving the trained model as .pkl file"
      ],
      "execution_count": 0,
      "outputs": []
    },
    {
      "cell_type": "code",
      "metadata": {
        "id": "48xpxnvPX_vN",
        "colab_type": "code",
        "colab": {}
      },
      "source": [
        "model_save_path = \"trained_model.pkl\"\n",
        "with open(model_save_path,'wb') as file:\n",
        "    pickle.dump(RF,file)"
      ],
      "execution_count": 0,
      "outputs": []
    },
    {
      "cell_type": "code",
      "metadata": {
        "id": "NAeERI-8qMIm",
        "colab_type": "code",
        "colab": {}
      },
      "source": [
        ""
      ],
      "execution_count": 0,
      "outputs": []
    }
  ]
}