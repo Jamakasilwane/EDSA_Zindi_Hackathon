{
  "nbformat": 4,
  "nbformat_minor": 0,
  "metadata": {
    "colab": {
      "name": "EDSA_Zindi_Hackathon.ipynb",
      "provenance": [],
      "include_colab_link": true
    },
    "kernelspec": {
      "name": "python37464bitbaseconda305b6b70e3b34aa893759f6fd1825e81",
      "display_name": "Python 3.7.4 64-bit ('base': conda)"
    }
  },
  "cells": [
    {
      "cell_type": "markdown",
      "metadata": {
        "id": "view-in-github",
        "colab_type": "text"
      },
      "source": [
        "<a href=\"https://colab.research.google.com/github/Jamakasilwane/EDSA_Zindi_Hackathon/blob/master/EDSA_Zindi_Hackathon_notebook.ipynb\" target=\"_parent\"><img src=\"https://colab.research.google.com/assets/colab-badge.svg\" alt=\"Open In Colab\"/></a>"
      ]
    },
    {
      "cell_type": "markdown",
      "metadata": {
        "id": "Sk8M7_I2Ze1P",
        "colab_type": "text"
      },
      "source": [
        "# **Data Processing**"
      ]
    },
    {
      "cell_type": "markdown",
      "metadata": {
        "id": "mftHi5y1Zrd9",
        "colab_type": "text"
      },
      "source": [
        "### Importing Libraries"
      ]
    },
    {
      "cell_type": "code",
      "metadata": {
        "id": "C_sxBoBFIPuc",
        "colab_type": "code",
        "colab": {}
      },
      "source": [
        "import numpy as np\n",
        "import pandas as pd\n",
        "import matplotlib.pyplot as plt\n",
        "import seaborn as sns"
      ],
      "execution_count": 0,
      "outputs": []
    },
    {
      "cell_type": "markdown",
      "metadata": {
        "id": "FmrAMSHOaFMD",
        "colab_type": "text"
      },
      "source": [
        "### Importing the dataset"
      ]
    },
    {
      "cell_type": "code",
      "metadata": {
        "id": "pcZbUrwUIrtA",
        "colab_type": "code",
        "colab": {}
      },
      "source": [
        "dataset_train = pd.read_csv(\"https://raw.githubusercontent.com/Jamakasilwane/EDSA_Zindi_Hackathon/master/Data/Train.csv\")\n",
        "dataset_test = pd.read_csv(\"https://raw.githubusercontent.com/Jamakasilwane/EDSA_Zindi_Hackathon/master/Data/Test.csv\")\n",
        "dataset_sample = pd.read_csv(\"https://raw.githubusercontent.com/Jamakasilwane/EDSA_Zindi_Hackathon/master/Data/SampleSubmission.csv\")\n",
        "var = pd.read_csv('https://raw.githubusercontent.com/Jamakasilwane/EDSA_Zindi_Hackathon/master/Data/VariableDefinitions.csv')"
      ],
      "execution_count": 0,
      "outputs": []
    },
    {
      "cell_type": "markdown",
      "metadata": {
        "id": "ZfBFZeIbNZmW",
        "colab_type": "text"
      },
      "source": [
        "### Encoding Categorical Data\n"
      ]
    },
    {
      "cell_type": "markdown",
      "metadata": {
        "id": "yR6HimLhagsd",
        "colab_type": "text"
      },
      "source": [
        "#### Platform Type"
      ]
    },
    {
      "cell_type": "code",
      "metadata": {
        "id": "BwyUsbYDNR2M",
        "colab_type": "code",
        "colab": {}
      },
      "source": [
        "# one hot encoding of the 'Platform Type' column:\n",
        "#TRAIN\n",
        "dataset_train['Platform Type'] = dataset_train['Platform Type'].astype('category')\n",
        "dataset_train = pd.concat([dataset_train.drop(columns=['Platform Type']), pd.get_dummies(dataset_train['Platform Type'])], axis=1)\n",
        "\n",
        "#TEST \n",
        "dataset_test['Platform Type'] = dataset_test['Platform Type'].astype('category')\n",
        "dataset_test = pd.concat([dataset_test.drop(columns=['Platform Type']), pd.get_dummies(dataset_test['Platform Type'])], axis=1)"
      ],
      "execution_count": 0,
      "outputs": []
    },
    {
      "cell_type": "code",
      "metadata": {
        "id": "mnrMF4j6NSOC",
        "colab_type": "code",
        "colab": {}
      },
      "source": [
        "#Renaming the 'platform type' columns\n",
        "dataset_train.rename(columns={1: \"Platform Type 1\", 2: \"Platform Type 2\", 3: \"Platform Type 3\", 4: \"Platform Type 4\"}, inplace=True)\n",
        "dataset_test.rename(columns={1: \"Platform Type 1\", 2: \"Platform Type 2\", 3: \"Platform Type 3\", 4: \"Platform Type 4\"}, inplace=True)"
      ],
      "execution_count": 0,
      "outputs": []
    },
    {
      "cell_type": "markdown",
      "metadata": {
        "id": "Iig3TlFDa9B4",
        "colab_type": "text"
      },
      "source": [
        "#### Personal or Business"
      ]
    },
    {
      "cell_type": "code",
      "metadata": {
        "id": "7xpJ87PmNSaw",
        "colab_type": "code",
        "colab": {}
      },
      "source": [
        "# one hot encoding of the 'Personal or Business' column\n",
        "#Train\n",
        "dataset_train['Personal or Business'] = dataset_train['Personal or Business'].astype('category')\n",
        "dataset_train = pd.concat([dataset_train.drop(columns=['Personal or Business']), pd.get_dummies(dataset_train['Personal or Business'])], axis=1)\n",
        "\n",
        "#Test\n",
        "dataset_test['Personal or Business'] = dataset_test['Personal or Business'].astype('category')\n",
        "dataset_test = pd.concat([dataset_test.drop(columns=['Personal or Business']), pd.get_dummies(dataset_test['Personal or Business'])], axis=1)"
      ],
      "execution_count": 0,
      "outputs": []
    },
    {
      "cell_type": "code",
      "metadata": {
        "id": "GOsDa2YMNSps",
        "colab_type": "code",
        "colab": {}
      },
      "source": [
        "#Renaming the 'Personal or Business' columns\n",
        "dataset_train.rename(columns={0: \"Business\", 1: \"Personal\"}, inplace=True)\n",
        "dataset_test.rename(columns={0: \"Business\", 1: \"Personal\"}, inplace=True)"
      ],
      "execution_count": 0,
      "outputs": []
    },
    {
      "cell_type": "markdown",
      "metadata": {
        "id": "kasefPGdPkmR",
        "colab_type": "text"
      },
      "source": [
        "DATETIME COLUMNS"
      ]
    },
    {
      "cell_type": "markdown",
      "metadata": {
        "id": "JfjV5tFobKtk",
        "colab_type": "text"
      },
      "source": [
        "###### All the columns which constists of date and times were converted to datetime"
      ]
    },
    {
      "cell_type": "code",
      "metadata": {
        "id": "7wmYwBwMPrNU",
        "colab_type": "code",
        "colab": {}
      },
      "source": [
        "#Train\n",
        "dataset_train['Placement - Time']=pd.to_datetime(dataset_train['Placement - Time'])\n",
        "dataset_train['Confirmation - Time']=pd.to_datetime(dataset_train['Confirmation - Time'])\n",
        "\n",
        "dataset_train['Arrival at Pickup - Time']=pd.to_datetime(dataset_train['Arrival at Pickup - Time'])\n",
        "dataset_train['Pickup - Time']=pd.to_datetime(dataset_train['Pickup - Time'])\n",
        "\n",
        "### Test\n",
        "dataset_test['Placement - Time']=pd.to_datetime(dataset_test['Placement - Time'])\n",
        "dataset_test['Confirmation - Time']=pd.to_datetime(dataset_test['Confirmation - Time'])\n",
        "\n",
        "dataset_test['Arrival at Pickup - Time']=pd.to_datetime(dataset_test['Arrival at Pickup - Time'])\n",
        "dataset_test['Pickup - Time']=pd.to_datetime(dataset_test['Pickup - Time'])"
      ],
      "execution_count": 0,
      "outputs": []
    },
    {
      "cell_type": "code",
      "metadata": {
        "id": "hkt68jvoPsCJ",
        "colab_type": "code",
        "colab": {}
      },
      "source": [
        "#In this section Hours were extracted and added to the dataframe as new columns\n",
        "#Train\n",
        "dataset_train['Placement - Hour']=dataset_train['Placement - Time'].dt.hour\n",
        "dataset_train['Confirmation - Hour']=dataset_train['Confirmation - Time'].dt.hour\n",
        "\n",
        "dataset_train['Arrival at Pickup - Hour']=dataset_train['Arrival at Pickup - Time'].dt.hour\n",
        "dataset_train['Pickup - Hour']=dataset_train['Pickup - Time'].dt.hour\n",
        "\n",
        "#Test\n",
        "dataset_test['Placement - Hour']=dataset_test['Placement - Time'].dt.hour\n",
        "dataset_test['Confirmation - Hour']=dataset_test['Confirmation - Time'].dt.hour\n",
        "\n",
        "dataset_test['Arrival at Pickup - Hour']=dataset_test['Arrival at Pickup - Time'].dt.hour\n",
        "dataset_test['Pickup - Hour']=dataset_test['Pickup - Time'].dt.hour"
      ],
      "execution_count": 0,
      "outputs": []
    },
    {
      "cell_type": "code",
      "metadata": {
        "id": "6_PKpdQEPsTr",
        "colab_type": "code",
        "colab": {}
      },
      "source": [
        "#In this section Minutes were extracted and added to the dataframe as new columns\n",
        "#Train\n",
        "dataset_train['Placement - Minutes']=dataset_train['Placement - Time'].dt.minute\n",
        "dataset_train['Confirmation - Minutes']=dataset_train['Confirmation - Time'].dt.minute\n",
        "\n",
        "dataset_train['Arrival at Pickup - Minutes']=dataset_train['Arrival at Pickup - Time'].dt.minute\n",
        "dataset_train['Pickup - Minutes']=dataset_train['Pickup - Time'].dt.minute\n",
        "\n",
        "#Test\n",
        "dataset_test['Placement - Minutes']=dataset_test['Placement - Time'].dt.minute\n",
        "dataset_test['Confirmation - Minutes']=dataset_test['Confirmation - Time'].dt.minute\n",
        "\n",
        "dataset_test['Arrival at Pickup - Minutes']=dataset_test['Arrival at Pickup - Time'].dt.minute\n",
        "dataset_test['Pickup - Minutes']=dataset_test['Pickup - Time'].dt.minute"
      ],
      "execution_count": 0,
      "outputs": []
    },
    {
      "cell_type": "code",
      "metadata": {
        "id": "-UtvdDzMPsf5",
        "colab_type": "code",
        "colab": {}
      },
      "source": [
        "#In this section Seconds were extracted and added to the dataframe as new columns\n",
        "#Train\n",
        "dataset_train['Placement - Seconds']=dataset_train['Placement - Time'].dt.second\n",
        "dataset_train['Confirmation - Seconds']=dataset_train['Confirmation - Time'].dt.second\n",
        "\n",
        "dataset_train['Arrival at Pickup - Seconds']=dataset_train['Arrival at Pickup - Time'].dt.second\n",
        "dataset_train['Pickup - Seconds']=dataset_train['Pickup - Time'].dt.second\n",
        "\n",
        "### Test\n",
        "dataset_test['Placement - Seconds']=dataset_test['Placement - Time'].dt.second\n",
        "dataset_test['Confirmation - Seconds']=dataset_test['Confirmation - Time'].dt.second\n",
        "\n",
        "dataset_test['Arrival at Pickup - Seconds']=dataset_test['Arrival at Pickup - Time'].dt.second\n",
        "dataset_test['Pickup - Seconds']=dataset_test['Pickup - Time'].dt.second"
      ],
      "execution_count": 0,
      "outputs": []
    },
    {
      "cell_type": "markdown",
      "metadata": {
        "id": "S_e6hsJNckYs",
        "colab_type": "text"
      },
      "source": [
        "## Selecting columns to be used for model training and testing "
      ]
    },
    {
      "cell_type": "code",
      "metadata": {
        "id": "QDMNmjHqP4SF",
        "colab_type": "code",
        "colab": {}
      },
      "source": [
        "X1 = dataset_train.loc[:,['Order No','Distance (KM)','Temperature','Precipitation in millimeters','Platform Type 1', 'Platform Type 2',\n",
        "       'Platform Type 3', 'Platform Type 4', 'Business', 'Personal','Placement - Hour', 'Confirmation - Hour', 'Arrival at Pickup - Hour',\n",
        "       'Pickup - Hour', 'Placement - Minutes', 'Confirmation - Minutes','Arrival at Pickup - Minutes', 'Pickup - Minutes','Placement - Seconds', 'Confirmation - Seconds','Arrival at Pickup - Seconds', 'Pickup - Seconds']]\n",
        "\n",
        "Y_train = dataset_train.loc[:,['Time from Pickup to Arrival']].values\n",
        "\n",
        "X2 = dataset_test.loc[:,['Order No','Distance (KM)','Temperature','Precipitation in millimeters','Platform Type 1', 'Platform Type 2',\n",
        "       'Platform Type 3', 'Platform Type 4', 'Business', 'Personal','Placement - Hour', 'Confirmation - Hour', 'Arrival at Pickup - Hour',\n",
        "       'Pickup - Hour', 'Placement - Minutes', 'Confirmation - Minutes','Arrival at Pickup - Minutes', 'Pickup - Minutes','Placement - Seconds', 'Confirmation - Seconds','Arrival at Pickup - Seconds', 'Pickup - Seconds']]\n",
        "\n",
        "Y_test = dataset_sample.iloc[:,-1].values"
      ],
      "execution_count": 0,
      "outputs": []
    },
    {
      "cell_type": "code",
      "metadata": {
        "id": "5noadhlFNI7k",
        "colab_type": "code",
        "colab": {}
      },
      "source": [
        "#changing the Index for both X_train & X_test Dataframes to be Order No and convert the Dataframes to Numpy arrays\n",
        "X_train = X1.set_index('Order No').values\n",
        "X_test = X2.set_index('Order No').values"
      ],
      "execution_count": 0,
      "outputs": []
    },
    {
      "cell_type": "markdown",
      "metadata": {
        "id": "7e-2ee-mNI7x",
        "colab_type": "text"
      },
      "source": [
        "## Taking care of missing values in the data sets"
      ]
    },
    {
      "cell_type": "code",
      "metadata": {
        "id": "0RzvnDxPc8q9",
        "colab_type": "code",
        "outputId": "c706a000-f703-498f-f833-7a6f3d463ae4",
        "colab": {
          "base_uri": "https://localhost:8080/",
          "height": 435
        }
      },
      "source": [
        "#check for missing Values in Train\n",
        "missing_train_values = X1.isnull().sum()\n",
        "missing_train_values"
      ],
      "execution_count": 117,
      "outputs": [
        {
          "output_type": "execute_result",
          "data": {
            "text/plain": [
              "Order No                            0\n",
              "Distance (KM)                       0\n",
              "Temperature                      4366\n",
              "Precipitation in millimeters    20649\n",
              "Platform Type 1                     0\n",
              "Platform Type 2                     0\n",
              "Platform Type 3                     0\n",
              "Platform Type 4                     0\n",
              "Business                            0\n",
              "Personal                            0\n",
              "Placement - Hour                    0\n",
              "Confirmation - Hour                 0\n",
              "Arrival at Pickup - Hour            0\n",
              "Pickup - Hour                       0\n",
              "Placement - Minutes                 0\n",
              "Confirmation - Minutes              0\n",
              "Arrival at Pickup - Minutes         0\n",
              "Pickup - Minutes                    0\n",
              "Placement - Seconds                 0\n",
              "Confirmation - Seconds              0\n",
              "Arrival at Pickup - Seconds         0\n",
              "Pickup - Seconds                    0\n",
              "dtype: int64"
            ]
          },
          "metadata": {
            "tags": []
          },
          "execution_count": 117
        }
      ]
    },
    {
      "cell_type": "code",
      "metadata": {
        "id": "E2A8DdSmdBxs",
        "colab_type": "code",
        "outputId": "0ae96e65-829e-4b3a-f494-298db2782621",
        "colab": {
          "base_uri": "https://localhost:8080/",
          "height": 435
        }
      },
      "source": [
        "#check for missing Values in Test data\n",
        "missing_test_values = X2.isnull().sum()\n",
        "missing_test_values"
      ],
      "execution_count": 118,
      "outputs": [
        {
          "output_type": "execute_result",
          "data": {
            "text/plain": [
              "Order No                           0\n",
              "Distance (KM)                      0\n",
              "Temperature                     1437\n",
              "Precipitation in millimeters    6869\n",
              "Platform Type 1                    0\n",
              "Platform Type 2                    0\n",
              "Platform Type 3                    0\n",
              "Platform Type 4                    0\n",
              "Business                           0\n",
              "Personal                           0\n",
              "Placement - Hour                   0\n",
              "Confirmation - Hour                0\n",
              "Arrival at Pickup - Hour           0\n",
              "Pickup - Hour                      0\n",
              "Placement - Minutes                0\n",
              "Confirmation - Minutes             0\n",
              "Arrival at Pickup - Minutes        0\n",
              "Pickup - Minutes                   0\n",
              "Placement - Seconds                0\n",
              "Confirmation - Seconds             0\n",
              "Arrival at Pickup - Seconds        0\n",
              "Pickup - Seconds                   0\n",
              "dtype: int64"
            ]
          },
          "metadata": {
            "tags": []
          },
          "execution_count": 118
        }
      ]
    },
    {
      "cell_type": "markdown",
      "metadata": {
        "id": "B2PPgNxhdJv9",
        "colab_type": "text"
      },
      "source": [
        "###### Temperature and Precipitation in millimeters have the the highest missing values"
      ]
    },
    {
      "cell_type": "code",
      "metadata": {
        "id": "eswMjylTNI7y",
        "colab_type": "code",
        "colab": {}
      },
      "source": [
        "from sklearn.impute import SimpleImputer\n",
        "imputer = SimpleImputer(missing_values=np.nan, strategy='most_frequent')\n",
        "imputer.fit(X_train[:,1:3],X_test[:,1:3])\n",
        "X_train[:,1:3] = imputer.transform(X_train[:,1:3])\n",
        "X_test[:,1:3] = imputer.transform(X_test[:,1:3])\n",
        "\n",
        "#The missing values of temperature and Precipitation in millimeters have been replaced with the most frequent values"
      ],
      "execution_count": 0,
      "outputs": []
    },
    {
      "cell_type": "code",
      "metadata": {
        "id": "HZTXtTVcNI72",
        "colab_type": "code",
        "outputId": "408e4486-568f-4b6e-e3b2-554a6bcdd4b5",
        "colab": {
          "base_uri": "https://localhost:8080/",
          "height": 145
        }
      },
      "source": [
        "X_train"
      ],
      "execution_count": 120,
      "outputs": [
        {
          "output_type": "execute_result",
          "data": {
            "text/plain": [
              "array([[ 4. , 20.4,  2. , ..., 10. , 47. , 30. ],\n",
              "       [16. , 26.4,  2. , ..., 21. , 22. ,  9. ],\n",
              "       [ 3. , 24.7,  2. , ..., 44. , 34. ,  3. ],\n",
              "       ...,\n",
              "       [20. , 29.2,  2. , ...,  9. , 17. , 52. ],\n",
              "       [13. , 15. ,  2. , ..., 53. , 59. , 15. ],\n",
              "       [12. , 30.9,  2. , ...,  1. , 29. , 55. ]])"
            ]
          },
          "metadata": {
            "tags": []
          },
          "execution_count": 120
        }
      ]
    },
    {
      "cell_type": "markdown",
      "metadata": {
        "id": "_ukWBaEmNI75",
        "colab_type": "text"
      },
      "source": [
        "## Exploratory Data Analysis"
      ]
    },
    {
      "cell_type": "code",
      "metadata": {
        "id": "0X3gYp-4NI77",
        "colab_type": "code",
        "outputId": "8d80a538-06c1-45d8-90a7-a93e24fe1b67",
        "colab": {
          "base_uri": "https://localhost:8080/",
          "height": 279
        }
      },
      "source": [
        "plt.scatter(X_train[:,0], Y_train, color='grey', label='Training') \n",
        "plt.scatter(X_test[:,0], Y_test, color='darkblue', label='Testing') \n",
        "plt.xlabel('Distance')\n",
        "plt.ylabel('Time of Arrival from pickup')\n",
        "plt.show()"
      ],
      "execution_count": 121,
      "outputs": [
        {
          "output_type": "display_data",
          "data": {
            "image/png": "[encoded data removed]",
            "text/plain": [
              "<Figure size 432x288 with 1 Axes>"
            ]
          },
          "metadata": {
            "tags": [],
            "needs_background": "light"
          }
        }
      ]
    },
    {
      "cell_type": "code",
      "metadata": {
        "id": "AneOhQnVNI7-",
        "colab_type": "code",
        "outputId": "15942394-bc20-4720-c7dd-628732687aa9",
        "colab": {
          "base_uri": "https://localhost:8080/",
          "height": 337
        }
      },
      "source": [
        "plt.hist(dataset_train['Temperature'],color='grey', bins=20)  \n",
        "plt.show()"
      ],
      "execution_count": 122,
      "outputs": [
        {
          "output_type": "stream",
          "text": [
            "/usr/local/lib/python3.6/dist-packages/numpy/lib/histograms.py:839: RuntimeWarning: invalid value encountered in greater_equal\n",
            "  keep = (tmp_a >= first_edge)\n",
            "/usr/local/lib/python3.6/dist-packages/numpy/lib/histograms.py:840: RuntimeWarning: invalid value encountered in less_equal\n",
            "  keep &= (tmp_a <= last_edge)\n"
          ],
          "name": "stderr"
        },
        {
          "output_type": "display_data",
          "data": {
            "image/png": "[encoded data removed]",
            "text/plain": [
              "<Figure size 432x288 with 1 Axes>"
            ]
          },
          "metadata": {
            "tags": [],
            "needs_background": "light"
          }
        }
      ]
    },
    {
      "cell_type": "markdown",
      "metadata": {
        "id": "AEUR8NevbIUa",
        "colab_type": "text"
      },
      "source": [
        "##### The mean temperature at the time of order placement is 25 Degrees Celsius "
      ]
    },
    {
      "cell_type": "code",
      "metadata": {
        "id": "xONzsaJHWWOk",
        "colab_type": "code",
        "colab": {
          "base_uri": "https://localhost:8080/",
          "height": 1000
        },
        "outputId": "e019d12c-2440-4d38-e7c7-b1d6c602ed8e"
      },
      "source": [
        "var"
      ],
      "execution_count": 123,
      "outputs": [
        {
          "output_type": "execute_result",
          "data": {
            "text/html": [
              "<div>\n",
              "<style scoped>\n",
              "    .dataframe tbody tr th:only-of-type {\n",
              "        vertical-align: middle;\n",
              "    }\n",
              "\n",
              "    .dataframe tbody tr th {\n",
              "        vertical-align: top;\n",
              "    }\n",
              "\n",
              "    .dataframe thead th {\n",
              "        text-align: right;\n",
              "    }\n",
              "</style>\n",
              "<table border=\"1\" class=\"dataframe\">\n",
              "  <thead>\n",
              "    <tr style=\"text-align: right;\">\n",
              "      <th></th>\n",
              "      <th>Order No</th>\n",
              "      <th>Unique number identifying the order</th>\n",
              "    </tr>\n",
              "  </thead>\n",
              "  <tbody>\n",
              "    <tr>\n",
              "      <th>0</th>\n",
              "      <td>User Id</td>\n",
              "      <td>Unique number identifying the customer on a pl...</td>\n",
              "    </tr>\n",
              "    <tr>\n",
              "      <th>1</th>\n",
              "      <td>Vehicle Type</td>\n",
              "      <td>For this competition limited to bikes, however...</td>\n",
              "    </tr>\n",
              "    <tr>\n",
              "      <th>2</th>\n",
              "      <td>Platform Type</td>\n",
              "      <td>Platform used to place the order, there are 4 ...</td>\n",
              "    </tr>\n",
              "    <tr>\n",
              "      <th>3</th>\n",
              "      <td>Personal or Business</td>\n",
              "      <td>Customer type</td>\n",
              "    </tr>\n",
              "    <tr>\n",
              "      <th>4</th>\n",
              "      <td>Placement - Day of Month</td>\n",
              "      <td>Placement - Day of Month i.e 1-31</td>\n",
              "    </tr>\n",
              "    <tr>\n",
              "      <th>5</th>\n",
              "      <td>Placement - Weekday (Mo = 1)</td>\n",
              "      <td>Placement - Weekday (Monday = 1)</td>\n",
              "    </tr>\n",
              "    <tr>\n",
              "      <th>6</th>\n",
              "      <td>Placement - Time</td>\n",
              "      <td>Placement - Time - Time of day the order was p...</td>\n",
              "    </tr>\n",
              "    <tr>\n",
              "      <th>7</th>\n",
              "      <td>Confirmation - Day of Month</td>\n",
              "      <td>Confirmation - Day of Month i.e 1-31</td>\n",
              "    </tr>\n",
              "    <tr>\n",
              "      <th>8</th>\n",
              "      <td>Confirmation - Weekday (Mo = 1)</td>\n",
              "      <td>Confirmation - Weekday (Monday = 1)</td>\n",
              "    </tr>\n",
              "    <tr>\n",
              "      <th>9</th>\n",
              "      <td>Confirmation - Time</td>\n",
              "      <td>Confirmation - Time - Time of day the order wa...</td>\n",
              "    </tr>\n",
              "    <tr>\n",
              "      <th>10</th>\n",
              "      <td>Arrival at Pickup - Day of Month</td>\n",
              "      <td>Arrival at Pickup - Day of Month i.e 1-31</td>\n",
              "    </tr>\n",
              "    <tr>\n",
              "      <th>11</th>\n",
              "      <td>Arrival at Pickup - Weekday (Mo = 1)</td>\n",
              "      <td>Arrival at Pickup - Weekday (Monday = 1)</td>\n",
              "    </tr>\n",
              "    <tr>\n",
              "      <th>12</th>\n",
              "      <td>Arrival at Pickup - Time</td>\n",
              "      <td>Time of day the the rider arrived at the locat...</td>\n",
              "    </tr>\n",
              "    <tr>\n",
              "      <th>13</th>\n",
              "      <td>Pickup - Day of Month</td>\n",
              "      <td>Pickup - Day of Month i.e 1-31</td>\n",
              "    </tr>\n",
              "    <tr>\n",
              "      <th>14</th>\n",
              "      <td>Pickup - Weekday (Mo = 1)</td>\n",
              "      <td>Pickup - Weekday (Monday = 1)</td>\n",
              "    </tr>\n",
              "    <tr>\n",
              "      <th>15</th>\n",
              "      <td>Pickup - Time</td>\n",
              "      <td>Pickup - Time - Time of day the the rider pick...</td>\n",
              "    </tr>\n",
              "    <tr>\n",
              "      <th>16</th>\n",
              "      <td>Arrival at Destination - Day of Month</td>\n",
              "      <td>Arrival at Delivery - Day of Month i.e 1-31</td>\n",
              "    </tr>\n",
              "    <tr>\n",
              "      <th>17</th>\n",
              "      <td>Arrival at Destination - Weekday (Mo = 1)</td>\n",
              "      <td>Arrival at Delivery - Weekday (Monday = 1)</td>\n",
              "    </tr>\n",
              "    <tr>\n",
              "      <th>18</th>\n",
              "      <td>Arrival at Destination - Time</td>\n",
              "      <td>Arrival at Delivery Time - Time of day the rid...</td>\n",
              "    </tr>\n",
              "    <tr>\n",
              "      <th>19</th>\n",
              "      <td>Distance (KM)</td>\n",
              "      <td>The distance from Pickup to Destination</td>\n",
              "    </tr>\n",
              "    <tr>\n",
              "      <th>20</th>\n",
              "      <td>Temperature</td>\n",
              "      <td>Temperature at the time of order placement in ...</td>\n",
              "    </tr>\n",
              "    <tr>\n",
              "      <th>21</th>\n",
              "      <td>Precipitation in millimeters</td>\n",
              "      <td>Precipitation at the time of order placement ...</td>\n",
              "    </tr>\n",
              "    <tr>\n",
              "      <th>22</th>\n",
              "      <td>Pickup Lat</td>\n",
              "      <td>Latitude of pick up location</td>\n",
              "    </tr>\n",
              "    <tr>\n",
              "      <th>23</th>\n",
              "      <td>Pickup Long</td>\n",
              "      <td>Longitude of pick up location</td>\n",
              "    </tr>\n",
              "    <tr>\n",
              "      <th>24</th>\n",
              "      <td>Destination Lat</td>\n",
              "      <td>Latitude of delivery location</td>\n",
              "    </tr>\n",
              "    <tr>\n",
              "      <th>25</th>\n",
              "      <td>Destination Long</td>\n",
              "      <td>Longitude of delivery location</td>\n",
              "    </tr>\n",
              "    <tr>\n",
              "      <th>26</th>\n",
              "      <td>Rider Id</td>\n",
              "      <td>ID of the Rider who accepted the order</td>\n",
              "    </tr>\n",
              "    <tr>\n",
              "      <th>27</th>\n",
              "      <td>Time from Pickup to Arrival</td>\n",
              "      <td>Time in seconds between 'Pickup' and 'Arrival ...</td>\n",
              "    </tr>\n",
              "    <tr>\n",
              "      <th>28</th>\n",
              "      <td>NaN</td>\n",
              "      <td>NaN</td>\n",
              "    </tr>\n",
              "    <tr>\n",
              "      <th>29</th>\n",
              "      <td>Rider Metrics</td>\n",
              "      <td>NaN</td>\n",
              "    </tr>\n",
              "    <tr>\n",
              "      <th>30</th>\n",
              "      <td>Rider Id</td>\n",
              "      <td>Unique number identifying the rider (same as i...</td>\n",
              "    </tr>\n",
              "    <tr>\n",
              "      <th>31</th>\n",
              "      <td>No_Of_Orders</td>\n",
              "      <td>Number of Orders the rider has delivered</td>\n",
              "    </tr>\n",
              "    <tr>\n",
              "      <th>32</th>\n",
              "      <td>Age</td>\n",
              "      <td>Number of days since the rider delivered the f...</td>\n",
              "    </tr>\n",
              "    <tr>\n",
              "      <th>33</th>\n",
              "      <td>Average_Rating</td>\n",
              "      <td>Average rating of the rider</td>\n",
              "    </tr>\n",
              "    <tr>\n",
              "      <th>34</th>\n",
              "      <td>No_of_Ratings</td>\n",
              "      <td>Number of ratings the rider has received. Rat...</td>\n",
              "    </tr>\n",
              "  </tbody>\n",
              "</table>\n",
              "</div>"
            ],
            "text/plain": [
              "                                     Order No                Unique number identifying the order\n",
              "0                                     User Id  Unique number identifying the customer on a pl...\n",
              "1                                Vehicle Type  For this competition limited to bikes, however...\n",
              "2                               Platform Type  Platform used to place the order, there are 4 ...\n",
              "3                        Personal or Business                                      Customer type\n",
              "4                    Placement - Day of Month                  Placement - Day of Month i.e 1-31\n",
              "5                Placement - Weekday (Mo = 1)                   Placement - Weekday (Monday = 1)\n",
              "6                            Placement - Time  Placement - Time - Time of day the order was p...\n",
              "7                 Confirmation - Day of Month               Confirmation - Day of Month i.e 1-31\n",
              "8             Confirmation - Weekday (Mo = 1)                Confirmation - Weekday (Monday = 1)\n",
              "9                         Confirmation - Time  Confirmation - Time - Time of day the order wa...\n",
              "10           Arrival at Pickup - Day of Month          Arrival at Pickup - Day of Month i.e 1-31\n",
              "11       Arrival at Pickup - Weekday (Mo = 1)           Arrival at Pickup - Weekday (Monday = 1)\n",
              "12                   Arrival at Pickup - Time  Time of day the the rider arrived at the locat...\n",
              "13                      Pickup - Day of Month                     Pickup - Day of Month i.e 1-31\n",
              "14                  Pickup - Weekday (Mo = 1)                      Pickup - Weekday (Monday = 1)\n",
              "15                              Pickup - Time  Pickup - Time - Time of day the the rider pick...\n",
              "16      Arrival at Destination - Day of Month        Arrival at Delivery - Day of Month i.e 1-31\n",
              "17  Arrival at Destination - Weekday (Mo = 1)         Arrival at Delivery - Weekday (Monday = 1)\n",
              "18              Arrival at Destination - Time  Arrival at Delivery Time - Time of day the rid...\n",
              "19                              Distance (KM)            The distance from Pickup to Destination\n",
              "20                                Temperature  Temperature at the time of order placement in ...\n",
              "21               Precipitation in millimeters   Precipitation at the time of order placement ...\n",
              "22                                 Pickup Lat                       Latitude of pick up location\n",
              "23                                Pickup Long                      Longitude of pick up location\n",
              "24                            Destination Lat                      Latitude of delivery location\n",
              "25                           Destination Long                     Longitude of delivery location\n",
              "26                                   Rider Id             ID of the Rider who accepted the order\n",
              "27                Time from Pickup to Arrival  Time in seconds between 'Pickup' and 'Arrival ...\n",
              "28                                        NaN                                                NaN\n",
              "29                              Rider Metrics                                                NaN\n",
              "30                                   Rider Id  Unique number identifying the rider (same as i...\n",
              "31                               No_Of_Orders           Number of Orders the rider has delivered\n",
              "32                                        Age  Number of days since the rider delivered the f...\n",
              "33                             Average_Rating                        Average rating of the rider\n",
              "34                              No_of_Ratings   Number of ratings the rider has received. Rat..."
            ]
          },
          "metadata": {
            "tags": []
          },
          "execution_count": 123
        }
      ]
    },
    {
      "cell_type": "code",
      "metadata": {
        "id": "jfNOIBnhI8dk",
        "colab_type": "code",
        "colab": {
          "base_uri": "https://localhost:8080/",
          "height": 265
        },
        "outputId": "15a751fa-1e7c-4b82-d32d-efbd627eb6c0"
      },
      "source": [
        "plt.hist(dataset_train['Distance (KM)'],color='grey', bins=10)  \n",
        "plt.show()"
      ],
      "execution_count": 124,
      "outputs": [
        {
          "output_type": "display_data",
          "data": {
            "image/png": "[encoded data removed]",
            "text/plain": [
              "<Figure size 432x288 with 1 Axes>"
            ]
          },
          "metadata": {
            "tags": [],
            "needs_background": "light"
          }
        }
      ]
    },
    {
      "cell_type": "markdown",
      "metadata": {
        "id": "d9rc0amAcJyM",
        "colab_type": "text"
      },
      "source": [
        "##### The longest distance from  from Pickup to Destination is 10Km "
      ]
    },
    {
      "cell_type": "code",
      "metadata": {
        "id": "JwVbwMBYJs5L",
        "colab_type": "code",
        "colab": {
          "base_uri": "https://localhost:8080/",
          "height": 392
        },
        "outputId": "a82a9a05-3319-4fae-c773-3d70fce49b6c"
      },
      "source": [
        "plt.hist(dataset_train['Precipitation in millimeters'],color='grey',density=False, bins=10)  \n"
      ],
      "execution_count": 125,
      "outputs": [
        {
          "output_type": "stream",
          "text": [
            "/usr/local/lib/python3.6/dist-packages/numpy/lib/histograms.py:839: RuntimeWarning: invalid value encountered in greater_equal\n",
            "  keep = (tmp_a >= first_edge)\n",
            "/usr/local/lib/python3.6/dist-packages/numpy/lib/histograms.py:840: RuntimeWarning: invalid value encountered in less_equal\n",
            "  keep &= (tmp_a <= last_edge)\n"
          ],
          "name": "stderr"
        },
        {
          "output_type": "execute_result",
          "data": {
            "text/plain": [
              "(array([449.,  68.,   0.,   0.,   5.,  15.,   0.,   0.,   6.,   9.]),\n",
              " array([ 0.1, 10. , 19.9, 29.8, 39.7, 49.6, 59.5, 69.4, 79.3, 89.2, 99.1]),\n",
              " <a list of 10 Patch objects>)"
            ]
          },
          "metadata": {
            "tags": []
          },
          "execution_count": 125
        },
        {
          "output_type": "display_data",
          "data": {
            "image/png": "[encoded data removed]",
            "text/plain": [
              "<Figure size 432x288 with 1 Axes>"
            ]
          },
          "metadata": {
            "tags": [],
            "needs_background": "light"
          }
        }
      ]
    },
    {
      "cell_type": "markdown",
      "metadata": {
        "id": "zfdfbb70dxAv",
        "colab_type": "text"
      },
      "source": [
        "#### The most common level of precipitation at the time of order placement was less than 20ml"
      ]
    },
    {
      "cell_type": "code",
      "metadata": {
        "id": "cWcRYZIuKVUa",
        "colab_type": "code",
        "colab": {
          "base_uri": "https://localhost:8080/",
          "height": 280
        },
        "outputId": "e29b9794-2e29-4394-ba60-a26bd5b69b77"
      },
      "source": [
        "dataset_train['Arrival at Pickup - Weekday (Mo = 1)'].value_counts().plot(kind='bar')\n",
        "#plt.hist(dataset_train['Arrival at Pickup - Weekday (Mo = 1)'], color='grey', label='Training',bins=10,histtype='bar')"
      ],
      "execution_count": 126,
      "outputs": [
        {
          "output_type": "execute_result",
          "data": {
            "text/plain": [
              "<matplotlib.axes._subplots.AxesSubplot at 0x7efec85ddc50>"
            ]
          },
          "metadata": {
            "tags": []
          },
          "execution_count": 126
        },
        {
          "output_type": "display_data",
          "data": {
            "image/png": "[encoded data removed]",
            "text/plain": [
              "<Figure size 432x288 with 1 Axes>"
            ]
          },
          "metadata": {
            "tags": [],
            "needs_background": "light"
          }
        }
      ]
    },
    {
      "cell_type": "markdown",
      "metadata": {
        "id": "Fz1iQ7Hxe_J7",
        "colab_type": "text"
      },
      "source": [
        "#### From the graph, it is evident that Most dirvers arrive at the loaction of the pickup during weekdays compared to weekends. consequently, It can be deduced that  weekends are not busy compared to weekddays."
      ]
    },
    {
      "cell_type": "code",
      "metadata": {
        "id": "LHFKFCzgWLyU",
        "colab_type": "code",
        "colab": {
          "base_uri": "https://localhost:8080/",
          "height": 280
        },
        "outputId": "86a65b73-3308-45a7-c337-037bc434ae88"
      },
      "source": [
        "dataset_train['Arrival at Destination - Weekday (Mo = 1)'].value_counts().plot(kind='bar')"
      ],
      "execution_count": 127,
      "outputs": [
        {
          "output_type": "execute_result",
          "data": {
            "text/plain": [
              "<matplotlib.axes._subplots.AxesSubplot at 0x7efee6421eb8>"
            ]
          },
          "metadata": {
            "tags": []
          },
          "execution_count": 127
        },
        {
          "output_type": "display_data",
          "data": {
            "image/png": "[encoded data removed]",
            "text/plain": [
              "<Figure size 432x288 with 1 Axes>"
            ]
          },
          "metadata": {
            "tags": [],
            "needs_background": "light"
          }
        }
      ]
    },
    {
      "cell_type": "markdown",
      "metadata": {
        "id": "cnEzmv0MgXjI",
        "colab_type": "text"
      },
      "source": [
        "#### The graph shows that deliveries tend to reach the denstination during weekdays with Thursday being the most frequent day.  "
      ]
    },
    {
      "cell_type": "code",
      "metadata": {
        "id": "_Ovwr28sKtY3",
        "colab_type": "code",
        "colab": {
          "base_uri": "https://localhost:8080/",
          "height": 318
        },
        "outputId": "2abee46c-35cd-4353-8c12-a9440e8c4c7a"
      },
      "source": [
        "dataset_train['Personal or Business'].value_counts().plot(kind='bar')"
      ],
      "execution_count": 136,
      "outputs": [
        {
          "output_type": "execute_result",
          "data": {
            "text/plain": [
              "<matplotlib.axes._subplots.AxesSubplot at 0x7efee6386a90>"
            ]
          },
          "metadata": {
            "tags": []
          },
          "execution_count": 136
        },
        {
          "output_type": "display_data",
          "data": {
            "image/png": "[encoded data removed]",
            "text/plain": [
              "<Figure size 432x288 with 1 Axes>"
            ]
          },
          "metadata": {
            "tags": [],
            "needs_background": "light"
          }
        }
      ]
    },
    {
      "cell_type": "code",
      "metadata": {
        "id": "fRlqmhq6MX4c",
        "colab_type": "code",
        "colab": {
          "base_uri": "https://localhost:8080/",
          "height": 280
        },
        "outputId": "8c756ddb-7d1d-45be-8ea5-73b892a41954"
      },
      "source": [
        "dataset_train['Platform Type'].value_counts().plot(kind='bar')"
      ],
      "execution_count": 137,
      "outputs": [
        {
          "output_type": "execute_result",
          "data": {
            "text/plain": [
              "<matplotlib.axes._subplots.AxesSubplot at 0x7efec85c32e8>"
            ]
          },
          "metadata": {
            "tags": []
          },
          "execution_count": 137
        },
        {
          "output_type": "display_data",
          "data": {
            "image/png": "[encoded data removed]",
            "text/plain": [
              "<Figure size 432x288 with 1 Axes>"
            ]
          },
          "metadata": {
            "tags": [],
            "needs_background": "light"
          }
        }
      ]
    },
    {
      "cell_type": "code",
      "metadata": {
        "id": "TqDLyWbyMf2N",
        "colab_type": "code",
        "colab": {}
      },
      "source": [
        ""
      ],
      "execution_count": 0,
      "outputs": []
    },
    {
      "cell_type": "markdown",
      "metadata": {
        "id": "BgBfGuLJNI8B",
        "colab_type": "text"
      },
      "source": [
        "## Feature Scaling of the training and test data set"
      ]
    },
    {
      "cell_type": "code",
      "metadata": {
        "id": "WPnFQkgiNI8C",
        "colab_type": "code",
        "colab": {}
      },
      "source": [
        "from sklearn.preprocessing import StandardScaler\n",
        "sc = StandardScaler()\n",
        "X_train[:,:] = sc.fit_transform(X_train[:,:])\n",
        "X_test[:,:] = sc.transform(X_test[:,:])"
      ],
      "execution_count": 0,
      "outputs": []
    },
    {
      "cell_type": "code",
      "metadata": {
        "id": "3k8sX42ENI8F",
        "colab_type": "code",
        "colab": {}
      },
      "source": [
        "X_train"
      ],
      "execution_count": 0,
      "outputs": []
    },
    {
      "cell_type": "markdown",
      "metadata": {
        "id": "TNfWS9lqNI8J",
        "colab_type": "text"
      },
      "source": [
        "# **Training the Individual Models**"
      ]
    },
    {
      "cell_type": "markdown",
      "metadata": {
        "id": "mMrPfF5IeOvY",
        "colab_type": "text"
      },
      "source": [
        "## Linear Regression"
      ]
    },
    {
      "cell_type": "code",
      "metadata": {
        "id": "0zQNkVcmNI8J",
        "colab_type": "code",
        "colab": {}
      },
      "source": [
        "from sklearn.linear_model import LinearRegression\n",
        "regressor = LinearRegression()\n",
        "regressor.fit(X_train,Y_train)"
      ],
      "execution_count": 0,
      "outputs": []
    },
    {
      "cell_type": "code",
      "metadata": {
        "id": "2TRuOCXeNI8N",
        "colab_type": "code",
        "colab": {}
      },
      "source": [
        "beta_0 = float(regressor.intercept_)"
      ],
      "execution_count": 0,
      "outputs": []
    },
    {
      "cell_type": "code",
      "metadata": {
        "id": "j83xuP7LNI8Q",
        "colab_type": "code",
        "outputId": "ae03a4f9-6912-45db-d14e-b79e1d4fe221",
        "colab": {
          "base_uri": "https://localhost:8080/",
          "height": 35
        }
      },
      "source": [
        "print(beta_0)"
      ],
      "execution_count": 129,
      "outputs": [
        {
          "output_type": "stream",
          "text": [
            "1556.9209471251343\n"
          ],
          "name": "stdout"
        }
      ]
    },
    {
      "cell_type": "code",
      "metadata": {
        "id": "0xITmNCnNI8U",
        "colab_type": "code",
        "colab": {}
      },
      "source": [
        "#predicting y using the X_test\n",
        "y_pred = regressor.predict(X_test)"
      ],
      "execution_count": 0,
      "outputs": []
    },
    {
      "cell_type": "code",
      "metadata": {
        "id": "dWvIyVErNI8X",
        "colab_type": "code",
        "outputId": "b4305c92-735e-4f88-f0fc-72c7eb5602e0",
        "colab": {
          "base_uri": "https://localhost:8080/",
          "height": 145
        }
      },
      "source": [
        "#comparing the y_pred with the actual Y values\n",
        "np.set_printoptions(precision=2)\n",
        "print(np.concatenate((y_pred.reshape(len(y_pred),1), Y_test.reshape(len(Y_test),1)),1))"
      ],
      "execution_count": 131,
      "outputs": [
        {
          "output_type": "stream",
          "text": [
            "[[14561.21   567.  ]\n",
            " [ -936.28  4903.  ]\n",
            " [ 2679.02  5649.  ]\n",
            " ...\n",
            " [  650.26      nan]\n",
            " [14831.47      nan]\n",
            " [17000.39      nan]]\n"
          ],
          "name": "stdout"
        }
      ]
    },
    {
      "cell_type": "code",
      "metadata": {
        "id": "ydJFfzkkNI8a",
        "colab_type": "code",
        "colab": {}
      },
      "source": [
        "#create a dataframe containing the expected outputs for Submission\n",
        "x = pd.DataFrame(y_pred)\n",
        "x = round(x,2)\n",
        "X2['Time from Pickup to Arrival'] = x\n",
        "predicted = X2[['Order No','Time from Pickup to Arrival']]"
      ],
      "execution_count": 0,
      "outputs": []
    },
    {
      "cell_type": "code",
      "metadata": {
        "id": "7ixY-VaENI8d",
        "colab_type": "code",
        "outputId": "3b7d2b08-dd39-4005-95a4-db13576e24f4",
        "colab": {
          "base_uri": "https://localhost:8080/",
          "height": 407
        }
      },
      "source": [
        "predicted"
      ],
      "execution_count": 133,
      "outputs": [
        {
          "output_type": "execute_result",
          "data": {
            "text/html": [
              "<div>\n",
              "<style scoped>\n",
              "    .dataframe tbody tr th:only-of-type {\n",
              "        vertical-align: middle;\n",
              "    }\n",
              "\n",
              "    .dataframe tbody tr th {\n",
              "        vertical-align: top;\n",
              "    }\n",
              "\n",
              "    .dataframe thead th {\n",
              "        text-align: right;\n",
              "    }\n",
              "</style>\n",
              "<table border=\"1\" class=\"dataframe\">\n",
              "  <thead>\n",
              "    <tr style=\"text-align: right;\">\n",
              "      <th></th>\n",
              "      <th>Order No</th>\n",
              "      <th>Time from Pickup to Arrival</th>\n",
              "    </tr>\n",
              "  </thead>\n",
              "  <tbody>\n",
              "    <tr>\n",
              "      <th>0</th>\n",
              "      <td>Order_No_19248</td>\n",
              "      <td>14561.21</td>\n",
              "    </tr>\n",
              "    <tr>\n",
              "      <th>1</th>\n",
              "      <td>Order_No_12736</td>\n",
              "      <td>-936.28</td>\n",
              "    </tr>\n",
              "    <tr>\n",
              "      <th>2</th>\n",
              "      <td>Order_No_768</td>\n",
              "      <td>2679.02</td>\n",
              "    </tr>\n",
              "    <tr>\n",
              "      <th>3</th>\n",
              "      <td>Order_No_15332</td>\n",
              "      <td>-4371.79</td>\n",
              "    </tr>\n",
              "    <tr>\n",
              "      <th>4</th>\n",
              "      <td>Order_No_21373</td>\n",
              "      <td>6089.13</td>\n",
              "    </tr>\n",
              "    <tr>\n",
              "      <th>...</th>\n",
              "      <td>...</td>\n",
              "      <td>...</td>\n",
              "    </tr>\n",
              "    <tr>\n",
              "      <th>7063</th>\n",
              "      <td>Order_No_3612</td>\n",
              "      <td>3787.55</td>\n",
              "    </tr>\n",
              "    <tr>\n",
              "      <th>7064</th>\n",
              "      <td>Order_No_7657</td>\n",
              "      <td>14507.02</td>\n",
              "    </tr>\n",
              "    <tr>\n",
              "      <th>7065</th>\n",
              "      <td>Order_No_1969</td>\n",
              "      <td>650.26</td>\n",
              "    </tr>\n",
              "    <tr>\n",
              "      <th>7066</th>\n",
              "      <td>Order_No_10591</td>\n",
              "      <td>14831.47</td>\n",
              "    </tr>\n",
              "    <tr>\n",
              "      <th>7067</th>\n",
              "      <td>Order_No_1603</td>\n",
              "      <td>17000.39</td>\n",
              "    </tr>\n",
              "  </tbody>\n",
              "</table>\n",
              "<p>7068 rows × 2 columns</p>\n",
              "</div>"
            ],
            "text/plain": [
              "            Order No  Time from Pickup to Arrival\n",
              "0     Order_No_19248                     14561.21\n",
              "1     Order_No_12736                      -936.28\n",
              "2       Order_No_768                      2679.02\n",
              "3     Order_No_15332                     -4371.79\n",
              "4     Order_No_21373                      6089.13\n",
              "...              ...                          ...\n",
              "7063   Order_No_3612                      3787.55\n",
              "7064   Order_No_7657                     14507.02\n",
              "7065   Order_No_1969                       650.26\n",
              "7066  Order_No_10591                     14831.47\n",
              "7067   Order_No_1603                     17000.39\n",
              "\n",
              "[7068 rows x 2 columns]"
            ]
          },
          "metadata": {
            "tags": []
          },
          "execution_count": 133
        }
      ]
    },
    {
      "cell_type": "code",
      "metadata": {
        "id": "uByPp-NCNI8g",
        "colab_type": "code",
        "colab": {}
      },
      "source": [
        "#save the results as the .csv file\n",
        "predicted.to_csv('predicted_time.csv',index=False)"
      ],
      "execution_count": 0,
      "outputs": []
    },
    {
      "cell_type": "code",
      "metadata": {
        "id": "G92jGV6HZNd9",
        "colab_type": "code",
        "colab": {}
      },
      "source": [
        ""
      ],
      "execution_count": 0,
      "outputs": []
    }
  ]
}